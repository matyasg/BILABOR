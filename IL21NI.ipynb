{
 "cells": [
  {
   "cell_type": "markdown",
   "metadata": {
    "toc": "true"
   },
   "source": [
    "# Table of Contents\n",
    " <p><div class=\"lev1 toc-item\"><a href=\"#YOUR-NAME-(NEPTUN)\" data-toc-modified-id=\"YOUR-NAME-(NEPTUN)-1\"><span class=\"toc-item-num\">1&nbsp;&nbsp;</span>YOUR NAME (NEPTUN)</a></div><div class=\"lev1 toc-item\"><a href=\"#Business-Intelligence---Pandas\" data-toc-modified-id=\"Business-Intelligence---Pandas-2\"><span class=\"toc-item-num\">2&nbsp;&nbsp;</span>Business Intelligence - Pandas</a></div><div class=\"lev1 toc-item\"><a href=\"#Important-steps-before-starting-anything\" data-toc-modified-id=\"Important-steps-before-starting-anything-3\"><span class=\"toc-item-num\">3&nbsp;&nbsp;</span>Important steps before starting anything</a></div><div class=\"lev2 toc-item\"><a href=\"#General-information\" data-toc-modified-id=\"General-information-31\"><span class=\"toc-item-num\">3.1&nbsp;&nbsp;</span>General information</a></div><div class=\"lev3 toc-item\"><a href=\"#Submission\" data-toc-modified-id=\"Submission-311\"><span class=\"toc-item-num\">3.1.1&nbsp;&nbsp;</span>Submission</a></div><div class=\"lev3 toc-item\"><a href=\"#Tips\" data-toc-modified-id=\"Tips-312\"><span class=\"toc-item-num\">3.1.2&nbsp;&nbsp;</span>Tips</a></div><div class=\"lev3 toc-item\"><a href=\"#Credits\" data-toc-modified-id=\"Credits-313\"><span class=\"toc-item-num\">3.1.3&nbsp;&nbsp;</span>Credits</a></div><div class=\"lev3 toc-item\"><a href=\"#Feedback\" data-toc-modified-id=\"Feedback-314\"><span class=\"toc-item-num\">3.1.4&nbsp;&nbsp;</span>Feedback</a></div><div class=\"lev2 toc-item\"><a href=\"#Code-quality\" data-toc-modified-id=\"Code-quality-32\"><span class=\"toc-item-num\">3.2&nbsp;&nbsp;</span>Code quality</a></div><div class=\"lev2 toc-item\"><a href=\"#PEP8-style-guide\" data-toc-modified-id=\"PEP8-style-guide-33\"><span class=\"toc-item-num\">3.3&nbsp;&nbsp;</span>PEP8 style guide</a></div><div class=\"lev2 toc-item\"><a href=\"#Figure-quality\" data-toc-modified-id=\"Figure-quality-34\"><span class=\"toc-item-num\">3.4&nbsp;&nbsp;</span>Figure quality</a></div><div class=\"lev1 toc-item\"><a href=\"#Main-imports\" data-toc-modified-id=\"Main-imports-4\"><span class=\"toc-item-num\">4&nbsp;&nbsp;</span>Main imports</a></div><div class=\"lev3 toc-item\"><a href=\"#downloading-the-dataset\" data-toc-modified-id=\"downloading-the-dataset-401\"><span class=\"toc-item-num\">4.0.1&nbsp;&nbsp;</span>downloading the dataset</a></div><div class=\"lev1 toc-item\"><a href=\"#Loading-the-dataset\" data-toc-modified-id=\"Loading-the-dataset-5\"><span class=\"toc-item-num\">5&nbsp;&nbsp;</span>Loading the dataset</a></div><div class=\"lev1 toc-item\"><a href=\"#Normalizing-the-dataset\" data-toc-modified-id=\"Normalizing-the-dataset-6\"><span class=\"toc-item-num\">6&nbsp;&nbsp;</span>Normalizing the dataset</a></div><div class=\"lev2 toc-item\"><a href=\"#the-.dt-and-the-.str-namespaces\" data-toc-modified-id=\"the-.dt-and-the-.str-namespaces-61\"><span class=\"toc-item-num\">6.1&nbsp;&nbsp;</span>the <code>.dt</code> and the <code>.str</code> namespaces</a></div><div class=\"lev3 toc-item\"><a href=\"#.dt-namespace\" data-toc-modified-id=\".dt-namespace-611\"><span class=\"toc-item-num\">6.1.1&nbsp;&nbsp;</span><code>.dt</code> namespace</a></div><div class=\"lev3 toc-item\"><a href=\"#.str-namespace\" data-toc-modified-id=\".str-namespace-612\"><span class=\"toc-item-num\">6.1.2&nbsp;&nbsp;</span><code>.str</code> namespace</a></div><div class=\"lev2 toc-item\"><a href=\"#Let's-extract-the-release-year-of-a-movie-into-a-separate\" data-toc-modified-id=\"Let's-extract-the-release-year-of-a-movie-into-a-separate-62\"><span class=\"toc-item-num\">6.2&nbsp;&nbsp;</span>Let's extract the release year of a movie into a separate</a></div><div class=\"lev3 toc-item\"><a href=\"#the-most-common-years-are\" data-toc-modified-id=\"the-most-common-years-are-621\"><span class=\"toc-item-num\">6.2.1&nbsp;&nbsp;</span>the most common years are</a></div><div class=\"lev3 toc-item\"><a href=\"#video_release_date-is-always-NaT-(not-a-time),-let's-drop-it\" data-toc-modified-id=\"video_release_date-is-always-NaT-(not-a-time),-let's-drop-it-622\"><span class=\"toc-item-num\">6.2.2&nbsp;&nbsp;</span><code>video_release_date</code> is always <code>NaT</code> (not a time), let's drop it</a></div><div class=\"lev1 toc-item\"><a href=\"#Basic-analysis-of-the-dataset\" data-toc-modified-id=\"Basic-analysis-of-the-dataset-7\"><span class=\"toc-item-num\">7&nbsp;&nbsp;</span>Basic analysis of the dataset</a></div><div class=\"lev1 toc-item\"><a href=\"#Basic-queries\" data-toc-modified-id=\"Basic-queries-8\"><span class=\"toc-item-num\">8&nbsp;&nbsp;</span>Basic queries</a></div><div class=\"lev1 toc-item\"><a href=\"#Which-movies-were-released-in-1956?\" data-toc-modified-id=\"Which-movies-were-released-in-1956?-9\"><span class=\"toc-item-num\">9&nbsp;&nbsp;</span>Which movies were released in 1956?</a></div><div class=\"lev1 toc-item\"><a href=\"#How-many-movies-were-released-in-the-80s?\" data-toc-modified-id=\"How-many-movies-were-released-in-the-80s?-10\"><span class=\"toc-item-num\">10&nbsp;&nbsp;</span>How many movies were released in the 80s?</a></div><div class=\"lev1 toc-item\"><a href=\"#When-were-the-Die-Hard-movies-released?\" data-toc-modified-id=\"When-were-the-Die-Hard-movies-released?-11\"><span class=\"toc-item-num\">11&nbsp;&nbsp;</span>When were the Die Hard movies released?</a></div><div class=\"lev2 toc-item\"><a href=\"#How-many-movies-are-both-action-and-romance?-What-about-action-or-romance?\" data-toc-modified-id=\"How-many-movies-are-both-action-and-romance?-What-about-action-or-romance?-111\"><span class=\"toc-item-num\">11.1&nbsp;&nbsp;</span>How many movies are both action and romance? What about action or romance?</a></div><div class=\"lev1 toc-item\"><a href=\"#Problem-Set-1:-simple-queries\" data-toc-modified-id=\"Problem-Set-1:-simple-queries-12\"><span class=\"toc-item-num\">12&nbsp;&nbsp;</span>Problem Set 1: simple queries</a></div><div class=\"lev1 toc-item\"><a href=\"#Q1.1-How-many-action-movies-were-release-before-1985-and-in-1985-or-later?-(2-points)\" data-toc-modified-id=\"Q1.1-How-many-action-movies-were-release-before-1985-and-in-1985-or-later?-(2-points)-13\"><span class=\"toc-item-num\">13&nbsp;&nbsp;</span>Q1.1 How many <em>action</em> movies were release before 1985 and in 1985 or later? (2 points)</a></div><div class=\"lev1 toc-item\"><a href=\"#Q1.2-Are-there-thrillers-for-children?-Find-an-example.-(2-points)\" data-toc-modified-id=\"Q1.2-Are-there-thrillers-for-children?-Find-an-example.-(2-points)-14\"><span class=\"toc-item-num\">14&nbsp;&nbsp;</span>Q1.2 Are there thrillers for children? Find an example. (2 points)</a></div><div class=\"lev1 toc-item\"><a href=\"#Q1.3-How-many-movies-have-title-longer-than-40-characters?-(3-points)\" data-toc-modified-id=\"Q1.3-How-many-movies-have-title-longer-than-40-characters?-(3-points)-15\"><span class=\"toc-item-num\">15&nbsp;&nbsp;</span>Q1.3 How many movies have title longer than 40 characters? (3 points)</a></div><div class=\"lev1 toc-item\"><a href=\"#pd.Series.apply:-running-arbitrary-functions-on-each-element\" data-toc-modified-id=\"pd.Series.apply:-running-arbitrary-functions-on-each-element-16\"><span class=\"toc-item-num\">16&nbsp;&nbsp;</span><code>pd.Series.apply</code>: running arbitrary functions on each element</a></div><div class=\"lev1 toc-item\"><a href=\"#Q1.4*-How-many-content-words-does-the-average-title-have?-Which-title-has-the-most/least-words?\" data-toc-modified-id=\"Q1.4*-How-many-content-words-does-the-average-title-have?-Which-title-has-the-most/least-words?-17\"><span class=\"toc-item-num\">17&nbsp;&nbsp;</span>Q1.4* How many content words does the average title have? Which title has the most/least words?</a></div><div class=\"lev2 toc-item\"><a href=\"#Step-1.-Count-words-in-the-title-(2-points)\" data-toc-modified-id=\"Step-1.-Count-words-in-the-title-(2-points)-171\"><span class=\"toc-item-num\">17.1&nbsp;&nbsp;</span>Step 1. Count words in the title (2 points)</a></div><div class=\"lev2 toc-item\"><a href=\"#Step-2.-Shortest-and-longest-titles-by-word-count-(3-points)\" data-toc-modified-id=\"Step-2.-Shortest-and-longest-titles-by-word-count-(3-points)-172\"><span class=\"toc-item-num\">17.2&nbsp;&nbsp;</span>Step 2. Shortest and longest titles by word count (3 points)</a></div><div class=\"lev1 toc-item\"><a href=\"#Q1.5*-How-many-movies-have-the-word-'and'-in-their-title?-Write-a-function-that-counts-movies-with-a-particular-word.-(3-points)\" data-toc-modified-id=\"Q1.5*-How-many-movies-have-the-word-'and'-in-their-title?-Write-a-function-that-counts-movies-with-a-particular-word.-(3-points)-18\"><span class=\"toc-item-num\">18&nbsp;&nbsp;</span>Q1.5* How many movies have the word 'and' in their title? Write a function that counts movies with a particular word. (3 points)</a></div><div class=\"lev1 toc-item\"><a href=\"#Groupby-and-visualization\" data-toc-modified-id=\"Groupby-and-visualization-19\"><span class=\"toc-item-num\">19&nbsp;&nbsp;</span>Groupby and visualization</a></div><div class=\"lev3 toc-item\"><a href=\"#we-can-groupby-on-multiple-columns\" data-toc-modified-id=\"we-can-groupby-on-multiple-columns-1901\"><span class=\"toc-item-num\">19.0.1&nbsp;&nbsp;</span>we can groupby on multiple columns</a></div><div class=\"lev3 toc-item\"><a href=\"#we-can-also-group-on-arbitrary-conditions\" data-toc-modified-id=\"we-can-also-group-on-arbitrary-conditions-1902\"><span class=\"toc-item-num\">19.0.2&nbsp;&nbsp;</span>we can also group on arbitrary conditions</a></div><div class=\"lev1 toc-item\"><a href=\"#Problem-Set-2:-Groupby-and-visualization\" data-toc-modified-id=\"Problem-Set-2:-Groupby-and-visualization-20\"><span class=\"toc-item-num\">20&nbsp;&nbsp;</span>Problem Set 2: Groupby and visualization</a></div><div class=\"lev1 toc-item\"><a href=\"#Q2.1-Write-a-function-that-takes-a-genre-and-groups-movies-of-that-genre-by-year.-Do-not-include-movies-older-than-1985.--(3-points)\" data-toc-modified-id=\"Q2.1-Write-a-function-that-takes-a-genre-and-groups-movies-of-that-genre-by-year.-Do-not-include-movies-older-than-1985.--(3-points)-21\"><span class=\"toc-item-num\">21&nbsp;&nbsp;</span>Q2.1 Write a function that takes a genre and groups movies of that genre by year. Do not include movies older than 1985.  (3 points)</a></div><div class=\"lev1 toc-item\"><a href=\"#Q2.2-Plot-the-number-of-adventure-movies-from-1985-to-1999-on-a-bar-chart.-Use-your-group_genre_by_year-function.-(2-points)\" data-toc-modified-id=\"Q2.2-Plot-the-number-of-adventure-movies-from-1985-to-1999-on-a-bar-chart.-Use-your-group_genre_by_year-function.-(2-points)-22\"><span class=\"toc-item-num\">22&nbsp;&nbsp;</span>Q2.2 Plot the number of adventure movies from 1985 to 1999 on a <em>bar</em> chart. Use your <code>group_genre_by_year</code> function. (2 points)</a></div><div class=\"lev1 toc-item\"><a href=\"#Q2.3-Plot-the-distribution-of-release-day-(day-of-month)-on-a-pie-chart.\" data-toc-modified-id=\"Q2.3-Plot-the-distribution-of-release-day-(day-of-month)-on-a-pie-chart.-23\"><span class=\"toc-item-num\">23&nbsp;&nbsp;</span>Q2.3 Plot the distribution of release day (day of month) on a pie chart.</a></div><div class=\"lev2 toc-item\"><a href=\"#Step-1.-groupby-(2-points)\" data-toc-modified-id=\"Step-1.-groupby-(2-points)-231\"><span class=\"toc-item-num\">23.1&nbsp;&nbsp;</span>Step 1. groupby (2 points)</a></div><div class=\"lev2 toc-item\"><a href=\"#Step-2.-pie-chart.-Add-percent-values.-(3-points)\" data-toc-modified-id=\"Step-2.-pie-chart.-Add-percent-values.-(3-points)-232\"><span class=\"toc-item-num\">23.2&nbsp;&nbsp;</span>Step 2. pie chart. Add percent values. (3 points)</a></div><div class=\"lev1 toc-item\"><a href=\"#Q2.4-We're-building-a-traditional-lexicon-of-the-titles.-What-is-the-distribution-of-initial-letters-(i.e.-how-many-titles-start-with-S?)?-Plot-it-on-a-bar-chart.\" data-toc-modified-id=\"Q2.4-We're-building-a-traditional-lexicon-of-the-titles.-What-is-the-distribution-of-initial-letters-(i.e.-how-many-titles-start-with-S?)?-Plot-it-on-a-bar-chart.-24\"><span class=\"toc-item-num\">24&nbsp;&nbsp;</span>Q2.4 We're building a traditional lexicon of the titles. What is the distribution of initial letters (i.e. how many titles start with S?)? Plot it on a bar chart.</a></div><div class=\"lev2 toc-item\"><a href=\"#Step-1.-Compute-frequencies.-(3-points)\" data-toc-modified-id=\"Step-1.-Compute-frequencies.-(3-points)-241\"><span class=\"toc-item-num\">24.1&nbsp;&nbsp;</span>Step 1. Compute frequencies. (3 points)</a></div><div class=\"lev2 toc-item\"><a href=\"#Step-2.-Plot-it-on-a-bar-chart-in-descending-order.-(3-points)\" data-toc-modified-id=\"Step-2.-Plot-it-on-a-bar-chart-in-descending-order.-(3-points)-242\"><span class=\"toc-item-num\">24.2&nbsp;&nbsp;</span>Step 2. Plot it on a bar chart in descending order. (3 points)</a></div><div class=\"lev1 toc-item\"><a href=\"#Problem-Set-3.-Handling-multiple-dataframes\" data-toc-modified-id=\"Problem-Set-3.-Handling-multiple-dataframes-25\"><span class=\"toc-item-num\">25&nbsp;&nbsp;</span>Problem Set 3. Handling multiple dataframes</a></div><div class=\"lev1 toc-item\"><a href=\"#Merging-with-the-movies-dataframe\" data-toc-modified-id=\"Merging-with-the-movies-dataframe-26\"><span class=\"toc-item-num\">26&nbsp;&nbsp;</span>Merging with the movies dataframe</a></div><div class=\"lev2 toc-item\"><a href=\"#How-many-ratings-are-timestamped-before-the-release-date?\" data-toc-modified-id=\"How-many-ratings-are-timestamped-before-the-release-date?-261\"><span class=\"toc-item-num\">26.1&nbsp;&nbsp;</span>How many ratings are timestamped <em>before</em> the release date?</a></div><div class=\"lev2 toc-item\"><a href=\"#Which-movies-were-rated-before-the-release-date?\" data-toc-modified-id=\"Which-movies-were-rated-before-the-release-date?-262\"><span class=\"toc-item-num\">26.2&nbsp;&nbsp;</span>Which movies were rated before the release date?</a></div><div class=\"lev1 toc-item\"><a href=\"#Q3.1.-How-many-times-was-each-movie-rated?\" data-toc-modified-id=\"Q3.1.-How-many-times-was-each-movie-rated?-27\"><span class=\"toc-item-num\">27&nbsp;&nbsp;</span>Q3.1. How many times was each movie rated?</a></div><div class=\"lev2 toc-item\"><a href=\"#Step-1.-Compute-the-frequencies-of-movie-ratings.-Use-titles-instead-of-movie-ids.-(2-points)\" data-toc-modified-id=\"Step-1.-Compute-the-frequencies-of-movie-ratings.-Use-titles-instead-of-movie-ids.-(2-points)-271\"><span class=\"toc-item-num\">27.1&nbsp;&nbsp;</span>Step 1. Compute the frequencies of movie ratings. Use titles instead of movie ids. (2 points)</a></div><div class=\"lev2 toc-item\"><a href=\"#Step-2.-Plot-the-frequencies-on-a-histogram.-(2-points)\" data-toc-modified-id=\"Step-2.-Plot-the-frequencies-on-a-histogram.-(2-points)-272\"><span class=\"toc-item-num\">27.2&nbsp;&nbsp;</span>Step 2. Plot the frequencies on a histogram. (2 points)</a></div><div class=\"lev1 toc-item\"><a href=\"#Q3.2.-How-many-ratings-were-submitted-by-each-day-of-the-week?-What-were-their-averages?\" data-toc-modified-id=\"Q3.2.-How-many-ratings-were-submitted-by-each-day-of-the-week?-What-were-their-averages?-28\"><span class=\"toc-item-num\">28&nbsp;&nbsp;</span>Q3.2. How many ratings were submitted by each day of the week? What were their averages?</a></div><div class=\"lev2 toc-item\"><a href=\"#Step-1.-groupby-(3-points)\" data-toc-modified-id=\"Step-1.-groupby-(3-points)-281\"><span class=\"toc-item-num\">28.1&nbsp;&nbsp;</span>Step 1. groupby (3 points)</a></div><div class=\"lev2 toc-item\"><a href=\"#Step-2.-number-of-ratings-per-day-(2-points)\" data-toc-modified-id=\"Step-2.-number-of-ratings-per-day-(2-points)-282\"><span class=\"toc-item-num\">28.2&nbsp;&nbsp;</span>Step 2. number of ratings per day (2 points)</a></div><div class=\"lev2 toc-item\"><a href=\"#Step-3.-mean-rating-by-day-(2-points)\" data-toc-modified-id=\"Step-3.-mean-rating-by-day-(2-points)-283\"><span class=\"toc-item-num\">28.3&nbsp;&nbsp;</span>Step 3. mean rating by day (2 points)</a></div><div class=\"lev1 toc-item\"><a href=\"#Q3.3**-What-is-the-mean-of-ratings-by-genre?\" data-toc-modified-id=\"Q3.3**-What-is-the-mean-of-ratings-by-genre?-29\"><span class=\"toc-item-num\">29&nbsp;&nbsp;</span>Q3.3** What is the mean of ratings by genre?</a></div><div class=\"lev2 toc-item\"><a href=\"#Step-1.-Compute-the-mean-scores.-(5-points)\" data-toc-modified-id=\"Step-1.-Compute-the-mean-scores.-(5-points)-291\"><span class=\"toc-item-num\">29.1&nbsp;&nbsp;</span>Step 1. Compute the mean scores. (5 points)</a></div><div class=\"lev2 toc-item\"><a href=\"#Step-2.-Plot-it-on-a-bar-chart-in-descending-order-by-score.-Set-the-limits-of-the-y-axis-to-(2.5,-4).-(3-points)\" data-toc-modified-id=\"Step-2.-Plot-it-on-a-bar-chart-in-descending-order-by-score.-Set-the-limits-of-the-y-axis-to-(2.5,-4).-(3-points)-292\"><span class=\"toc-item-num\">29.2&nbsp;&nbsp;</span>Step 2. Plot it on a bar chart in descending order by score. Set the limits of the y-axis to (2.5, 4). (3 points)</a></div><div class=\"lev1 toc-item\"><a href=\"#Problem-Set-4.-User-demographics\" data-toc-modified-id=\"Problem-Set-4.-User-demographics-30\"><span class=\"toc-item-num\">30&nbsp;&nbsp;</span>Problem Set 4. User demographics</a></div><div class=\"lev1 toc-item\"><a href=\"#Q4.1-Load-the-users-table-from-the-file-u.user.-(3-points)\" data-toc-modified-id=\"Q4.1-Load-the-users-table-from-the-file-u.user.-(3-points)-31\"><span class=\"toc-item-num\">31&nbsp;&nbsp;</span>Q4.1 Load the users table from the file <code>u.user</code>. (3 points)</a></div><div class=\"lev1 toc-item\"><a href=\"#Q4.2-Merge-the-users-table-with-ratings.-Do-not-discard-any-columns.-(3-points)\" data-toc-modified-id=\"Q4.2-Merge-the-users-table-with-ratings.-Do-not-discard-any-columns.-(3-points)-32\"><span class=\"toc-item-num\">32&nbsp;&nbsp;</span>Q4.2 Merge the <code>users</code> table with <code>ratings</code>. Do not discard any columns. (3 points)</a></div><div class=\"lev1 toc-item\"><a href=\"#Q-4.3-How-strict-are-people-by-occupation?-Compute-the-average-of-ratings-by-occupation.-Plot-it-on-a-bar-chart-in-descending-order.\" data-toc-modified-id=\"Q-4.3-How-strict-are-people-by-occupation?-Compute-the-average-of-ratings-by-occupation.-Plot-it-on-a-bar-chart-in-descending-order.-33\"><span class=\"toc-item-num\">33&nbsp;&nbsp;</span>Q 4.3 How strict are people by occupation? Compute the average of ratings by occupation. Plot it on a bar chart in descending order.</a></div><div class=\"lev2 toc-item\"><a href=\"#Step-1.-Compute-the-averages-by-occupation.-(2-points)\" data-toc-modified-id=\"Step-1.-Compute-the-averages-by-occupation.-(2-points)-331\"><span class=\"toc-item-num\">33.1&nbsp;&nbsp;</span>Step 1. Compute the averages by occupation. (2 points)</a></div><div class=\"lev2 toc-item\"><a href=\"#Step-2.-Plot-it-on-a-bar-chart.-(2-points)\" data-toc-modified-id=\"Step-2.-Plot-it-on-a-bar-chart.-(2-points)-332\"><span class=\"toc-item-num\">33.2&nbsp;&nbsp;</span>Step 2. Plot it on a bar chart. (2 points)</a></div><div class=\"lev1 toc-item\"><a href=\"#Q4.4*-Plot-the-averages-by-occupation-and-gender-on-a-multiple-bar-plot.-(4-points)\" data-toc-modified-id=\"Q4.4*-Plot-the-averages-by-occupation-and-gender-on-a-multiple-bar-plot.-(4-points)-34\"><span class=\"toc-item-num\">34&nbsp;&nbsp;</span>Q4.4* Plot the averages by occupation <em>and</em> gender on a multiple bar plot. (4 points)</a></div><div class=\"lev1 toc-item\"><a href=\"#Q4.5-How-likely-are-different-age-groups-to-rate-movies?-Compute-the-number-of-ratings-by-age-grouped-into-10-19,-20-29,-etc.-Plot-it-on-a-bar-chart.\" data-toc-modified-id=\"Q4.5-How-likely-are-different-age-groups-to-rate-movies?-Compute-the-number-of-ratings-by-age-grouped-into-10-19,-20-29,-etc.-Plot-it-on-a-bar-chart.-35\"><span class=\"toc-item-num\">35&nbsp;&nbsp;</span>Q4.5 How likely are different age groups to rate movies? Compute the number of ratings by age grouped into 10-19, 20-29, etc. Plot it on a bar chart.</a></div><div class=\"lev2 toc-item\"><a href=\"#Step-1.-Number-of-ratings-by-age-group-(3-points)\" data-toc-modified-id=\"Step-1.-Number-of-ratings-by-age-group-(3-points)-351\"><span class=\"toc-item-num\">35.1&nbsp;&nbsp;</span>Step 1. Number of ratings by age group (3 points)</a></div><div class=\"lev2 toc-item\"><a href=\"#Step-2.-Plot-it-on-a-bar-chart.-(2-points)\" data-toc-modified-id=\"Step-2.-Plot-it-on-a-bar-chart.-(2-points)-352\"><span class=\"toc-item-num\">35.2&nbsp;&nbsp;</span>Step 2. Plot it on a bar chart. (2 points)</a></div><div class=\"lev1 toc-item\"><a href=\"#Q4.6-What-hour-of-the-day-do-different-occupations-rate?-(3-points)\" data-toc-modified-id=\"Q4.6-What-hour-of-the-day-do-different-occupations-rate?-(3-points)-36\"><span class=\"toc-item-num\">36&nbsp;&nbsp;</span>Q4.6 What hour of the day do different occupations rate? (3 points)</a></div><div class=\"lev2 toc-item\"><a href=\"#Create-a-function-that-computes-the-number-of-ratings-per-hour-for-a-single-occupation.\" data-toc-modified-id=\"Create-a-function-that-computes-the-number-of-ratings-per-hour-for-a-single-occupation.-361\"><span class=\"toc-item-num\">36.1&nbsp;&nbsp;</span>Create a function that computes the number of ratings per hour for a single occupation.</a></div><div class=\"lev1 toc-item\"><a href=\"#Q4.7*-Plot-the-rating-hours-of-marketing-employees-and-programmers-on-two-pie-charts.-(4-points)\" data-toc-modified-id=\"Q4.7*-Plot-the-rating-hours-of-marketing-employees-and-programmers-on-two-pie-charts.-(4-points)-37\"><span class=\"toc-item-num\">37&nbsp;&nbsp;</span>Q4.7* Plot the rating hours of marketing employees and programmers on two pie charts. (4 points)</a></div><div class=\"lev1 toc-item\"><a href=\"#Q4.8*-Do-older-people-prefer-movies-with-longer-titles?-Compute-the-average-title-length-by-age-group-(0-10,-10-20).\" data-toc-modified-id=\"Q4.8*-Do-older-people-prefer-movies-with-longer-titles?-Compute-the-average-title-length-by-age-group-(0-10,-10-20).-38\"><span class=\"toc-item-num\">38&nbsp;&nbsp;</span>Q4.8* Do older people prefer movies with longer titles? Compute the average title length by age group (0-10, 10-20).</a></div><div class=\"lev2 toc-item\"><a href=\"#Step1.-compute-mean-length-(4-points)\" data-toc-modified-id=\"Step1.-compute-mean-length-(4-points)-381\"><span class=\"toc-item-num\">38.1&nbsp;&nbsp;</span>Step1. compute mean length (4 points)</a></div><div class=\"lev2 toc-item\"><a href=\"#Step-2.-Plot-it-on-a-bar-chart.-Choose-a-reasonable-range-for-the-y-axis.-(2-points)\" data-toc-modified-id=\"Step-2.-Plot-it-on-a-bar-chart.-Choose-a-reasonable-range-for-the-y-axis.-(2-points)-382\"><span class=\"toc-item-num\">38.2&nbsp;&nbsp;</span>Step 2. Plot it on a bar chart. Choose a reasonable range for the y-axis. (2 points)</a></div><div class=\"lev1 toc-item\"><a href=\"#Problem-Set-5.-A-simple-recommendation-system\" data-toc-modified-id=\"Problem-Set-5.-A-simple-recommendation-system-39\"><span class=\"toc-item-num\">39&nbsp;&nbsp;</span>Problem Set 5. A simple recommendation system</a></div><div class=\"lev1 toc-item\"><a href=\"#Q5.1.-Extract-genre-information-as-a-matrix.-(2-points)\" data-toc-modified-id=\"Q5.1.-Extract-genre-information-as-a-matrix.-(2-points)-40\"><span class=\"toc-item-num\">40&nbsp;&nbsp;</span>Q5.1. Extract genre information as a matrix. (2 points)</a></div><div class=\"lev1 toc-item\"><a href=\"#Q5.2-Run-the-k-nearest-neighbor-algorithm-on-X.-(3-points)\" data-toc-modified-id=\"Q5.2-Run-the-k-nearest-neighbor-algorithm-on-X.-(3-points)-41\"><span class=\"toc-item-num\">41&nbsp;&nbsp;</span>Q5.2 Run the k-nearest neighbor algorithm on X. (3 points)</a></div><div class=\"lev1 toc-item\"><a href=\"#Q5.3-Increment-by-one-(3-points)\" data-toc-modified-id=\"Q5.3-Increment-by-one-(3-points)-42\"><span class=\"toc-item-num\">42&nbsp;&nbsp;</span>Q5.3 Increment by one (3 points)</a></div><div class=\"lev1 toc-item\"><a href=\"#Q5.4*-Find-the-movies-corresponding-to-these-indices-(5-points)\" data-toc-modified-id=\"Q5.4*-Find-the-movies-corresponding-to-these-indices-(5-points)-43\"><span class=\"toc-item-num\">43&nbsp;&nbsp;</span>Q5.4* Find the movies corresponding to these indices (5 points)</a></div><div class=\"lev1 toc-item\"><a href=\"#Q5.5*-Replace-the-index-of-the-movie-by-its-title.-(2-points)\" data-toc-modified-id=\"Q5.5*-Replace-the-index-of-the-movie-by-its-title.-(2-points)-44\"><span class=\"toc-item-num\">44&nbsp;&nbsp;</span>Q5.5* Replace the index of the movie by its title. (2 points)</a></div><div class=\"lev1 toc-item\"><a href=\"#Q5.6**-Improve-your-recommedation-system-by-adding-other-columns.-(5-points)\" data-toc-modified-id=\"Q5.6**-Improve-your-recommedation-system-by-adding-other-columns.-(5-points)-45\"><span class=\"toc-item-num\">45&nbsp;&nbsp;</span>Q5.6** Improve your recommedation system by adding other columns. (5 points)</a></div><div class=\"lev1 toc-item\"><a href=\"#Q6*-Extra-(3-points)\" data-toc-modified-id=\"Q6*-Extra-(3-points)-46\"><span class=\"toc-item-num\">46&nbsp;&nbsp;</span>Q6* Extra (3 points)</a></div><div class=\"lev1 toc-item\"><a href=\"#Submission\" data-toc-modified-id=\"Submission-47\"><span class=\"toc-item-num\">47&nbsp;&nbsp;</span>Submission</a></div>"
   ]
  },
  {
   "cell_type": "markdown",
   "metadata": {},
   "source": [
    "# Mátyás Gergely (IL21NI)\n",
    "\n",
    "# Business Intelligence - Pandas\n",
    "\n",
    "March 11, 2020"
   ]
  },
  {
   "cell_type": "markdown",
   "metadata": {
    "deletable": false,
    "editable": false,
    "nbgrader": {
     "cell_type": "markdown",
     "checksum": "59af427e0e875015eb6492b94ce29f3e",
     "grade": false,
     "grade_id": "cell-886c51f0e6b94dda",
     "locked": true,
     "schema_version": 3,
     "solution": false,
     "task": false
    }
   },
   "source": [
    "# Important steps before starting anything\n",
    "\n",
    "Pandas is outdated on most lab computers. Upgrading can be done via Anaconda Prompt:\n",
    "\n",
    "    conda upgrade --all\n",
    "    conda upgrade pandas\n",
    "    \n",
    "Both commands ask for confirmation, just press Enter.\n",
    "If Windows asks for any permissions, you can deny it (allowing would  require Administrator priviliges).\n",
    "\n",
    "You should not see a warning here:"
   ]
  },
  {
   "cell_type": "code",
   "execution_count": 1,
   "metadata": {},
   "outputs": [
    {
     "name": "stdout",
     "output_type": "stream",
     "text": [
      "Pandas version OK: 1.0.1\n"
     ]
    }
   ],
   "source": [
    "import pandas as pd\n",
    "if pd.__version__ < '1':\n",
    "    print(\"WARNING: Pandas version older than 1.0.0: {}\".format(pd.__version__))\n",
    "else:\n",
    "    print(\"Pandas version OK: {}\".format(pd.__version__))"
   ]
  },
  {
   "cell_type": "markdown",
   "metadata": {
    "deletable": false,
    "editable": false,
    "nbgrader": {
     "cell_type": "markdown",
     "checksum": "16c30cc4556cb1b5520cdc18723de931",
     "grade": false,
     "grade_id": "cell-11d698aeba6abdaa",
     "locked": true,
     "schema_version": 3,
     "solution": false,
     "task": false
    }
   },
   "source": [
    "## General information\n",
    "\n",
    "This goal of this notebook is to give a brief introduction to the `pandas` library, a popular data manipulation and analysis tool for Python.\n",
    "\n",
    "Problems are numbered from **Q1** to **Q5** with many subproblems such as **Q1.1**. The scores range from 2 to 5 based on the difficulty of the problem. Grades are determined using this table:\n",
    "\n",
    "| score | grade |\n",
    "| ---- | ----|\n",
    "| 80+ | 5 |\n",
    "| 60+ | 4 |\n",
    "| 40+ | 3 |\n",
    "| 20+ | 2 |\n",
    "| 20- | 1 |\n",
    "\n",
    "Your answer should go in place of `YOUR CODE HERE`. Please remove `raise NotImplementedError`.\n",
    "Most of the tasks are automatically graded using visible and hidden tests.\n",
    "Visible tests are available in this version, hidden tests are not available to you.\n",
    "This means that passing all visible tests does not ensure that your answer is correct.\n",
    "Not passing the visible tests means that your answer is incorrect.\n",
    "Do not delete or copy cells and do not edit the source code.\n",
    "You may add cells but they will not be graded.\n",
    "You will not find the hidden tests in the source code but you can mess up the autograder if you manually edit it.\n",
    "\n",
    "**VERY IMPORTANT** Do not edit cell metadata or the raw `.ipynb`. Autograde will fail if you change something carelessly.\n",
    "\n",
    "Advanced exercises are marked with \\*.\n",
    "More advanced ones have more stars.\n",
    "Some problems build on each other - it should be obvious how from the code - but advanced problems can safely be skipped.\n",
    "Completing all non-advanced exercises correctly is worth 63 points."
   ]
  },
  {
   "cell_type": "markdown",
   "metadata": {
    "deletable": false,
    "editable": false,
    "nbgrader": {
     "cell_type": "markdown",
     "checksum": "ecffa4f93fa9009e20e5ea1817b62c38",
     "grade": false,
     "grade_id": "cell-54afe2edc872869d",
     "locked": true,
     "schema_version": 3,
     "solution": false,
     "task": false
    }
   },
   "source": [
    "### Submission\n",
    "\n",
    "You only need to submit this notebook (no separate report).\n",
    "Make sure that you save the last version of your notebook.\n",
    "Please rename the notebook to your neptun code (`ABC123.ipynb`), package it in an archive (`.zip`) and upload it to the class website.\n",
    "You are free to continue working on this problem set after class but make sure that you upload it by the end of the week (Sunday).\n",
    "\n",
    "**VERY IMPORTANT** Run Kernel->Restart & Run All and make sure that it finishes without errors.\n",
    "If you skip exercises, you need to manually run the remaining cells.\n",
    "You can run a single cell and step to the next cell by pressing Shift+Enter.\n",
    "Skipping exercises won't affect the autograder."
   ]
  },
  {
   "cell_type": "markdown",
   "metadata": {
    "deletable": false,
    "editable": false,
    "nbgrader": {
     "cell_type": "markdown",
     "checksum": "99f852e93cf76c90f5eec32a0f2b2cb0",
     "grade": false,
     "grade_id": "cell-184a5c1740f4e4ef",
     "locked": true,
     "schema_version": 3,
     "solution": false,
     "task": false
    }
   },
   "source": [
    "### Tips\n",
    "\n",
    "You generally don't need to leave any DataFrames printed as cell outputs. You can do it for debug purposes and it won't affect the autograder but please don't leave long tables in the output. Use `.head()` instead.\n",
    "\n",
    "Be concise. All exercises can be solved with less than 5 lines of code.\n",
    "\n",
    "Avoid for loops. Almost all tasks can be solved with efficient pandas operations.\n",
    "\n",
    "Avoid overriding Python built-in functions with your own variables (`max = 2`).\n",
    "\n",
    "If you mess up, you can always do one of the following\n",
    "  1. Kernel -> Restart & Run All - this will run all cells from top to bottom until an exception is thrown\n",
    "  1. Kernel -> Restart, Cell -> Run All Above - this will run all cells from top to bottom until the current cell is reached or and exception is thrown\n",
    "  \n",
    "If your notebook runs for longer than a minute, one or more of your solutions is very inefficient.\n",
    "\n",
    "It's easy to accidentally change the type of a cell from code to Markdown/raw text.\n",
    "When this happens, you lose syntax highlight in that cell.\n",
    "You can change it back in the toolbar or in the Cell menu.\n",
    "\n",
    "#### Table of Contents\n",
    "\n",
    "Jupyter has an extension called Table of Contents (2).\n",
    "Table of Contents lists all headers in a separate frame and makes navigation much easier.\n",
    "You can install and enable it the following way in Anaconda Prompt:\n",
    "\n",
    "    conda install -c conda-forge jupyter_contrib_nbextensions\n",
    "    python -m jupyter nbextension enable toc2/main\n",
    "    \n",
    "Save and refresh this notebook and you should see a new button in the toolbar that looks like a bullet point list.\n",
    "That button turns on Table of Contents."
   ]
  },
  {
   "cell_type": "markdown",
   "metadata": {
    "deletable": false,
    "editable": false,
    "nbgrader": {
     "cell_type": "markdown",
     "checksum": "595f5fc37c19a1406487f2e55c2673ea",
     "grade": false,
     "grade_id": "cell-73ba52c6b5f7d6e7",
     "locked": true,
     "schema_version": 3,
     "solution": false,
     "task": false
    }
   },
   "source": [
    "### Credits\n",
    "\n",
    "This assignment was created by Judit Ács using [nbgrader](https://nbgrader.readthedocs.io/).\n",
    "\n",
    "### Feedback\n",
    "\n",
    "Please fill out this [short survey](https://forms.gle/i717e8Mzijjy3Pfk9) after you completed the problems."
   ]
  },
  {
   "cell_type": "markdown",
   "metadata": {
    "deletable": false,
    "editable": false,
    "nbgrader": {
     "cell_type": "markdown",
     "checksum": "9bce5a47d36632b348df0a19aea3e53c",
     "grade": false,
     "grade_id": "cell-5a4be9ece534d94f",
     "locked": true,
     "points": 3,
     "schema_version": 3,
     "solution": false,
     "task": true
    }
   },
   "source": [
    "## Code quality\n",
    "\n",
    "You can get 3 extra points for code quality."
   ]
  },
  {
   "cell_type": "markdown",
   "metadata": {
    "deletable": false,
    "editable": false,
    "nbgrader": {
     "cell_type": "markdown",
     "checksum": "c9f84b2e426759a175cc9fda2820ffe2",
     "grade": false,
     "grade_id": "cell-84b3d49fe2ed7e26",
     "locked": true,
     "points": 2,
     "schema_version": 3,
     "solution": false,
     "task": true
    }
   },
   "source": [
    "## PEP8 style guide\n",
    "\n",
    "You can get 2 extra points for adhering to the PEP8 Python style guide."
   ]
  },
  {
   "cell_type": "markdown",
   "metadata": {
    "deletable": false,
    "editable": false,
    "nbgrader": {
     "cell_type": "markdown",
     "checksum": "4232de7253e7dd5840edacf787d15d01",
     "grade": false,
     "grade_id": "cell-ed1c3bdc30b4b0a4",
     "locked": true,
     "points": 5,
     "schema_version": 3,
     "solution": false,
     "task": true
    }
   },
   "source": [
    "## Figure quality\n",
    "\n",
    "You can get 5 extra points for the quality of your figures. Good figures have labeled axes with meaningful names, reasonable figure size and reasonable axes limits.\n",
    "Extra attention to details also helps.\n",
    "\n",
    "Pie charts are ugly no matter what you do, do not sweat it too much, they are the Comic Sans of visualization."
   ]
  },
  {
   "cell_type": "markdown",
   "metadata": {},
   "source": [
    "# Main imports"
   ]
  },
  {
   "cell_type": "code",
   "execution_count": 2,
   "metadata": {},
   "outputs": [],
   "source": [
    "import pandas as pd\n",
    "%matplotlib inline\n",
    "import matplotlib.pyplot as plt\n",
    "import numpy as np\n",
    "\n",
    "import seaborn as sns\n",
    "sns.set_context('notebook')"
   ]
  },
  {
   "cell_type": "markdown",
   "metadata": {
    "deletable": false,
    "editable": false,
    "nbgrader": {
     "cell_type": "markdown",
     "checksum": "83d9363fcd311eb4efd8fd8c823b6ae6",
     "grade": false,
     "grade_id": "cell-32d0b96512d50be0",
     "locked": true,
     "schema_version": 3,
     "solution": false,
     "task": false
    }
   },
   "source": [
    "### downloading the dataset"
   ]
  },
  {
   "cell_type": "code",
   "execution_count": 3,
   "metadata": {},
   "outputs": [
    {
     "name": "stdout",
     "output_type": "stream",
     "text": [
      "File already exists, skipping download step.\n"
     ]
    }
   ],
   "source": [
    "import os\n",
    "\n",
    "data_dir = os.getenv(\"MOVIELENS\")\n",
    "if data_dir is None:\n",
    "    data_dir = \"\"\n",
    "\n",
    "ml_path = os.path.join(data_dir, \"ml.zip\")\n",
    "\n",
    "if os.path.exists(ml_path):\n",
    "    print(\"File already exists, skipping download step.\")\n",
    "else:\n",
    "    print(\"Downloading the Movielens dataset\")\n",
    "    import urllib\n",
    "    u = urllib.request.URLopener()\n",
    "    u.retrieve(\"http://files.grouplens.org/datasets/movielens/ml-100k.zip\", ml_path)"
   ]
  },
  {
   "cell_type": "code",
   "execution_count": 4,
   "metadata": {},
   "outputs": [
    {
     "name": "stdout",
     "output_type": "stream",
     "text": [
      "Dataset already unpacked, skipping unpacking step.\n"
     ]
    }
   ],
   "source": [
    "unzip_path = os.path.join(data_dir, \"ml-100k\")\n",
    "\n",
    "if os.path.exists(unzip_path):\n",
    "    print(\"Dataset already unpacked, skipping unpacking step.\")\n",
    "else:\n",
    "    print(\"Unziping the dataset.\")\n",
    "    from zipfile import ZipFile\n",
    "    with ZipFile(ml_path) as myzip:\n",
    "        myzip.extractall(data_dir)\n",
    "        \n",
    "data_dir = unzip_path"
   ]
  },
  {
   "cell_type": "markdown",
   "metadata": {
    "deletable": false,
    "editable": false,
    "nbgrader": {
     "cell_type": "markdown",
     "checksum": "f1e7f833fcd18dd31ad63a55968f1ef5",
     "grade": false,
     "grade_id": "cell-7f356d60fac614a4",
     "locked": true,
     "schema_version": 3,
     "solution": false,
     "task": false
    }
   },
   "source": [
    "# Loading the dataset\n",
    "\n",
    "`pd.read_table` loads a tabular dataset. The full function signature is:\n",
    "\n",
    "\n",
    "~~~\n",
    "pandas.read_table(filepath_or_buffer: Union[str, pathlib.Path, IO[~AnyStr]], sep='t', delimiter=None, header='infer', names=None, index_col=None, usecols=None, squeeze=False, prefix=None, mangle_dupe_cols=True, dtype=None, engine=None, converters=None, true_values=None, false_values=None, skipinitialspace=False, skiprows=None, skipfooter=0, nrows=None, na_values=None, keep_default_na=True, na_filter=True, verbose=False, skip_blank_lines=True, parse_dates=False, infer_datetime_format=False, keep_date_col=False, date_parser=None, dayfirst=False, cache_dates=True, iterator=False, chunksize=None, compression='infer', thousands=None, decimal: str = '.', lineterminator=None, quotechar='\"', quoting=0, doublequote=True, escapechar=None, comment=None, encoding=None, dialect=None, error_bad_lines=True, warn_bad_lines=True, delim_whitespace=False, low_memory=True, memory_map=False, float_precision=None\n",
    "~~~\n",
    "\n",
    "let's try it with defaults"
   ]
  },
  {
   "cell_type": "code",
   "execution_count": 5,
   "metadata": {},
   "outputs": [
    {
     "data": {
      "text/html": [
       "<div>\n",
       "<style scoped>\n",
       "    .dataframe tbody tr th:only-of-type {\n",
       "        vertical-align: middle;\n",
       "    }\n",
       "\n",
       "    .dataframe tbody tr th {\n",
       "        vertical-align: top;\n",
       "    }\n",
       "\n",
       "    .dataframe thead th {\n",
       "        text-align: right;\n",
       "    }\n",
       "</style>\n",
       "<table border=\"1\" class=\"dataframe\">\n",
       "  <thead>\n",
       "    <tr style=\"text-align: right;\">\n",
       "      <th></th>\n",
       "      <th>1|Toy Story (1995)|01-Jan-1995||http://us.imdb.com/M/title-exact?Toy%20Story%20(1995)|0|0|0|1|1|1|0|0|0|0|0|0|0|0|0|0|0|0|0</th>\n",
       "    </tr>\n",
       "  </thead>\n",
       "  <tbody>\n",
       "    <tr>\n",
       "      <th>0</th>\n",
       "      <td>2|GoldenEye (1995)|01-Jan-1995||http://us.imdb...</td>\n",
       "    </tr>\n",
       "    <tr>\n",
       "      <th>1</th>\n",
       "      <td>3|Four Rooms (1995)|01-Jan-1995||http://us.imd...</td>\n",
       "    </tr>\n",
       "    <tr>\n",
       "      <th>2</th>\n",
       "      <td>4|Get Shorty (1995)|01-Jan-1995||http://us.imd...</td>\n",
       "    </tr>\n",
       "    <tr>\n",
       "      <th>3</th>\n",
       "      <td>5|Copycat (1995)|01-Jan-1995||http://us.imdb.c...</td>\n",
       "    </tr>\n",
       "    <tr>\n",
       "      <th>4</th>\n",
       "      <td>6|Shanghai Triad (Yao a yao yao dao waipo qiao...</td>\n",
       "    </tr>\n",
       "  </tbody>\n",
       "</table>\n",
       "</div>"
      ],
      "text/plain": [
       "  1|Toy Story (1995)|01-Jan-1995||http://us.imdb.com/M/title-exact?Toy%20Story%20(1995)|0|0|0|1|1|1|0|0|0|0|0|0|0|0|0|0|0|0|0\n",
       "0  2|GoldenEye (1995)|01-Jan-1995||http://us.imdb...                                                                         \n",
       "1  3|Four Rooms (1995)|01-Jan-1995||http://us.imd...                                                                         \n",
       "2  4|Get Shorty (1995)|01-Jan-1995||http://us.imd...                                                                         \n",
       "3  5|Copycat (1995)|01-Jan-1995||http://us.imdb.c...                                                                         \n",
       "4  6|Shanghai Triad (Yao a yao yao dao waipo qiao...                                                                         "
      ]
     },
     "execution_count": 5,
     "metadata": {},
     "output_type": "execute_result"
    }
   ],
   "source": [
    "# df = pd.read_table(\"ml-100k/u.item\")  # UnicodeDecodeErrort kapunk, mert rossz dekódert használ\n",
    "df = pd.read_table(os.path.join(data_dir, \"u.item\"), encoding=\"latin1\")\n",
    "df.head()"
   ]
  },
  {
   "cell_type": "markdown",
   "metadata": {
    "deletable": false,
    "editable": false,
    "nbgrader": {
     "cell_type": "markdown",
     "checksum": "3c00cc168477aacf42277e2c9150bbe4",
     "grade": false,
     "grade_id": "cell-90e3cbfb5c9d778b",
     "locked": true,
     "schema_version": 3,
     "solution": false,
     "task": false
    }
   },
   "source": [
    "A couple improvements:\n",
    "\n",
    "1. Use a different separator. `|` instead of `\\t`.\n",
    "1. The first line of the file is used as the header. The real names of the columns are listed in the `README`, they can be specified with the `names` parameters.\n",
    "1. `read_table` added an index (0..N-1), but the dataset already has an index, let's use that one (`index_col='movie_id'`)\n",
    "1. two columns, `release_date` and `video_release_date` are dates, pandas can parse them and create its own datetype. "
   ]
  },
  {
   "cell_type": "code",
   "execution_count": 6,
   "metadata": {},
   "outputs": [
    {
     "data": {
      "text/html": [
       "<div>\n",
       "<style scoped>\n",
       "    .dataframe tbody tr th:only-of-type {\n",
       "        vertical-align: middle;\n",
       "    }\n",
       "\n",
       "    .dataframe tbody tr th {\n",
       "        vertical-align: top;\n",
       "    }\n",
       "\n",
       "    .dataframe thead th {\n",
       "        text-align: right;\n",
       "    }\n",
       "</style>\n",
       "<table border=\"1\" class=\"dataframe\">\n",
       "  <thead>\n",
       "    <tr style=\"text-align: right;\">\n",
       "      <th></th>\n",
       "      <th>title</th>\n",
       "      <th>release_date</th>\n",
       "      <th>video_release_date</th>\n",
       "      <th>imdb_url</th>\n",
       "      <th>unknown</th>\n",
       "      <th>action</th>\n",
       "      <th>adventure</th>\n",
       "      <th>animation</th>\n",
       "      <th>children</th>\n",
       "      <th>comedy</th>\n",
       "      <th>...</th>\n",
       "      <th>fantasy</th>\n",
       "      <th>film_noir</th>\n",
       "      <th>horror</th>\n",
       "      <th>musical</th>\n",
       "      <th>mystery</th>\n",
       "      <th>romance</th>\n",
       "      <th>sci_fi</th>\n",
       "      <th>thriller</th>\n",
       "      <th>war</th>\n",
       "      <th>western</th>\n",
       "    </tr>\n",
       "    <tr>\n",
       "      <th>movie_id</th>\n",
       "      <th></th>\n",
       "      <th></th>\n",
       "      <th></th>\n",
       "      <th></th>\n",
       "      <th></th>\n",
       "      <th></th>\n",
       "      <th></th>\n",
       "      <th></th>\n",
       "      <th></th>\n",
       "      <th></th>\n",
       "      <th></th>\n",
       "      <th></th>\n",
       "      <th></th>\n",
       "      <th></th>\n",
       "      <th></th>\n",
       "      <th></th>\n",
       "      <th></th>\n",
       "      <th></th>\n",
       "      <th></th>\n",
       "      <th></th>\n",
       "      <th></th>\n",
       "    </tr>\n",
       "  </thead>\n",
       "  <tbody>\n",
       "    <tr>\n",
       "      <th>1</th>\n",
       "      <td>Toy Story (1995)</td>\n",
       "      <td>1995-01-01</td>\n",
       "      <td>NaT</td>\n",
       "      <td>http://us.imdb.com/M/title-exact?Toy%20Story%2...</td>\n",
       "      <td>0</td>\n",
       "      <td>0</td>\n",
       "      <td>0</td>\n",
       "      <td>1</td>\n",
       "      <td>1</td>\n",
       "      <td>1</td>\n",
       "      <td>...</td>\n",
       "      <td>0</td>\n",
       "      <td>0</td>\n",
       "      <td>0</td>\n",
       "      <td>0</td>\n",
       "      <td>0</td>\n",
       "      <td>0</td>\n",
       "      <td>0</td>\n",
       "      <td>0</td>\n",
       "      <td>0</td>\n",
       "      <td>0</td>\n",
       "    </tr>\n",
       "    <tr>\n",
       "      <th>2</th>\n",
       "      <td>GoldenEye (1995)</td>\n",
       "      <td>1995-01-01</td>\n",
       "      <td>NaT</td>\n",
       "      <td>http://us.imdb.com/M/title-exact?GoldenEye%20(...</td>\n",
       "      <td>0</td>\n",
       "      <td>1</td>\n",
       "      <td>1</td>\n",
       "      <td>0</td>\n",
       "      <td>0</td>\n",
       "      <td>0</td>\n",
       "      <td>...</td>\n",
       "      <td>0</td>\n",
       "      <td>0</td>\n",
       "      <td>0</td>\n",
       "      <td>0</td>\n",
       "      <td>0</td>\n",
       "      <td>0</td>\n",
       "      <td>0</td>\n",
       "      <td>1</td>\n",
       "      <td>0</td>\n",
       "      <td>0</td>\n",
       "    </tr>\n",
       "    <tr>\n",
       "      <th>3</th>\n",
       "      <td>Four Rooms (1995)</td>\n",
       "      <td>1995-01-01</td>\n",
       "      <td>NaT</td>\n",
       "      <td>http://us.imdb.com/M/title-exact?Four%20Rooms%...</td>\n",
       "      <td>0</td>\n",
       "      <td>0</td>\n",
       "      <td>0</td>\n",
       "      <td>0</td>\n",
       "      <td>0</td>\n",
       "      <td>0</td>\n",
       "      <td>...</td>\n",
       "      <td>0</td>\n",
       "      <td>0</td>\n",
       "      <td>0</td>\n",
       "      <td>0</td>\n",
       "      <td>0</td>\n",
       "      <td>0</td>\n",
       "      <td>0</td>\n",
       "      <td>1</td>\n",
       "      <td>0</td>\n",
       "      <td>0</td>\n",
       "    </tr>\n",
       "    <tr>\n",
       "      <th>4</th>\n",
       "      <td>Get Shorty (1995)</td>\n",
       "      <td>1995-01-01</td>\n",
       "      <td>NaT</td>\n",
       "      <td>http://us.imdb.com/M/title-exact?Get%20Shorty%...</td>\n",
       "      <td>0</td>\n",
       "      <td>1</td>\n",
       "      <td>0</td>\n",
       "      <td>0</td>\n",
       "      <td>0</td>\n",
       "      <td>1</td>\n",
       "      <td>...</td>\n",
       "      <td>0</td>\n",
       "      <td>0</td>\n",
       "      <td>0</td>\n",
       "      <td>0</td>\n",
       "      <td>0</td>\n",
       "      <td>0</td>\n",
       "      <td>0</td>\n",
       "      <td>0</td>\n",
       "      <td>0</td>\n",
       "      <td>0</td>\n",
       "    </tr>\n",
       "    <tr>\n",
       "      <th>5</th>\n",
       "      <td>Copycat (1995)</td>\n",
       "      <td>1995-01-01</td>\n",
       "      <td>NaT</td>\n",
       "      <td>http://us.imdb.com/M/title-exact?Copycat%20(1995)</td>\n",
       "      <td>0</td>\n",
       "      <td>0</td>\n",
       "      <td>0</td>\n",
       "      <td>0</td>\n",
       "      <td>0</td>\n",
       "      <td>0</td>\n",
       "      <td>...</td>\n",
       "      <td>0</td>\n",
       "      <td>0</td>\n",
       "      <td>0</td>\n",
       "      <td>0</td>\n",
       "      <td>0</td>\n",
       "      <td>0</td>\n",
       "      <td>0</td>\n",
       "      <td>1</td>\n",
       "      <td>0</td>\n",
       "      <td>0</td>\n",
       "    </tr>\n",
       "  </tbody>\n",
       "</table>\n",
       "<p>5 rows × 23 columns</p>\n",
       "</div>"
      ],
      "text/plain": [
       "                      title release_date video_release_date  \\\n",
       "movie_id                                                      \n",
       "1          Toy Story (1995)   1995-01-01                NaT   \n",
       "2          GoldenEye (1995)   1995-01-01                NaT   \n",
       "3         Four Rooms (1995)   1995-01-01                NaT   \n",
       "4         Get Shorty (1995)   1995-01-01                NaT   \n",
       "5            Copycat (1995)   1995-01-01                NaT   \n",
       "\n",
       "                                                   imdb_url  unknown  action  \\\n",
       "movie_id                                                                       \n",
       "1         http://us.imdb.com/M/title-exact?Toy%20Story%2...        0       0   \n",
       "2         http://us.imdb.com/M/title-exact?GoldenEye%20(...        0       1   \n",
       "3         http://us.imdb.com/M/title-exact?Four%20Rooms%...        0       0   \n",
       "4         http://us.imdb.com/M/title-exact?Get%20Shorty%...        0       1   \n",
       "5         http://us.imdb.com/M/title-exact?Copycat%20(1995)        0       0   \n",
       "\n",
       "          adventure  animation  children  comedy  ...  fantasy  film_noir  \\\n",
       "movie_id                                          ...                       \n",
       "1                 0          1         1       1  ...        0          0   \n",
       "2                 1          0         0       0  ...        0          0   \n",
       "3                 0          0         0       0  ...        0          0   \n",
       "4                 0          0         0       1  ...        0          0   \n",
       "5                 0          0         0       0  ...        0          0   \n",
       "\n",
       "          horror  musical  mystery  romance  sci_fi  thriller  war  western  \n",
       "movie_id                                                                     \n",
       "1              0        0        0        0       0         0    0        0  \n",
       "2              0        0        0        0       0         1    0        0  \n",
       "3              0        0        0        0       0         1    0        0  \n",
       "4              0        0        0        0       0         0    0        0  \n",
       "5              0        0        0        0       0         1    0        0  \n",
       "\n",
       "[5 rows x 23 columns]"
      ]
     },
     "execution_count": 6,
     "metadata": {},
     "output_type": "execute_result"
    }
   ],
   "source": [
    "column_names = [\n",
    "    \"movie_id\", \"title\", \"release_date\", \"video_release_date\", \"imdb_url\", \"unknown\", \"action\", \"adventure\", \"animation\",\n",
    "    \"children\", \"comedy\", \"crime\", \"documentary\", \"drama\", \"fantasy\", \"film_noir\", \"horror\", \"musical\", \"mystery\",\n",
    "    \"romance\", \"sci_fi\", \"thriller\", \"war\", \"western\"]\n",
    "df = pd.read_table(\n",
    "    os.path.join(data_dir, \"u.item\"), sep=\"|\",\n",
    "    names=column_names, encoding=\"latin1\", index_col='movie_id',\n",
    "    parse_dates=['release_date', 'video_release_date']\n",
    ")\n",
    "df.head()"
   ]
  },
  {
   "cell_type": "markdown",
   "metadata": {
    "deletable": false,
    "editable": false,
    "nbgrader": {
     "cell_type": "markdown",
     "checksum": "76677290c089a315769bf9c6790ce253",
     "grade": false,
     "grade_id": "cell-f9c748367af36647",
     "locked": true,
     "schema_version": 3,
     "solution": false,
     "task": false
    }
   },
   "source": [
    "# Normalizing the dataset\n",
    "\n",
    "## the `.dt` and the `.str` namespaces\n",
    "\n",
    "The year in the title seems redundant, let's check if it's always the same as the release date. The `.dt` namespace has various methods and attributes for handling dates, and the `.str` namespace has string handling methods.\n",
    "\n",
    "### `.dt` namespace"
   ]
  },
  {
   "cell_type": "code",
   "execution_count": 7,
   "metadata": {},
   "outputs": [
    {
     "name": "stdout",
     "output_type": "stream",
     "text": [
      "ceil, date, day, day_name, dayofweek, dayofyear, days_in_month, daysinmonth, floor, freq, hour, is_leap_year, is_month_end, is_month_start, is_quarter_end, is_quarter_start, is_year_end, is_year_start, microsecond, minute, month, month_name, nanosecond, normalize, quarter, round, second, strftime, time, timetz, to_period, to_pydatetime, tz, tz_convert, tz_localize, week, weekday, weekofyear, year\n"
     ]
    }
   ],
   "source": [
    "print(\", \".join([d for d in dir(df.release_date.dt) if not d.startswith('_')]))"
   ]
  },
  {
   "cell_type": "markdown",
   "metadata": {
    "deletable": false,
    "editable": false,
    "nbgrader": {
     "cell_type": "markdown",
     "checksum": "0a4e16ed7a3dd1debb76c86e4b39f39d",
     "grade": false,
     "grade_id": "cell-5f9c27b85eccc90d",
     "locked": true,
     "schema_version": 3,
     "solution": false,
     "task": false
    }
   },
   "source": [
    "### `.str` namespace"
   ]
  },
  {
   "cell_type": "code",
   "execution_count": 8,
   "metadata": {},
   "outputs": [
    {
     "name": "stdout",
     "output_type": "stream",
     "text": [
      "capitalize, casefold, cat, center, contains, count, decode, encode, endswith, extract, extractall, find, findall, get, get_dummies, index, isalnum, isalpha, isdecimal, isdigit, islower, isnumeric, isspace, istitle, isupper, join, len, ljust, lower, lstrip, match, normalize, pad, partition, repeat, replace, rfind, rindex, rjust, rpartition, rsplit, rstrip, slice, slice_replace, split, startswith, strip, swapcase, title, translate, upper, wrap, zfill\n"
     ]
    }
   ],
   "source": [
    "print(\", \".join([d for d in dir(df.title.str) if not d.startswith('_')]))"
   ]
  },
  {
   "cell_type": "markdown",
   "metadata": {},
   "source": [
    "`.str` can also be indexed like a string"
   ]
  },
  {
   "cell_type": "code",
   "execution_count": 9,
   "metadata": {},
   "outputs": [
    {
     "data": {
      "text/plain": [
       "movie_id\n",
       "1    o\n",
       "2    o\n",
       "3    o\n",
       "4    e\n",
       "5    o\n",
       "Name: title, dtype: object"
      ]
     },
     "execution_count": 9,
     "metadata": {},
     "output_type": "execute_result"
    }
   ],
   "source": [
    "df.title.str[1].head()"
   ]
  },
  {
   "cell_type": "code",
   "execution_count": 10,
   "metadata": {},
   "outputs": [
    {
     "data": {
      "text/plain": [
       "movie_id\n",
       "1678    1997)\n",
       "1679    1998)\n",
       "1680    1998)\n",
       "1681    1994)\n",
       "1682    1991)\n",
       "Name: title, dtype: object"
      ]
     },
     "execution_count": 10,
     "metadata": {},
     "output_type": "execute_result"
    }
   ],
   "source": [
    "df.title.str[-5:].tail()"
   ]
  },
  {
   "cell_type": "markdown",
   "metadata": {
    "deletable": false,
    "editable": false,
    "nbgrader": {
     "cell_type": "markdown",
     "checksum": "07d097d2798274606e62559cdcc6054c",
     "grade": false,
     "grade_id": "cell-ce1e74dc28161833",
     "locked": true,
     "schema_version": 3,
     "solution": false,
     "task": false
    }
   },
   "source": [
    "## Let's extract the release year of a movie into a separate"
   ]
  },
  {
   "cell_type": "code",
   "execution_count": 11,
   "metadata": {},
   "outputs": [],
   "source": [
    "df['year'] = df.release_date.dt.year"
   ]
  },
  {
   "cell_type": "markdown",
   "metadata": {
    "deletable": false,
    "editable": false,
    "nbgrader": {
     "cell_type": "markdown",
     "checksum": "34866bea4c47f97546cdc55556fd84c2",
     "grade": false,
     "grade_id": "cell-5606b6afef6bb0e6",
     "locked": true,
     "schema_version": 3,
     "solution": false,
     "task": false
    }
   },
   "source": [
    "### the most common years are"
   ]
  },
  {
   "cell_type": "code",
   "execution_count": 12,
   "metadata": {},
   "outputs": [
    {
     "data": {
      "text/plain": [
       "1996.0    355\n",
       "1997.0    286\n",
       "1995.0    219\n",
       "1994.0    214\n",
       "1993.0    126\n",
       "Name: year, dtype: int64"
      ]
     },
     "execution_count": 12,
     "metadata": {},
     "output_type": "execute_result"
    }
   ],
   "source": [
    "df.year.value_counts().head()"
   ]
  },
  {
   "cell_type": "markdown",
   "metadata": {
    "deletable": false,
    "editable": false,
    "nbgrader": {
     "cell_type": "markdown",
     "checksum": "26bcc6775f6242e613958dae4c8470b4",
     "grade": false,
     "grade_id": "cell-67dd9dce398c2d17",
     "locked": true,
     "schema_version": 3,
     "solution": false,
     "task": false
    }
   },
   "source": [
    "### `video_release_date` is always `NaT` (not a time), let's drop it"
   ]
  },
  {
   "cell_type": "code",
   "execution_count": 13,
   "metadata": {},
   "outputs": [
    {
     "data": {
      "text/plain": [
       "True    1682\n",
       "Name: video_release_date, dtype: int64"
      ]
     },
     "execution_count": 13,
     "metadata": {},
     "output_type": "execute_result"
    }
   ],
   "source": [
    "df.video_release_date.isnull().value_counts()"
   ]
  },
  {
   "cell_type": "code",
   "execution_count": 14,
   "metadata": {},
   "outputs": [],
   "source": [
    "df = df.drop('video_release_date', axis=1)"
   ]
  },
  {
   "cell_type": "markdown",
   "metadata": {
    "deletable": false,
    "editable": false,
    "nbgrader": {
     "cell_type": "markdown",
     "checksum": "55500d0c4a780c4aea70bf28917cfc82",
     "grade": false,
     "grade_id": "cell-f377ab2987b14a4d",
     "locked": true,
     "schema_version": 3,
     "solution": false,
     "task": false
    }
   },
   "source": [
    "# Basic analysis of the dataset\n",
    "\n",
    "`describe` generate descriptive statistics."
   ]
  },
  {
   "cell_type": "code",
   "execution_count": 15,
   "metadata": {},
   "outputs": [
    {
     "data": {
      "text/html": [
       "<div>\n",
       "<style scoped>\n",
       "    .dataframe tbody tr th:only-of-type {\n",
       "        vertical-align: middle;\n",
       "    }\n",
       "\n",
       "    .dataframe tbody tr th {\n",
       "        vertical-align: top;\n",
       "    }\n",
       "\n",
       "    .dataframe thead th {\n",
       "        text-align: right;\n",
       "    }\n",
       "</style>\n",
       "<table border=\"1\" class=\"dataframe\">\n",
       "  <thead>\n",
       "    <tr style=\"text-align: right;\">\n",
       "      <th></th>\n",
       "      <th>unknown</th>\n",
       "      <th>action</th>\n",
       "      <th>adventure</th>\n",
       "      <th>animation</th>\n",
       "      <th>children</th>\n",
       "      <th>comedy</th>\n",
       "      <th>crime</th>\n",
       "      <th>documentary</th>\n",
       "      <th>drama</th>\n",
       "      <th>fantasy</th>\n",
       "      <th>film_noir</th>\n",
       "      <th>horror</th>\n",
       "      <th>musical</th>\n",
       "      <th>mystery</th>\n",
       "      <th>romance</th>\n",
       "      <th>sci_fi</th>\n",
       "      <th>thriller</th>\n",
       "      <th>war</th>\n",
       "      <th>western</th>\n",
       "      <th>year</th>\n",
       "    </tr>\n",
       "  </thead>\n",
       "  <tbody>\n",
       "    <tr>\n",
       "      <th>count</th>\n",
       "      <td>1682.000000</td>\n",
       "      <td>1682.000000</td>\n",
       "      <td>1682.000000</td>\n",
       "      <td>1682.000000</td>\n",
       "      <td>1682.000000</td>\n",
       "      <td>1682.000000</td>\n",
       "      <td>1682.000000</td>\n",
       "      <td>1682.000000</td>\n",
       "      <td>1682.000000</td>\n",
       "      <td>1682.00000</td>\n",
       "      <td>1682.000000</td>\n",
       "      <td>1682.000000</td>\n",
       "      <td>1682.000000</td>\n",
       "      <td>1682.000000</td>\n",
       "      <td>1682.000000</td>\n",
       "      <td>1682.000000</td>\n",
       "      <td>1682.000000</td>\n",
       "      <td>1682.000000</td>\n",
       "      <td>1682.000000</td>\n",
       "      <td>1681.00000</td>\n",
       "    </tr>\n",
       "    <tr>\n",
       "      <th>mean</th>\n",
       "      <td>0.001189</td>\n",
       "      <td>0.149227</td>\n",
       "      <td>0.080262</td>\n",
       "      <td>0.024970</td>\n",
       "      <td>0.072533</td>\n",
       "      <td>0.300238</td>\n",
       "      <td>0.064804</td>\n",
       "      <td>0.029727</td>\n",
       "      <td>0.431034</td>\n",
       "      <td>0.01308</td>\n",
       "      <td>0.014269</td>\n",
       "      <td>0.054697</td>\n",
       "      <td>0.033294</td>\n",
       "      <td>0.036266</td>\n",
       "      <td>0.146849</td>\n",
       "      <td>0.060048</td>\n",
       "      <td>0.149227</td>\n",
       "      <td>0.042212</td>\n",
       "      <td>0.016052</td>\n",
       "      <td>1989.38608</td>\n",
       "    </tr>\n",
       "    <tr>\n",
       "      <th>std</th>\n",
       "      <td>0.034473</td>\n",
       "      <td>0.356418</td>\n",
       "      <td>0.271779</td>\n",
       "      <td>0.156081</td>\n",
       "      <td>0.259445</td>\n",
       "      <td>0.458498</td>\n",
       "      <td>0.246253</td>\n",
       "      <td>0.169882</td>\n",
       "      <td>0.495368</td>\n",
       "      <td>0.11365</td>\n",
       "      <td>0.118632</td>\n",
       "      <td>0.227455</td>\n",
       "      <td>0.179456</td>\n",
       "      <td>0.187008</td>\n",
       "      <td>0.354061</td>\n",
       "      <td>0.237646</td>\n",
       "      <td>0.356418</td>\n",
       "      <td>0.201131</td>\n",
       "      <td>0.125714</td>\n",
       "      <td>14.25358</td>\n",
       "    </tr>\n",
       "    <tr>\n",
       "      <th>min</th>\n",
       "      <td>0.000000</td>\n",
       "      <td>0.000000</td>\n",
       "      <td>0.000000</td>\n",
       "      <td>0.000000</td>\n",
       "      <td>0.000000</td>\n",
       "      <td>0.000000</td>\n",
       "      <td>0.000000</td>\n",
       "      <td>0.000000</td>\n",
       "      <td>0.000000</td>\n",
       "      <td>0.00000</td>\n",
       "      <td>0.000000</td>\n",
       "      <td>0.000000</td>\n",
       "      <td>0.000000</td>\n",
       "      <td>0.000000</td>\n",
       "      <td>0.000000</td>\n",
       "      <td>0.000000</td>\n",
       "      <td>0.000000</td>\n",
       "      <td>0.000000</td>\n",
       "      <td>0.000000</td>\n",
       "      <td>1922.00000</td>\n",
       "    </tr>\n",
       "    <tr>\n",
       "      <th>25%</th>\n",
       "      <td>0.000000</td>\n",
       "      <td>0.000000</td>\n",
       "      <td>0.000000</td>\n",
       "      <td>0.000000</td>\n",
       "      <td>0.000000</td>\n",
       "      <td>0.000000</td>\n",
       "      <td>0.000000</td>\n",
       "      <td>0.000000</td>\n",
       "      <td>0.000000</td>\n",
       "      <td>0.00000</td>\n",
       "      <td>0.000000</td>\n",
       "      <td>0.000000</td>\n",
       "      <td>0.000000</td>\n",
       "      <td>0.000000</td>\n",
       "      <td>0.000000</td>\n",
       "      <td>0.000000</td>\n",
       "      <td>0.000000</td>\n",
       "      <td>0.000000</td>\n",
       "      <td>0.000000</td>\n",
       "      <td>1993.00000</td>\n",
       "    </tr>\n",
       "    <tr>\n",
       "      <th>50%</th>\n",
       "      <td>0.000000</td>\n",
       "      <td>0.000000</td>\n",
       "      <td>0.000000</td>\n",
       "      <td>0.000000</td>\n",
       "      <td>0.000000</td>\n",
       "      <td>0.000000</td>\n",
       "      <td>0.000000</td>\n",
       "      <td>0.000000</td>\n",
       "      <td>0.000000</td>\n",
       "      <td>0.00000</td>\n",
       "      <td>0.000000</td>\n",
       "      <td>0.000000</td>\n",
       "      <td>0.000000</td>\n",
       "      <td>0.000000</td>\n",
       "      <td>0.000000</td>\n",
       "      <td>0.000000</td>\n",
       "      <td>0.000000</td>\n",
       "      <td>0.000000</td>\n",
       "      <td>0.000000</td>\n",
       "      <td>1995.00000</td>\n",
       "    </tr>\n",
       "    <tr>\n",
       "      <th>75%</th>\n",
       "      <td>0.000000</td>\n",
       "      <td>0.000000</td>\n",
       "      <td>0.000000</td>\n",
       "      <td>0.000000</td>\n",
       "      <td>0.000000</td>\n",
       "      <td>1.000000</td>\n",
       "      <td>0.000000</td>\n",
       "      <td>0.000000</td>\n",
       "      <td>1.000000</td>\n",
       "      <td>0.00000</td>\n",
       "      <td>0.000000</td>\n",
       "      <td>0.000000</td>\n",
       "      <td>0.000000</td>\n",
       "      <td>0.000000</td>\n",
       "      <td>0.000000</td>\n",
       "      <td>0.000000</td>\n",
       "      <td>0.000000</td>\n",
       "      <td>0.000000</td>\n",
       "      <td>0.000000</td>\n",
       "      <td>1996.00000</td>\n",
       "    </tr>\n",
       "    <tr>\n",
       "      <th>max</th>\n",
       "      <td>1.000000</td>\n",
       "      <td>1.000000</td>\n",
       "      <td>1.000000</td>\n",
       "      <td>1.000000</td>\n",
       "      <td>1.000000</td>\n",
       "      <td>1.000000</td>\n",
       "      <td>1.000000</td>\n",
       "      <td>1.000000</td>\n",
       "      <td>1.000000</td>\n",
       "      <td>1.00000</td>\n",
       "      <td>1.000000</td>\n",
       "      <td>1.000000</td>\n",
       "      <td>1.000000</td>\n",
       "      <td>1.000000</td>\n",
       "      <td>1.000000</td>\n",
       "      <td>1.000000</td>\n",
       "      <td>1.000000</td>\n",
       "      <td>1.000000</td>\n",
       "      <td>1.000000</td>\n",
       "      <td>1998.00000</td>\n",
       "    </tr>\n",
       "  </tbody>\n",
       "</table>\n",
       "</div>"
      ],
      "text/plain": [
       "           unknown       action    adventure    animation     children  \\\n",
       "count  1682.000000  1682.000000  1682.000000  1682.000000  1682.000000   \n",
       "mean      0.001189     0.149227     0.080262     0.024970     0.072533   \n",
       "std       0.034473     0.356418     0.271779     0.156081     0.259445   \n",
       "min       0.000000     0.000000     0.000000     0.000000     0.000000   \n",
       "25%       0.000000     0.000000     0.000000     0.000000     0.000000   \n",
       "50%       0.000000     0.000000     0.000000     0.000000     0.000000   \n",
       "75%       0.000000     0.000000     0.000000     0.000000     0.000000   \n",
       "max       1.000000     1.000000     1.000000     1.000000     1.000000   \n",
       "\n",
       "            comedy        crime  documentary        drama     fantasy  \\\n",
       "count  1682.000000  1682.000000  1682.000000  1682.000000  1682.00000   \n",
       "mean      0.300238     0.064804     0.029727     0.431034     0.01308   \n",
       "std       0.458498     0.246253     0.169882     0.495368     0.11365   \n",
       "min       0.000000     0.000000     0.000000     0.000000     0.00000   \n",
       "25%       0.000000     0.000000     0.000000     0.000000     0.00000   \n",
       "50%       0.000000     0.000000     0.000000     0.000000     0.00000   \n",
       "75%       1.000000     0.000000     0.000000     1.000000     0.00000   \n",
       "max       1.000000     1.000000     1.000000     1.000000     1.00000   \n",
       "\n",
       "         film_noir       horror      musical      mystery      romance  \\\n",
       "count  1682.000000  1682.000000  1682.000000  1682.000000  1682.000000   \n",
       "mean      0.014269     0.054697     0.033294     0.036266     0.146849   \n",
       "std       0.118632     0.227455     0.179456     0.187008     0.354061   \n",
       "min       0.000000     0.000000     0.000000     0.000000     0.000000   \n",
       "25%       0.000000     0.000000     0.000000     0.000000     0.000000   \n",
       "50%       0.000000     0.000000     0.000000     0.000000     0.000000   \n",
       "75%       0.000000     0.000000     0.000000     0.000000     0.000000   \n",
       "max       1.000000     1.000000     1.000000     1.000000     1.000000   \n",
       "\n",
       "            sci_fi     thriller          war      western        year  \n",
       "count  1682.000000  1682.000000  1682.000000  1682.000000  1681.00000  \n",
       "mean      0.060048     0.149227     0.042212     0.016052  1989.38608  \n",
       "std       0.237646     0.356418     0.201131     0.125714    14.25358  \n",
       "min       0.000000     0.000000     0.000000     0.000000  1922.00000  \n",
       "25%       0.000000     0.000000     0.000000     0.000000  1993.00000  \n",
       "50%       0.000000     0.000000     0.000000     0.000000  1995.00000  \n",
       "75%       0.000000     0.000000     0.000000     0.000000  1996.00000  \n",
       "max       1.000000     1.000000     1.000000     1.000000  1998.00000  "
      ]
     },
     "execution_count": 15,
     "metadata": {},
     "output_type": "execute_result"
    }
   ],
   "source": [
    "df.describe()"
   ]
  },
  {
   "cell_type": "markdown",
   "metadata": {},
   "source": [
    "Only numeric columns are included by default. A single column (`pd.Series`) has a describe function too"
   ]
  },
  {
   "cell_type": "code",
   "execution_count": 16,
   "metadata": {},
   "outputs": [
    {
     "data": {
      "text/plain": [
       "count                    1681\n",
       "unique                    240\n",
       "top       1995-01-01 00:00:00\n",
       "freq                      215\n",
       "first     1922-01-01 00:00:00\n",
       "last      1998-10-23 00:00:00\n",
       "Name: release_date, dtype: object"
      ]
     },
     "execution_count": 16,
     "metadata": {},
     "output_type": "execute_result"
    }
   ],
   "source": [
    "df.release_date.describe()"
   ]
  },
  {
   "cell_type": "markdown",
   "metadata": {
    "deletable": false,
    "editable": false,
    "nbgrader": {
     "cell_type": "markdown",
     "checksum": "cef2acf44b7a8df44dd261a3139f2614",
     "grade": false,
     "grade_id": "cell-9d81ccf665ea37a4",
     "locked": true,
     "schema_version": 3,
     "solution": false,
     "task": false
    }
   },
   "source": [
    "Numberic statistics are available as separate functions too:\n",
    "\n",
    "1. count: number of non-NA cells. NA is **NOT** the same as 0\n",
    "1. mean: average\n",
    "1. std: standard deviation\n",
    "1. var: variance\n",
    "1. min, max\n",
    "\n",
    "etc."
   ]
  },
  {
   "cell_type": "code",
   "execution_count": 17,
   "metadata": {},
   "outputs": [
    {
     "data": {
      "text/plain": [
       "unknown           0.001189\n",
       "action            0.149227\n",
       "adventure         0.080262\n",
       "animation         0.024970\n",
       "children          0.072533\n",
       "comedy            0.300238\n",
       "crime             0.064804\n",
       "documentary       0.029727\n",
       "drama             0.431034\n",
       "fantasy           0.013080\n",
       "film_noir         0.014269\n",
       "horror            0.054697\n",
       "musical           0.033294\n",
       "mystery           0.036266\n",
       "romance           0.146849\n",
       "sci_fi            0.060048\n",
       "thriller          0.149227\n",
       "war               0.042212\n",
       "western           0.016052\n",
       "year           1989.386080\n",
       "dtype: float64"
      ]
     },
     "execution_count": 17,
     "metadata": {},
     "output_type": "execute_result"
    }
   ],
   "source": [
    "df.mean()"
   ]
  },
  {
   "cell_type": "markdown",
   "metadata": {
    "deletable": false,
    "editable": false,
    "nbgrader": {
     "cell_type": "markdown",
     "checksum": "39f0c8f8ea154d21fff6f02a17db2e3d",
     "grade": false,
     "grade_id": "cell-5f7a284cb0920557",
     "locked": true,
     "schema_version": 3,
     "solution": false,
     "task": false
    }
   },
   "source": [
    "# Basic queries\n",
    "\n",
    "# Which movies were released in 1956?"
   ]
  },
  {
   "cell_type": "code",
   "execution_count": 18,
   "metadata": {},
   "outputs": [
    {
     "data": {
      "text/html": [
       "<div>\n",
       "<style scoped>\n",
       "    .dataframe tbody tr th:only-of-type {\n",
       "        vertical-align: middle;\n",
       "    }\n",
       "\n",
       "    .dataframe tbody tr th {\n",
       "        vertical-align: top;\n",
       "    }\n",
       "\n",
       "    .dataframe thead th {\n",
       "        text-align: right;\n",
       "    }\n",
       "</style>\n",
       "<table border=\"1\" class=\"dataframe\">\n",
       "  <thead>\n",
       "    <tr style=\"text-align: right;\">\n",
       "      <th></th>\n",
       "      <th>title</th>\n",
       "      <th>release_date</th>\n",
       "      <th>imdb_url</th>\n",
       "      <th>unknown</th>\n",
       "      <th>action</th>\n",
       "      <th>adventure</th>\n",
       "      <th>animation</th>\n",
       "      <th>children</th>\n",
       "      <th>comedy</th>\n",
       "      <th>crime</th>\n",
       "      <th>...</th>\n",
       "      <th>film_noir</th>\n",
       "      <th>horror</th>\n",
       "      <th>musical</th>\n",
       "      <th>mystery</th>\n",
       "      <th>romance</th>\n",
       "      <th>sci_fi</th>\n",
       "      <th>thriller</th>\n",
       "      <th>war</th>\n",
       "      <th>western</th>\n",
       "      <th>year</th>\n",
       "    </tr>\n",
       "    <tr>\n",
       "      <th>movie_id</th>\n",
       "      <th></th>\n",
       "      <th></th>\n",
       "      <th></th>\n",
       "      <th></th>\n",
       "      <th></th>\n",
       "      <th></th>\n",
       "      <th></th>\n",
       "      <th></th>\n",
       "      <th></th>\n",
       "      <th></th>\n",
       "      <th></th>\n",
       "      <th></th>\n",
       "      <th></th>\n",
       "      <th></th>\n",
       "      <th></th>\n",
       "      <th></th>\n",
       "      <th></th>\n",
       "      <th></th>\n",
       "      <th></th>\n",
       "      <th></th>\n",
       "      <th></th>\n",
       "    </tr>\n",
       "  </thead>\n",
       "  <tbody>\n",
       "    <tr>\n",
       "      <th>434</th>\n",
       "      <td>Forbidden Planet (1956)</td>\n",
       "      <td>1956-01-01</td>\n",
       "      <td>http://us.imdb.com/M/title-exact?Forbidden%20P...</td>\n",
       "      <td>0</td>\n",
       "      <td>0</td>\n",
       "      <td>0</td>\n",
       "      <td>0</td>\n",
       "      <td>0</td>\n",
       "      <td>0</td>\n",
       "      <td>0</td>\n",
       "      <td>...</td>\n",
       "      <td>0</td>\n",
       "      <td>0</td>\n",
       "      <td>0</td>\n",
       "      <td>0</td>\n",
       "      <td>0</td>\n",
       "      <td>1</td>\n",
       "      <td>0</td>\n",
       "      <td>0</td>\n",
       "      <td>0</td>\n",
       "      <td>1956.0</td>\n",
       "    </tr>\n",
       "    <tr>\n",
       "      <th>495</th>\n",
       "      <td>Around the World in 80 Days (1956)</td>\n",
       "      <td>1956-01-01</td>\n",
       "      <td>http://us.imdb.com/M/title-exact?Around%20the%...</td>\n",
       "      <td>0</td>\n",
       "      <td>0</td>\n",
       "      <td>1</td>\n",
       "      <td>0</td>\n",
       "      <td>0</td>\n",
       "      <td>1</td>\n",
       "      <td>0</td>\n",
       "      <td>...</td>\n",
       "      <td>0</td>\n",
       "      <td>0</td>\n",
       "      <td>0</td>\n",
       "      <td>0</td>\n",
       "      <td>0</td>\n",
       "      <td>0</td>\n",
       "      <td>0</td>\n",
       "      <td>0</td>\n",
       "      <td>0</td>\n",
       "      <td>1956.0</td>\n",
       "    </tr>\n",
       "    <tr>\n",
       "      <th>614</th>\n",
       "      <td>Giant (1956)</td>\n",
       "      <td>1956-01-01</td>\n",
       "      <td>http://us.imdb.com/M/title-exact?Giant%20(1956)</td>\n",
       "      <td>0</td>\n",
       "      <td>0</td>\n",
       "      <td>0</td>\n",
       "      <td>0</td>\n",
       "      <td>0</td>\n",
       "      <td>0</td>\n",
       "      <td>0</td>\n",
       "      <td>...</td>\n",
       "      <td>0</td>\n",
       "      <td>0</td>\n",
       "      <td>0</td>\n",
       "      <td>0</td>\n",
       "      <td>0</td>\n",
       "      <td>0</td>\n",
       "      <td>0</td>\n",
       "      <td>0</td>\n",
       "      <td>0</td>\n",
       "      <td>1956.0</td>\n",
       "    </tr>\n",
       "    <tr>\n",
       "      <th>1577</th>\n",
       "      <td>Death in the Garden (Mort en ce jardin, La) (1...</td>\n",
       "      <td>1956-01-01</td>\n",
       "      <td>http://us.imdb.com/Title?Mort+en+ce+jardin,+La...</td>\n",
       "      <td>0</td>\n",
       "      <td>0</td>\n",
       "      <td>0</td>\n",
       "      <td>0</td>\n",
       "      <td>0</td>\n",
       "      <td>0</td>\n",
       "      <td>0</td>\n",
       "      <td>...</td>\n",
       "      <td>0</td>\n",
       "      <td>0</td>\n",
       "      <td>0</td>\n",
       "      <td>0</td>\n",
       "      <td>0</td>\n",
       "      <td>0</td>\n",
       "      <td>0</td>\n",
       "      <td>0</td>\n",
       "      <td>0</td>\n",
       "      <td>1956.0</td>\n",
       "    </tr>\n",
       "  </tbody>\n",
       "</table>\n",
       "<p>4 rows × 23 columns</p>\n",
       "</div>"
      ],
      "text/plain": [
       "                                                      title release_date  \\\n",
       "movie_id                                                                   \n",
       "434                                 Forbidden Planet (1956)   1956-01-01   \n",
       "495                      Around the World in 80 Days (1956)   1956-01-01   \n",
       "614                                            Giant (1956)   1956-01-01   \n",
       "1577      Death in the Garden (Mort en ce jardin, La) (1...   1956-01-01   \n",
       "\n",
       "                                                   imdb_url  unknown  action  \\\n",
       "movie_id                                                                       \n",
       "434       http://us.imdb.com/M/title-exact?Forbidden%20P...        0       0   \n",
       "495       http://us.imdb.com/M/title-exact?Around%20the%...        0       0   \n",
       "614         http://us.imdb.com/M/title-exact?Giant%20(1956)        0       0   \n",
       "1577      http://us.imdb.com/Title?Mort+en+ce+jardin,+La...        0       0   \n",
       "\n",
       "          adventure  animation  children  comedy  crime  ...  film_noir  \\\n",
       "movie_id                                                 ...              \n",
       "434               0          0         0       0      0  ...          0   \n",
       "495               1          0         0       1      0  ...          0   \n",
       "614               0          0         0       0      0  ...          0   \n",
       "1577              0          0         0       0      0  ...          0   \n",
       "\n",
       "          horror  musical  mystery  romance  sci_fi  thriller  war  western  \\\n",
       "movie_id                                                                      \n",
       "434            0        0        0        0       1         0    0        0   \n",
       "495            0        0        0        0       0         0    0        0   \n",
       "614            0        0        0        0       0         0    0        0   \n",
       "1577           0        0        0        0       0         0    0        0   \n",
       "\n",
       "            year  \n",
       "movie_id          \n",
       "434       1956.0  \n",
       "495       1956.0  \n",
       "614       1956.0  \n",
       "1577      1956.0  \n",
       "\n",
       "[4 rows x 23 columns]"
      ]
     },
     "execution_count": 18,
     "metadata": {},
     "output_type": "execute_result"
    }
   ],
   "source": [
    "df[df.release_date.dt.year==1956]"
   ]
  },
  {
   "cell_type": "markdown",
   "metadata": {
    "deletable": false,
    "editable": false,
    "nbgrader": {
     "cell_type": "markdown",
     "checksum": "68b829c517b3ddc437c22291ca00891f",
     "grade": false,
     "grade_id": "cell-6594c85c56b84bcd",
     "locked": true,
     "schema_version": 3,
     "solution": false,
     "task": false
    }
   },
   "source": [
    "# How many movies were released in the 80s?\n",
    "\n",
    "Let's print 5 examples too."
   ]
  },
  {
   "cell_type": "code",
   "execution_count": 19,
   "metadata": {},
   "outputs": [
    {
     "name": "stdout",
     "output_type": "stream",
     "text": [
      "107 movies were released in the 80s.\n",
      "\n",
      "A few examples:\n",
      "Clean Slate (Coup de Torchon) (1981)\n",
      "Raising Arizona (1987)\n",
      "Abyss, The (1989)\n",
      "Pink Floyd - The Wall (1982)\n",
      "Withnail and I (1987)\n"
     ]
    }
   ],
   "source": [
    "d = df[(df.release_date.dt.year >=  1980) & (df.release_date.dt.year < 1990)]\n",
    "print(f\"{len(d)} movies were released in the 80s.\")\n",
    "print(\"\\nA few examples:\")\n",
    "print(\"\\n\".join(d.sample(5).title))"
   ]
  },
  {
   "cell_type": "markdown",
   "metadata": {
    "deletable": false,
    "editable": false,
    "nbgrader": {
     "cell_type": "markdown",
     "checksum": "ae8c7a3b2f1ca2d99d3488013450d8e7",
     "grade": false,
     "grade_id": "cell-09f9c5454a628494",
     "locked": true,
     "schema_version": 3,
     "solution": false,
     "task": false
    }
   },
   "source": [
    "# When were the Die Hard movies released?"
   ]
  },
  {
   "cell_type": "code",
   "execution_count": 20,
   "metadata": {},
   "outputs": [
    {
     "data": {
      "text/html": [
       "<div>\n",
       "<style scoped>\n",
       "    .dataframe tbody tr th:only-of-type {\n",
       "        vertical-align: middle;\n",
       "    }\n",
       "\n",
       "    .dataframe tbody tr th {\n",
       "        vertical-align: top;\n",
       "    }\n",
       "\n",
       "    .dataframe thead th {\n",
       "        text-align: right;\n",
       "    }\n",
       "</style>\n",
       "<table border=\"1\" class=\"dataframe\">\n",
       "  <thead>\n",
       "    <tr style=\"text-align: right;\">\n",
       "      <th></th>\n",
       "      <th>title</th>\n",
       "      <th>release_date</th>\n",
       "      <th>imdb_url</th>\n",
       "      <th>unknown</th>\n",
       "      <th>action</th>\n",
       "      <th>adventure</th>\n",
       "      <th>animation</th>\n",
       "      <th>children</th>\n",
       "      <th>comedy</th>\n",
       "      <th>crime</th>\n",
       "      <th>...</th>\n",
       "      <th>film_noir</th>\n",
       "      <th>horror</th>\n",
       "      <th>musical</th>\n",
       "      <th>mystery</th>\n",
       "      <th>romance</th>\n",
       "      <th>sci_fi</th>\n",
       "      <th>thriller</th>\n",
       "      <th>war</th>\n",
       "      <th>western</th>\n",
       "      <th>year</th>\n",
       "    </tr>\n",
       "    <tr>\n",
       "      <th>movie_id</th>\n",
       "      <th></th>\n",
       "      <th></th>\n",
       "      <th></th>\n",
       "      <th></th>\n",
       "      <th></th>\n",
       "      <th></th>\n",
       "      <th></th>\n",
       "      <th></th>\n",
       "      <th></th>\n",
       "      <th></th>\n",
       "      <th></th>\n",
       "      <th></th>\n",
       "      <th></th>\n",
       "      <th></th>\n",
       "      <th></th>\n",
       "      <th></th>\n",
       "      <th></th>\n",
       "      <th></th>\n",
       "      <th></th>\n",
       "      <th></th>\n",
       "      <th></th>\n",
       "    </tr>\n",
       "  </thead>\n",
       "  <tbody>\n",
       "    <tr>\n",
       "      <th>144</th>\n",
       "      <td>Die Hard (1988)</td>\n",
       "      <td>1988-01-01</td>\n",
       "      <td>http://us.imdb.com/M/title-exact?Die%20Hard%20...</td>\n",
       "      <td>0</td>\n",
       "      <td>1</td>\n",
       "      <td>0</td>\n",
       "      <td>0</td>\n",
       "      <td>0</td>\n",
       "      <td>0</td>\n",
       "      <td>0</td>\n",
       "      <td>...</td>\n",
       "      <td>0</td>\n",
       "      <td>0</td>\n",
       "      <td>0</td>\n",
       "      <td>0</td>\n",
       "      <td>0</td>\n",
       "      <td>0</td>\n",
       "      <td>1</td>\n",
       "      <td>0</td>\n",
       "      <td>0</td>\n",
       "      <td>1988.0</td>\n",
       "    </tr>\n",
       "    <tr>\n",
       "      <th>226</th>\n",
       "      <td>Die Hard 2 (1990)</td>\n",
       "      <td>1990-01-01</td>\n",
       "      <td>http://us.imdb.com/M/title-exact?Die%20Hard%20...</td>\n",
       "      <td>0</td>\n",
       "      <td>1</td>\n",
       "      <td>0</td>\n",
       "      <td>0</td>\n",
       "      <td>0</td>\n",
       "      <td>0</td>\n",
       "      <td>0</td>\n",
       "      <td>...</td>\n",
       "      <td>0</td>\n",
       "      <td>0</td>\n",
       "      <td>0</td>\n",
       "      <td>0</td>\n",
       "      <td>0</td>\n",
       "      <td>0</td>\n",
       "      <td>1</td>\n",
       "      <td>0</td>\n",
       "      <td>0</td>\n",
       "      <td>1990.0</td>\n",
       "    </tr>\n",
       "    <tr>\n",
       "      <th>550</th>\n",
       "      <td>Die Hard: With a Vengeance (1995)</td>\n",
       "      <td>1995-01-01</td>\n",
       "      <td>http://us.imdb.com/M/title-exact?Die%20Hard:%2...</td>\n",
       "      <td>0</td>\n",
       "      <td>1</td>\n",
       "      <td>0</td>\n",
       "      <td>0</td>\n",
       "      <td>0</td>\n",
       "      <td>0</td>\n",
       "      <td>0</td>\n",
       "      <td>...</td>\n",
       "      <td>0</td>\n",
       "      <td>0</td>\n",
       "      <td>0</td>\n",
       "      <td>0</td>\n",
       "      <td>0</td>\n",
       "      <td>0</td>\n",
       "      <td>1</td>\n",
       "      <td>0</td>\n",
       "      <td>0</td>\n",
       "      <td>1995.0</td>\n",
       "    </tr>\n",
       "  </tbody>\n",
       "</table>\n",
       "<p>3 rows × 23 columns</p>\n",
       "</div>"
      ],
      "text/plain": [
       "                                      title release_date  \\\n",
       "movie_id                                                   \n",
       "144                         Die Hard (1988)   1988-01-01   \n",
       "226                       Die Hard 2 (1990)   1990-01-01   \n",
       "550       Die Hard: With a Vengeance (1995)   1995-01-01   \n",
       "\n",
       "                                                   imdb_url  unknown  action  \\\n",
       "movie_id                                                                       \n",
       "144       http://us.imdb.com/M/title-exact?Die%20Hard%20...        0       1   \n",
       "226       http://us.imdb.com/M/title-exact?Die%20Hard%20...        0       1   \n",
       "550       http://us.imdb.com/M/title-exact?Die%20Hard:%2...        0       1   \n",
       "\n",
       "          adventure  animation  children  comedy  crime  ...  film_noir  \\\n",
       "movie_id                                                 ...              \n",
       "144               0          0         0       0      0  ...          0   \n",
       "226               0          0         0       0      0  ...          0   \n",
       "550               0          0         0       0      0  ...          0   \n",
       "\n",
       "          horror  musical  mystery  romance  sci_fi  thriller  war  western  \\\n",
       "movie_id                                                                      \n",
       "144            0        0        0        0       0         1    0        0   \n",
       "226            0        0        0        0       0         1    0        0   \n",
       "550            0        0        0        0       0         1    0        0   \n",
       "\n",
       "            year  \n",
       "movie_id          \n",
       "144       1988.0  \n",
       "226       1990.0  \n",
       "550       1995.0  \n",
       "\n",
       "[3 rows x 23 columns]"
      ]
     },
     "execution_count": 20,
     "metadata": {},
     "output_type": "execute_result"
    }
   ],
   "source": [
    "df[df.title.str.contains('Die Hard')]"
   ]
  },
  {
   "cell_type": "markdown",
   "metadata": {
    "deletable": false,
    "editable": false,
    "nbgrader": {
     "cell_type": "markdown",
     "checksum": "e10fedd283f42a64d06a3a35fe5a880b",
     "grade": false,
     "grade_id": "cell-a69cd2ca4e37cd58",
     "locked": true,
     "schema_version": 3,
     "solution": false,
     "task": false
    }
   },
   "source": [
    "Die Hard 4 and 5 are missing. This is because the dataset only contains movies released between:"
   ]
  },
  {
   "cell_type": "code",
   "execution_count": 21,
   "metadata": {},
   "outputs": [
    {
     "data": {
      "text/plain": [
       "(Timestamp('1922-01-01 00:00:00'), Timestamp('1998-10-23 00:00:00'))"
      ]
     },
     "execution_count": 21,
     "metadata": {},
     "output_type": "execute_result"
    }
   ],
   "source": [
    "df.release_date.min(), df.release_date.max()"
   ]
  },
  {
   "cell_type": "markdown",
   "metadata": {
    "deletable": false,
    "editable": false,
    "nbgrader": {
     "cell_type": "markdown",
     "checksum": "4911e14f9667eb0e9ceb74c386136ffa",
     "grade": false,
     "grade_id": "cell-69584761ceee55a0",
     "locked": true,
     "schema_version": 3,
     "solution": false,
     "task": false
    }
   },
   "source": [
    "and Die Hard 4 and 5 were released in 2007 and 2013 respectively."
   ]
  },
  {
   "cell_type": "markdown",
   "metadata": {
    "deletable": false,
    "editable": false,
    "nbgrader": {
     "cell_type": "markdown",
     "checksum": "de0fb894f6d7606bf52718e9034baad6",
     "grade": false,
     "grade_id": "cell-6b406aaa7a9b18cf",
     "locked": true,
     "schema_version": 3,
     "solution": false,
     "task": false
    }
   },
   "source": [
    "## How many movies are both action and romance? What about action or romance?\n",
    "\n",
    "Make sure you parenthesize the conditions"
   ]
  },
  {
   "cell_type": "code",
   "execution_count": 22,
   "metadata": {},
   "outputs": [
    {
     "name": "stdout",
     "output_type": "stream",
     "text": [
      "Action and romance: 25\n",
      "Action or romance: 473\n"
     ]
    }
   ],
   "source": [
    "print(\"Action and romance:\", len(df[(df.action==1) & (df.romance==1)]))\n",
    "print(\"Action or romance:\", len(df[(df.action==1) | (df.romance==1)]))"
   ]
  },
  {
   "cell_type": "markdown",
   "metadata": {
    "deletable": false,
    "editable": false,
    "nbgrader": {
     "cell_type": "markdown",
     "checksum": "7ba0ab5b671c4ba605089f9966063de7",
     "grade": false,
     "grade_id": "cell-57fe4c09f9c621a4",
     "locked": true,
     "schema_version": 3,
     "solution": false,
     "task": false
    }
   },
   "source": [
    "# Problem Set 1: simple queries\n",
    "\n",
    "# Q1.1 How many _action_ movies were release before 1985 and in 1985 or later? (2 points)"
   ]
  },
  {
   "cell_type": "code",
   "execution_count": 23,
   "metadata": {
    "deletable": false,
    "nbgrader": {
     "cell_type": "code",
     "checksum": "f543e9ac34a1a9eeeb918655e9c215dc",
     "grade": false,
     "grade_id": "cell-7d65a6e7b0408902",
     "locked": false,
     "schema_version": 3,
     "solution": true,
     "task": false
    }
   },
   "outputs": [],
   "source": [
    "def count_movies_before_1985(df):\n",
    "    return len(df[(df.release_date.dt.year < 1985) & (df.action == 1)])\n",
    "\n",
    "def count_movies_after_1984(df):\n",
    "    return len(df[(df.release_date.dt.year >=  1985) & (df.action == 1)])"
   ]
  },
  {
   "cell_type": "code",
   "execution_count": 24,
   "metadata": {
    "deletable": false,
    "editable": false,
    "nbgrader": {
     "cell_type": "code",
     "checksum": "d3aa2d86be65e0c20db9f0066687065b",
     "grade": true,
     "grade_id": "cell-5153b7634856a2de",
     "locked": true,
     "points": 2,
     "schema_version": 3,
     "solution": false,
     "task": false
    }
   },
   "outputs": [],
   "source": [
    "before = count_movies_before_1985(df)\n",
    "assert isinstance(before, int) or isinstance(before, np.integer)\n",
    "# action movies only, not all!\n",
    "assert before != 272\n",
    "\n",
    "after = count_movies_after_1984(df)\n",
    "assert isinstance(after, int) or isinstance(after, np.integer)"
   ]
  },
  {
   "cell_type": "markdown",
   "metadata": {
    "deletable": false,
    "editable": false,
    "nbgrader": {
     "cell_type": "markdown",
     "checksum": "a5f93b723d92e371541157cf29165d17",
     "grade": false,
     "grade_id": "cell-eb024cd669c297d4",
     "locked": true,
     "schema_version": 3,
     "solution": false,
     "task": false
    }
   },
   "source": [
    "# Q1.2 Are there thrillers for children? Find an example. (2 points)"
   ]
  },
  {
   "cell_type": "code",
   "execution_count": 25,
   "metadata": {
    "deletable": false,
    "nbgrader": {
     "cell_type": "code",
     "checksum": "a7012f9efa96e8191d1d5251b85793c4",
     "grade": false,
     "grade_id": "cell-a2747665ec930c22",
     "locked": false,
     "schema_version": 3,
     "solution": true,
     "task": false
    }
   },
   "outputs": [
    {
     "name": "stdout",
     "output_type": "stream",
     "text": [
      "Transformers: The Movie, The (1986)\n"
     ]
    }
   ],
   "source": [
    "def child_thriller(df):\n",
    "    return \"\".join(df[(df.thriller == 1) & (df.children == 1)].title)\n",
    "print(child_thriller(df))"
   ]
  },
  {
   "cell_type": "code",
   "execution_count": 26,
   "metadata": {
    "deletable": false,
    "editable": false,
    "nbgrader": {
     "cell_type": "code",
     "checksum": "5d8ca27c0b90bd7e0eca2f98653bdaac",
     "grade": true,
     "grade_id": "cell-6a76089ff247f0bb",
     "locked": true,
     "points": 2,
     "schema_version": 3,
     "solution": false,
     "task": false
    }
   },
   "outputs": [],
   "source": [
    "title = child_thriller(df)\n",
    "assert isinstance(title, str)"
   ]
  },
  {
   "cell_type": "markdown",
   "metadata": {
    "deletable": false,
    "editable": false,
    "nbgrader": {
     "cell_type": "markdown",
     "checksum": "6d05c65cc575e7c4acdcc44e3fc6af83",
     "grade": false,
     "grade_id": "cell-168b598112431466",
     "locked": true,
     "schema_version": 3,
     "solution": false,
     "task": false
    }
   },
   "source": [
    "# Q1.3 How many movies have title longer than 40 characters? (3 points)"
   ]
  },
  {
   "cell_type": "code",
   "execution_count": 27,
   "metadata": {
    "deletable": false,
    "nbgrader": {
     "cell_type": "code",
     "checksum": "11355a695decad6106459e6fe8fd3917",
     "grade": false,
     "grade_id": "cell-d5beda202663df05",
     "locked": false,
     "schema_version": 3,
     "solution": true,
     "task": false
    }
   },
   "outputs": [],
   "source": [
    "def long_titles(df):\n",
    "    return len(df[((df.title).str.len()) > 40])"
   ]
  },
  {
   "cell_type": "code",
   "execution_count": 28,
   "metadata": {
    "deletable": false,
    "editable": false,
    "nbgrader": {
     "cell_type": "code",
     "checksum": "69fb7a6bd77e8489be1b4f7b3b6af5d3",
     "grade": true,
     "grade_id": "cell-2d40ffa2513e88db",
     "locked": true,
     "points": 3,
     "schema_version": 3,
     "solution": false,
     "task": false
    }
   },
   "outputs": [],
   "source": [
    "title_cnt = long_titles(df)\n",
    "assert isinstance(title_cnt, int) or isinstance(title_cnt, np.integer)"
   ]
  },
  {
   "cell_type": "markdown",
   "metadata": {},
   "source": [
    "# `pd.Series.apply`: running arbitrary functions on each element"
   ]
  },
  {
   "cell_type": "markdown",
   "metadata": {},
   "source": [
    "The `apply` function allow running arbitrary functions on `pd.Series`:"
   ]
  },
  {
   "cell_type": "code",
   "execution_count": 29,
   "metadata": {},
   "outputs": [
    {
     "data": {
      "text/plain": [
       "1       1\n",
       "2     319\n",
       "3     511\n",
       "4     396\n",
       "5     199\n",
       "6     107\n",
       "7      84\n",
       "8      23\n",
       "9      21\n",
       "10      9\n",
       "11      4\n",
       "12      3\n",
       "13      2\n",
       "14      1\n",
       "15      1\n",
       "16      1\n",
       "Name: title, dtype: int64"
      ]
     },
     "execution_count": 29,
     "metadata": {},
     "output_type": "execute_result"
    }
   ],
   "source": [
    "def number_of_words(field):\n",
    "    return len(field.split(\" \"))\n",
    "\n",
    "df.title.apply(number_of_words).value_counts().sort_index()\n",
    "# or\n",
    "# df.title.apply(lambda t: len(t.split(\" \"))).value_counts().sort_index()"
   ]
  },
  {
   "cell_type": "code",
   "execution_count": 30,
   "metadata": {},
   "outputs": [
    {
     "data": {
      "text/plain": [
       "<matplotlib.axes._subplots.AxesSubplot at 0x10eae0fd0>"
      ]
     },
     "execution_count": 30,
     "metadata": {},
     "output_type": "execute_result"
    },
    {
     "data": {
      "image/png": "[encoded data removed]",
      "text/plain": [
       "<Figure size 432x288 with 1 Axes>"
      ]
     },
     "metadata": {
      "needs_background": "light"
     },
     "output_type": "display_data"
    }
   ],
   "source": [
    "df.title.apply(number_of_words).value_counts().sort_index().plot(kind='bar')"
   ]
  },
  {
   "cell_type": "markdown",
   "metadata": {
    "deletable": false,
    "editable": false,
    "nbgrader": {
     "cell_type": "markdown",
     "checksum": "48125e3125bd06d8b9d6596cecd5830a",
     "grade": false,
     "grade_id": "cell-e4cbc4ede764d08d",
     "locked": true,
     "schema_version": 3,
     "solution": false,
     "task": false
    }
   },
   "source": [
    "# Q1.4\\* How many content words does the average title have? Which title has the most/least words?\n",
    "\n",
    "Content words are capitalized. The opposite of content words are function words (and, a, an, the, more etc.). \n",
    "\n",
    "We should not include the release year in the word count. The release year is always the last word of the title.\n",
    "\n",
    "## Step 1. Count words in the title (2 points)"
   ]
  },
  {
   "cell_type": "code",
   "execution_count": 31,
   "metadata": {
    "deletable": false,
    "nbgrader": {
     "cell_type": "code",
     "checksum": "3271cf6194df6b1f3933b499e6b5950d",
     "grade": false,
     "grade_id": "cell-63ef9fbfe320e795",
     "locked": false,
     "schema_version": 3,
     "solution": true,
     "task": false
    }
   },
   "outputs": [],
   "source": [
    "#df['title_word_cnt'] = ...\n",
    "def count_content_words(title):\n",
    "    words = title.split(\" \")\n",
    "    count = 0\n",
    "    for word in words:\n",
    "        if len(word) > 0:\n",
    "            if word[0].isupper() | word[0].isnumeric():\n",
    "                count += 1\n",
    "    return count"
   ]
  },
  {
   "cell_type": "code",
   "execution_count": 32,
   "metadata": {
    "deletable": false,
    "editable": false,
    "nbgrader": {
     "cell_type": "code",
     "checksum": "b21d3dae33dcbb99e73710c4b05fc93e",
     "grade": true,
     "grade_id": "cell-a9e888e6e49aa1d5",
     "locked": true,
     "points": 2,
     "schema_version": 3,
     "solution": false,
     "task": false
    }
   },
   "outputs": [],
   "source": [
    "df['title_word_cnt'] = df.title.apply(count_content_words)\n",
    "assert 'title_word_cnt' in df.columns\n",
    "assert df.loc[1424, 'title_word_cnt'] == 5\n",
    "assert df.loc[1170, 'title_word_cnt'] == 2"
   ]
  },
  {
   "cell_type": "code",
   "execution_count": 33,
   "metadata": {},
   "outputs": [
    {
     "data": {
      "text/plain": [
       "<matplotlib.axes._subplots.AxesSubplot at 0x1a25b48150>"
      ]
     },
     "execution_count": 33,
     "metadata": {},
     "output_type": "execute_result"
    },
    {
     "data": {
      "image/png": "[encoded data removed]",
      "text/plain": [
       "<Figure size 432x288 with 1 Axes>"
      ]
     },
     "metadata": {
      "needs_background": "light"
     },
     "output_type": "display_data"
    }
   ],
   "source": [
    "df.title_word_cnt.value_counts().sort_index().plot(kind='bar')"
   ]
  },
  {
   "cell_type": "markdown",
   "metadata": {
    "deletable": false,
    "editable": false,
    "nbgrader": {
     "cell_type": "markdown",
     "checksum": "f3a639f2f0e4118427f85afc0e84d72d",
     "grade": false,
     "grade_id": "cell-91efa5802ca05768",
     "locked": true,
     "schema_version": 3,
     "solution": false,
     "task": false
    }
   },
   "source": [
    "## Step 2. Shortest and longest titles by word count (3 points)"
   ]
  },
  {
   "cell_type": "code",
   "execution_count": 34,
   "metadata": {
    "deletable": false,
    "nbgrader": {
     "cell_type": "code",
     "checksum": "62d4567fd83138176234984c535e331e",
     "grade": false,
     "grade_id": "cell-a30202f4607ee40b",
     "locked": false,
     "schema_version": 3,
     "solution": true,
     "task": false
    }
   },
   "outputs": [],
   "source": [
    "#shortest_title = ...\n",
    "#longest_title = ...\n",
    "#shortest_title_len = ...\n",
    "#longest_title_len = ...\n",
    "shortest_title = \" ,\".join(df[(df.title.apply(count_content_words).min()) == df.title.apply(count_content_words)].title)\n",
    "longest_title = (df[df.title.apply(count_content_words).max() == df.title.apply(count_content_words)].title.iloc[0])\n",
    "shortest_title_len = df.title.apply(count_content_words).min()\n",
    "longest_title_len = df.title.apply(count_content_words).max()"
   ]
  },
  {
   "cell_type": "code",
   "execution_count": 35,
   "metadata": {
    "deletable": false,
    "editable": false,
    "nbgrader": {
     "cell_type": "code",
     "checksum": "28dab7f9baa0486b22fc5450b680c4dd",
     "grade": true,
     "grade_id": "cell-ba205fe403412b5b",
     "locked": true,
     "points": 3,
     "schema_version": 3,
     "solution": false,
     "task": false
    }
   },
   "outputs": [],
   "source": [
    "assert isinstance(shortest_title, str)\n",
    "assert isinstance(longest_title, str)\n",
    "assert isinstance(shortest_title_len, np.integer) or isinstance(shortest_title_len, int)\n",
    "assert isinstance(longest_title_len, np.integer) or isinstance(longest_title_len, int)\n",
    "assert shortest_title_len == 0\n",
    "assert longest_title == 'Englishman Who Went Up a Hill, But Came Down a Mountain, The (1995)'\n",
    "assert shortest_title == 'unknown'\n",
    "assert longest_title_len == 10"
   ]
  },
  {
   "cell_type": "markdown",
   "metadata": {},
   "source": [
    "# Q1.5\\* How many movies have the word 'and' in their title? Write a function that counts movies with a particular word. (3 points)\n",
    "\n",
    "Disregard case and avoid matching subwords for examples. For example 'and' should not match 'Holland' nor should it match the movie 'Andrew'."
   ]
  },
  {
   "cell_type": "code",
   "execution_count": 36,
   "metadata": {
    "deletable": false,
    "nbgrader": {
     "cell_type": "code",
     "checksum": "d98be92cf345b5416f39aed360295dd4",
     "grade": false,
     "grade_id": "cell-abb6b0843766e9bd",
     "locked": false,
     "schema_version": 3,
     "solution": true,
     "task": false
    }
   },
   "outputs": [],
   "source": [
    "def movies_with_word(df, word):\n",
    "    word_with_spaces = \" \" + str.casefold(word) + \" \"\n",
    "    word_capit = str.title(word) + \" \"\n",
    "    return df[df.title.str.contains(word_with_spaces) | df.title.str.contains(word_capit)]"
   ]
  },
  {
   "cell_type": "code",
   "execution_count": 37,
   "metadata": {
    "deletable": false,
    "editable": false,
    "nbgrader": {
     "cell_type": "code",
     "checksum": "2bea91240190946fb74f005836227c7a",
     "grade": true,
     "grade_id": "cell-e42f662512234c09",
     "locked": true,
     "points": 3,
     "schema_version": 3,
     "solution": false,
     "task": false
    }
   },
   "outputs": [],
   "source": [
    "and_movies = movies_with_word(df, \"and\")\n",
    "assert isinstance(and_movies, pd.DataFrame)\n",
    "assert and_movies.shape == (66, 24)\n",
    "assert 'Mr. Holland\\'s Opus (1995)' not in and_movies.title.values\n",
    "assert movies_with_word(df, \"The\").shape == (465, 24)\n",
    "assert movies_with_word(df, \"the\").shape == (465, 24)"
   ]
  },
  {
   "cell_type": "markdown",
   "metadata": {
    "deletable": false,
    "editable": false,
    "nbgrader": {
     "cell_type": "markdown",
     "checksum": "f870d44fd9231fd6fdcd884b8371f412",
     "grade": false,
     "grade_id": "cell-ac8a35cbdad9d6be",
     "locked": true,
     "schema_version": 3,
     "solution": false,
     "task": false
    }
   },
   "source": [
    "# Groupby and visualization \n",
    "\n",
    "How many movies are released each year?"
   ]
  },
  {
   "cell_type": "code",
   "execution_count": 38,
   "metadata": {},
   "outputs": [
    {
     "data": {
      "text/plain": [
       "<matplotlib.axes._subplots.AxesSubplot at 0x1a25c30750>"
      ]
     },
     "execution_count": 38,
     "metadata": {},
     "output_type": "execute_result"
    },
    {
     "data": {
      "image/png": "[encoded data removed]",
      "text/plain": [
       "<Figure size 432x288 with 1 Axes>"
      ]
     },
     "metadata": {
      "needs_background": "light"
     },
     "output_type": "display_data"
    }
   ],
   "source": [
    "df.groupby('year').size().plot()"
   ]
  },
  {
   "cell_type": "markdown",
   "metadata": {
    "deletable": false,
    "editable": false,
    "nbgrader": {
     "cell_type": "markdown",
     "checksum": "4019bcdb5be2aab1c8105116a21c664b",
     "grade": false,
     "grade_id": "cell-ce7551092f0d630f",
     "locked": true,
     "schema_version": 3,
     "solution": false,
     "task": false
    }
   },
   "source": [
    "another option is the use `pd.Series.value_counts`"
   ]
  },
  {
   "cell_type": "code",
   "execution_count": 39,
   "metadata": {},
   "outputs": [
    {
     "data": {
      "text/plain": [
       "<matplotlib.axes._subplots.AxesSubplot at 0x1a25d55410>"
      ]
     },
     "execution_count": 39,
     "metadata": {},
     "output_type": "execute_result"
    },
    {
     "data": {
      "image/png": "[encoded data removed]",
      "text/plain": [
       "<Figure size 432x288 with 1 Axes>"
      ]
     },
     "metadata": {
      "needs_background": "light"
     },
     "output_type": "display_data"
    }
   ],
   "source": [
    "df.year.value_counts().sort_index().plot()"
   ]
  },
  {
   "cell_type": "markdown",
   "metadata": {
    "deletable": false,
    "editable": false,
    "nbgrader": {
     "cell_type": "markdown",
     "checksum": "e4fa53e857e86b6081f032b7b2c42e5f",
     "grade": false,
     "grade_id": "cell-3c3f7e7bf5b01b82",
     "locked": true,
     "schema_version": 3,
     "solution": false,
     "task": false
    }
   },
   "source": [
    "most movies were released in the late 80s and 90s, let's zoom in. Let's also change the figure size.\n",
    "\n",
    "We create the plot object with one subplot, we then specify which axis pandas should use for plotting (`ax=ax`)."
   ]
  },
  {
   "cell_type": "code",
   "execution_count": 40,
   "metadata": {},
   "outputs": [
    {
     "data": {
      "text/plain": [
       "<matplotlib.axes._subplots.AxesSubplot at 0x1a24b929d0>"
      ]
     },
     "execution_count": 40,
     "metadata": {},
     "output_type": "execute_result"
    },
    {
     "data": {
      "image/png": "[encoded data removed]",
      "text/plain": [
       "<Figure size 720x432 with 1 Axes>"
      ]
     },
     "metadata": {
      "needs_background": "light"
     },
     "output_type": "display_data"
    }
   ],
   "source": [
    "fig, ax = plt.subplots(1, figsize=(10, 6))\n",
    "d = df[df.year>1985]\n",
    "d.groupby('year').size().plot(kind='bar', ax=ax)"
   ]
  },
  {
   "cell_type": "markdown",
   "metadata": {
    "deletable": false,
    "editable": false,
    "nbgrader": {
     "cell_type": "markdown",
     "checksum": "b3247abbf035e9b024f177b186e7396b",
     "grade": false,
     "grade_id": "cell-80bb33f0af16a29f",
     "locked": true,
     "schema_version": 3,
     "solution": false,
     "task": false
    }
   },
   "source": [
    "### we can groupby on multiple columns\n",
    "\n",
    "Back to the romance-action combinations"
   ]
  },
  {
   "cell_type": "code",
   "execution_count": 41,
   "metadata": {},
   "outputs": [
    {
     "data": {
      "text/plain": [
       "action  romance\n",
       "0       0          1209\n",
       "        1           222\n",
       "1       0           226\n",
       "        1            25\n",
       "dtype: int64"
      ]
     },
     "execution_count": 41,
     "metadata": {},
     "output_type": "execute_result"
    }
   ],
   "source": [
    "df.groupby(['action', 'romance']).size()"
   ]
  },
  {
   "cell_type": "markdown",
   "metadata": {
    "deletable": false,
    "editable": false,
    "nbgrader": {
     "cell_type": "markdown",
     "checksum": "d98468b86619ada54441bd0a8cd7f2d1",
     "grade": false,
     "grade_id": "cell-1212d81802fc5a53",
     "locked": true,
     "schema_version": 3,
     "solution": false,
     "task": false
    }
   },
   "source": [
    "### we can also group on arbitrary conditions\n",
    "\n",
    "how many movies were released each decade?"
   ]
  },
  {
   "cell_type": "code",
   "execution_count": 42,
   "metadata": {},
   "outputs": [
    {
     "data": {
      "text/plain": [
       "year\n",
       "1920.0       2\n",
       "1930.0      29\n",
       "1940.0      45\n",
       "1950.0      54\n",
       "1960.0      43\n",
       "1970.0      53\n",
       "1980.0     107\n",
       "1990.0    1348\n",
       "dtype: int64"
      ]
     },
     "execution_count": 42,
     "metadata": {},
     "output_type": "execute_result"
    }
   ],
   "source": [
    "df.groupby(df.year // 10 * 10).size()"
   ]
  },
  {
   "cell_type": "markdown",
   "metadata": {
    "deletable": false,
    "editable": false,
    "nbgrader": {
     "cell_type": "markdown",
     "checksum": "acccb8beb69848e6919c12c2d8da8684",
     "grade": false,
     "grade_id": "cell-70a293b988bf9918",
     "locked": true,
     "schema_version": 3,
     "solution": false,
     "task": false
    }
   },
   "source": [
    "# Problem Set 2: Groupby and visualization\n",
    "\n",
    "# Q2.1 Write a function that takes a genre and groups movies of that genre by year. Do not include movies older than 1985.  (3 points)"
   ]
  },
  {
   "cell_type": "code",
   "execution_count": 43,
   "metadata": {
    "deletable": false,
    "nbgrader": {
     "cell_type": "code",
     "checksum": "6def498937809c50f0a1af2bcb196457",
     "grade": false,
     "grade_id": "cell-9ca5a6b8a6cb7e8e",
     "locked": false,
     "schema_version": 3,
     "solution": true,
     "task": false
    }
   },
   "outputs": [],
   "source": [
    "def group_genre_by_year(df, genre):\n",
    "    temp = df[(df.release_date.dt.year >= 1985) & (df[genre] == 1)]\n",
    "    return temp.groupby(df.year)"
   ]
  },
  {
   "cell_type": "code",
   "execution_count": 44,
   "metadata": {
    "deletable": false,
    "editable": false,
    "nbgrader": {
     "cell_type": "code",
     "checksum": "6130b6f99e29e03336d409f6850cebd4",
     "grade": true,
     "grade_id": "cell-6907c9bed92097f8",
     "locked": true,
     "points": 3,
     "schema_version": 3,
     "solution": false,
     "task": false
    }
   },
   "outputs": [],
   "source": [
    "crime = group_genre_by_year(df, 'crime')\n",
    "assert type(crime) == pd.core.groupby.DataFrameGroupBy\n",
    "assert len(crime) <= 15  # movies between 1985-1999"
   ]
  },
  {
   "cell_type": "markdown",
   "metadata": {
    "deletable": false,
    "editable": false,
    "nbgrader": {
     "cell_type": "markdown",
     "checksum": "9268ad04593972418741fe995968abda",
     "grade": false,
     "grade_id": "cell-389ab64a02ec730a",
     "locked": true,
     "schema_version": 3,
     "solution": false,
     "task": false
    }
   },
   "source": [
    "# Q2.2 Plot the number of adventure movies from 1985 to 1999 on a _bar_ chart. Use your `group_genre_by_year` function. (2 points)"
   ]
  },
  {
   "cell_type": "code",
   "execution_count": 45,
   "metadata": {
    "deletable": false,
    "nbgrader": {
     "cell_type": "code",
     "checksum": "178c4b22186787a1b659a72e3cd69d63",
     "grade": true,
     "grade_id": "cell-a5318e4a2b8132d5",
     "locked": false,
     "points": 2,
     "schema_version": 3,
     "solution": true,
     "task": false
    }
   },
   "outputs": [
    {
     "data": {
      "text/plain": [
       "<matplotlib.axes._subplots.AxesSubplot at 0x1a261ac690>"
      ]
     },
     "execution_count": 45,
     "metadata": {},
     "output_type": "execute_result"
    },
    {
     "data": {
      "image/png": "[encoded data removed]",
      "text/plain": [
       "<Figure size 720x432 with 1 Axes>"
      ]
     },
     "metadata": {
      "needs_background": "light"
     },
     "output_type": "display_data"
    }
   ],
   "source": [
    "fig, ax = plt.subplots(1, figsize=(10, 6))\n",
    "group_genre_by_year(df,\"adventure\").size().plot(kind='bar', ax=ax)"
   ]
  },
  {
   "cell_type": "markdown",
   "metadata": {
    "deletable": false,
    "editable": false,
    "nbgrader": {
     "cell_type": "markdown",
     "checksum": "1e4fce4d1568741b973ce6ec1397e152",
     "grade": false,
     "grade_id": "cell-a463d2e0a9d5cdd8",
     "locked": true,
     "schema_version": 3,
     "solution": false,
     "task": false
    }
   },
   "source": [
    "# Q2.3 Plot the distribution of release day (day of month) on a pie chart.\n",
    "\n",
    "## Step 1. groupby (2 points)"
   ]
  },
  {
   "cell_type": "code",
   "execution_count": 46,
   "metadata": {
    "deletable": false,
    "nbgrader": {
     "cell_type": "code",
     "checksum": "edc98feffcc97249e49480539b9b7a13",
     "grade": false,
     "grade_id": "cell-da489566f50a0b7b",
     "locked": false,
     "schema_version": 3,
     "solution": true,
     "task": false
    }
   },
   "outputs": [],
   "source": [
    "def groupby_release_day(df):\n",
    "    return df.groupby(df.release_date.dt.day)"
   ]
  },
  {
   "cell_type": "code",
   "execution_count": 47,
   "metadata": {
    "deletable": false,
    "editable": false,
    "nbgrader": {
     "cell_type": "code",
     "checksum": "19bf3807a7704877721062642693c5bb",
     "grade": true,
     "grade_id": "cell-65c96d3f7e86681f",
     "locked": true,
     "points": 2,
     "schema_version": 3,
     "solution": false,
     "task": false
    }
   },
   "outputs": [],
   "source": [
    "by_day = groupby_release_day(df)\n",
    "assert type(by_day) == pd.core.groupby.DataFrameGroupBy\n",
    "\n",
    "# the longest month is 31 days\n",
    "assert len(by_day) < 32\n",
    "\n",
    "# not month but DAY of month\n",
    "assert len(by_day) != 12\n",
    "\n",
    "# shouldn't group on day of week\n",
    "assert len(by_day) > 7"
   ]
  },
  {
   "cell_type": "markdown",
   "metadata": {
    "deletable": false,
    "editable": false,
    "nbgrader": {
     "cell_type": "markdown",
     "checksum": "96674a36b0dddca7f59dfb69ae7cdf60",
     "grade": false,
     "grade_id": "cell-d03e44889d893fd1",
     "locked": true,
     "schema_version": 3,
     "solution": false,
     "task": false
    }
   },
   "source": [
    "## Step 2. pie chart. Add percent values. (3 points)"
   ]
  },
  {
   "cell_type": "code",
   "execution_count": 48,
   "metadata": {
    "deletable": false,
    "nbgrader": {
     "cell_type": "code",
     "checksum": "a133ef16f926747228be6b7f242a2ef5",
     "grade": true,
     "grade_id": "cell-20cf6a942fc495c3",
     "locked": false,
     "points": 3,
     "schema_version": 3,
     "solution": true,
     "task": false
    }
   },
   "outputs": [
    {
     "data": {
      "text/plain": [
       "<matplotlib.axes._subplots.AxesSubplot at 0x1a262545d0>"
      ]
     },
     "execution_count": 48,
     "metadata": {},
     "output_type": "execute_result"
    },
    {
     "data": {
      "image/png": "[encoded data removed]",
      "text/plain": [
       "<Figure size 720x864 with 1 Axes>"
      ]
     },
     "metadata": {},
     "output_type": "display_data"
    }
   ],
   "source": [
    "fig = plt.subplots(1, figsize=(10,12))\n",
    "groupby_release_day(df).size().plot(kind='pie')"
   ]
  },
  {
   "cell_type": "markdown",
   "metadata": {
    "deletable": false,
    "editable": false,
    "nbgrader": {
     "cell_type": "markdown",
     "checksum": "3887b9d8f182fce0bbf06f14c64c836a",
     "grade": false,
     "grade_id": "cell-0089f99b85f39d9f",
     "locked": true,
     "schema_version": 3,
     "solution": false,
     "task": false
    }
   },
   "source": [
    "# Q2.4 We're building a traditional lexicon of the titles. What is the distribution of initial letters (i.e. how many titles start with S?)? Plot it on a bar chart.\n",
    "\n",
    "## Step 1. Compute frequencies. (3 points)\n",
    "\n",
    "You don't need to perform any preprocessing."
   ]
  },
  {
   "cell_type": "code",
   "execution_count": 49,
   "metadata": {
    "deletable": false,
    "nbgrader": {
     "cell_type": "code",
     "checksum": "965d5d832ab9c9dc3ef198cee18a9e70",
     "grade": false,
     "grade_id": "cell-dabfa47380bc1e62",
     "locked": false,
     "schema_version": 3,
     "solution": true,
     "task": false
    }
   },
   "outputs": [],
   "source": [
    "def compute_initial_letter_frequencies(df):\n",
    "    return df.groupby(df.title.str[0]).size()"
   ]
  },
  {
   "cell_type": "code",
   "execution_count": 50,
   "metadata": {
    "deletable": false,
    "editable": false,
    "nbgrader": {
     "cell_type": "code",
     "checksum": "90fc74eabc6b60d5143c88a53552097e",
     "grade": true,
     "grade_id": "cell-1cf234dbd25388f3",
     "locked": true,
     "points": 3,
     "schema_version": 3,
     "solution": false,
     "task": false
    }
   },
   "outputs": [],
   "source": [
    "initial = compute_initial_letter_frequencies(df)\n",
    "\n",
    "assert type(initial) == pd.Series\n",
    "\n",
    "# frequency counts should be >= 1\n",
    "assert initial.min() >= 1\n",
    "\n",
    "# the largest one cannot be larger than the full dataframe\n",
    "assert initial.max() <= len(df)\n",
    "\n",
    "# there are 32 initial letters in the dataset\n",
    "assert len(initial) == 32\n",
    "\n",
    "assert 'B' in initial.index"
   ]
  },
  {
   "cell_type": "markdown",
   "metadata": {
    "deletable": false,
    "editable": false,
    "nbgrader": {
     "cell_type": "markdown",
     "checksum": "b15e4a4a3108fb3df3ebc15c97d667e1",
     "grade": false,
     "grade_id": "cell-69e24b8b6775d432",
     "locked": true,
     "schema_version": 3,
     "solution": false,
     "task": false
    }
   },
   "source": [
    "## Step 2. Plot it on a bar chart in descending order. (3 points)\n",
    "\n",
    "The most common letter should be the first bar."
   ]
  },
  {
   "cell_type": "code",
   "execution_count": 51,
   "metadata": {
    "deletable": false,
    "nbgrader": {
     "cell_type": "code",
     "checksum": "2e9d98b30c4b5aece1e461d7bbea258f",
     "grade": true,
     "grade_id": "cell-f8be622dc83ce159",
     "locked": false,
     "points": 3,
     "schema_version": 3,
     "solution": true,
     "task": false
    }
   },
   "outputs": [
    {
     "data": {
      "text/plain": [
       "<matplotlib.axes._subplots.AxesSubplot at 0x1a2532f3d0>"
      ]
     },
     "execution_count": 51,
     "metadata": {},
     "output_type": "execute_result"
    },
    {
     "data": {
      "image/png": "[encoded data removed]",
      "text/plain": [
       "<Figure size 720x864 with 1 Axes>"
      ]
     },
     "metadata": {
      "needs_background": "light"
     },
     "output_type": "display_data"
    }
   ],
   "source": [
    "fig = plt.subplots(1, figsize=(10,12))\n",
    "compute_initial_letter_frequencies(df).sort_values(ascending=False).plot(kind='bar')"
   ]
  },
  {
   "cell_type": "markdown",
   "metadata": {
    "deletable": false,
    "editable": false,
    "nbgrader": {
     "cell_type": "markdown",
     "checksum": "742e8835bcb12ea02ad37468952303dc",
     "grade": false,
     "grade_id": "cell-4b7e5452586de9b9",
     "locked": true,
     "schema_version": 3,
     "solution": false,
     "task": false
    }
   },
   "source": [
    "# Problem Set 3. Handling multiple dataframes\n",
    "\n",
    "The main table of this dataset is `u.data` with 100000 ratings."
   ]
  },
  {
   "cell_type": "code",
   "execution_count": 52,
   "metadata": {
    "deletable": false,
    "editable": false,
    "nbgrader": {
     "cell_type": "code",
     "checksum": "2507b5afb615a154626d85367e36008a",
     "grade": false,
     "grade_id": "cell-8220174b6d50dc75",
     "locked": true,
     "schema_version": 3,
     "solution": false,
     "task": false
    }
   },
   "outputs": [
    {
     "data": {
      "text/html": [
       "<div>\n",
       "<style scoped>\n",
       "    .dataframe tbody tr th:only-of-type {\n",
       "        vertical-align: middle;\n",
       "    }\n",
       "\n",
       "    .dataframe tbody tr th {\n",
       "        vertical-align: top;\n",
       "    }\n",
       "\n",
       "    .dataframe thead th {\n",
       "        text-align: right;\n",
       "    }\n",
       "</style>\n",
       "<table border=\"1\" class=\"dataframe\">\n",
       "  <thead>\n",
       "    <tr style=\"text-align: right;\">\n",
       "      <th></th>\n",
       "      <th>user</th>\n",
       "      <th>movie_id</th>\n",
       "      <th>rating</th>\n",
       "      <th>timestamp</th>\n",
       "    </tr>\n",
       "  </thead>\n",
       "  <tbody>\n",
       "    <tr>\n",
       "      <th>0</th>\n",
       "      <td>196</td>\n",
       "      <td>242</td>\n",
       "      <td>3</td>\n",
       "      <td>881250949</td>\n",
       "    </tr>\n",
       "    <tr>\n",
       "      <th>1</th>\n",
       "      <td>186</td>\n",
       "      <td>302</td>\n",
       "      <td>3</td>\n",
       "      <td>891717742</td>\n",
       "    </tr>\n",
       "    <tr>\n",
       "      <th>2</th>\n",
       "      <td>22</td>\n",
       "      <td>377</td>\n",
       "      <td>1</td>\n",
       "      <td>878887116</td>\n",
       "    </tr>\n",
       "    <tr>\n",
       "      <th>3</th>\n",
       "      <td>244</td>\n",
       "      <td>51</td>\n",
       "      <td>2</td>\n",
       "      <td>880606923</td>\n",
       "    </tr>\n",
       "    <tr>\n",
       "      <th>4</th>\n",
       "      <td>166</td>\n",
       "      <td>346</td>\n",
       "      <td>1</td>\n",
       "      <td>886397596</td>\n",
       "    </tr>\n",
       "  </tbody>\n",
       "</table>\n",
       "</div>"
      ],
      "text/plain": [
       "   user  movie_id  rating  timestamp\n",
       "0   196       242       3  881250949\n",
       "1   186       302       3  891717742\n",
       "2    22       377       1  878887116\n",
       "3   244        51       2  880606923\n",
       "4   166       346       1  886397596"
      ]
     },
     "execution_count": 52,
     "metadata": {},
     "output_type": "execute_result"
    }
   ],
   "source": [
    "cols = ['user', 'movie_id', 'rating', 'timestamp']\n",
    "ratings = pd.read_table(os.path.join(data_dir, \"u.data\"), names=cols)\n",
    "ratings.head()"
   ]
  },
  {
   "cell_type": "markdown",
   "metadata": {
    "deletable": false,
    "editable": false,
    "nbgrader": {
     "cell_type": "markdown",
     "checksum": "e4d7ce5b8f9c854acc8dba6252563bb6",
     "grade": false,
     "grade_id": "cell-fef5a88dc44bb7db",
     "locked": true,
     "schema_version": 3,
     "solution": false,
     "task": false
    }
   },
   "source": [
    "The `timestamp` column is a Unix timestamp, let's convert it to `pd.DateTime`:"
   ]
  },
  {
   "cell_type": "code",
   "execution_count": 53,
   "metadata": {},
   "outputs": [
    {
     "data": {
      "text/html": [
       "<div>\n",
       "<style scoped>\n",
       "    .dataframe tbody tr th:only-of-type {\n",
       "        vertical-align: middle;\n",
       "    }\n",
       "\n",
       "    .dataframe tbody tr th {\n",
       "        vertical-align: top;\n",
       "    }\n",
       "\n",
       "    .dataframe thead th {\n",
       "        text-align: right;\n",
       "    }\n",
       "</style>\n",
       "<table border=\"1\" class=\"dataframe\">\n",
       "  <thead>\n",
       "    <tr style=\"text-align: right;\">\n",
       "      <th></th>\n",
       "      <th>user</th>\n",
       "      <th>movie_id</th>\n",
       "      <th>rating</th>\n",
       "      <th>timestamp</th>\n",
       "    </tr>\n",
       "  </thead>\n",
       "  <tbody>\n",
       "    <tr>\n",
       "      <th>0</th>\n",
       "      <td>196</td>\n",
       "      <td>242</td>\n",
       "      <td>3</td>\n",
       "      <td>1997-12-04 15:55:49</td>\n",
       "    </tr>\n",
       "    <tr>\n",
       "      <th>1</th>\n",
       "      <td>186</td>\n",
       "      <td>302</td>\n",
       "      <td>3</td>\n",
       "      <td>1998-04-04 19:22:22</td>\n",
       "    </tr>\n",
       "    <tr>\n",
       "      <th>2</th>\n",
       "      <td>22</td>\n",
       "      <td>377</td>\n",
       "      <td>1</td>\n",
       "      <td>1997-11-07 07:18:36</td>\n",
       "    </tr>\n",
       "    <tr>\n",
       "      <th>3</th>\n",
       "      <td>244</td>\n",
       "      <td>51</td>\n",
       "      <td>2</td>\n",
       "      <td>1997-11-27 05:02:03</td>\n",
       "    </tr>\n",
       "    <tr>\n",
       "      <th>4</th>\n",
       "      <td>166</td>\n",
       "      <td>346</td>\n",
       "      <td>1</td>\n",
       "      <td>1998-02-02 05:33:16</td>\n",
       "    </tr>\n",
       "  </tbody>\n",
       "</table>\n",
       "</div>"
      ],
      "text/plain": [
       "   user  movie_id  rating           timestamp\n",
       "0   196       242       3 1997-12-04 15:55:49\n",
       "1   186       302       3 1998-04-04 19:22:22\n",
       "2    22       377       1 1997-11-07 07:18:36\n",
       "3   244        51       2 1997-11-27 05:02:03\n",
       "4   166       346       1 1998-02-02 05:33:16"
      ]
     },
     "execution_count": 53,
     "metadata": {},
     "output_type": "execute_result"
    }
   ],
   "source": [
    "ratings['timestamp'] = pd.to_datetime(ratings.timestamp, unit='s')\n",
    "ratings.head()"
   ]
  },
  {
   "cell_type": "markdown",
   "metadata": {
    "deletable": false,
    "editable": false,
    "nbgrader": {
     "cell_type": "markdown",
     "checksum": "18696637703c415f1c43d827e1bb7460",
     "grade": false,
     "grade_id": "cell-0979673a37cec23e",
     "locked": true,
     "schema_version": 3,
     "solution": false,
     "task": false
    }
   },
   "source": [
    "# Merging with the movies dataframe\n",
    "\n",
    "We overwrite `ratings`:"
   ]
  },
  {
   "cell_type": "code",
   "execution_count": 54,
   "metadata": {},
   "outputs": [],
   "source": [
    "movies = df\n",
    "ratings = pd.merge(ratings, movies, left_on='movie_id', right_index=True)"
   ]
  },
  {
   "cell_type": "markdown",
   "metadata": {
    "deletable": false,
    "editable": false,
    "nbgrader": {
     "cell_type": "markdown",
     "checksum": "d6c9babbcded13a7b76ac7f6f4cc071a",
     "grade": false,
     "grade_id": "cell-639f17faddee992c",
     "locked": true,
     "schema_version": 3,
     "solution": false,
     "task": false
    }
   },
   "source": [
    "## How many ratings are timestamped _before_ the release date?"
   ]
  },
  {
   "cell_type": "code",
   "execution_count": 55,
   "metadata": {},
   "outputs": [
    {
     "data": {
      "text/plain": [
       "False    99769\n",
       "True       231\n",
       "dtype: int64"
      ]
     },
     "execution_count": 55,
     "metadata": {},
     "output_type": "execute_result"
    }
   ],
   "source": [
    "(ratings.timestamp <= ratings.release_date).value_counts()"
   ]
  },
  {
   "cell_type": "markdown",
   "metadata": {
    "deletable": false,
    "editable": false,
    "nbgrader": {
     "cell_type": "markdown",
     "checksum": "3d9ef4414c79b938eaba3f1d52f43d49",
     "grade": false,
     "grade_id": "cell-2405ca2de92cf53a",
     "locked": true,
     "schema_version": 3,
     "solution": false,
     "task": false
    }
   },
   "source": [
    "## Which movies were rated before the release date?"
   ]
  },
  {
   "cell_type": "code",
   "execution_count": 56,
   "metadata": {},
   "outputs": [
    {
     "data": {
      "text/plain": [
       "Apt Pupil (1998)                          160\n",
       "Desperate Measures (1998)                  21\n",
       "Fallen (1998)                               4\n",
       "Phantoms (1998)                             4\n",
       "Hard Rain (1998)                            4\n",
       "Dangerous Beauty (1998)                     4\n",
       "Four Days in September (1997)               3\n",
       "Firestorm (1998)                            3\n",
       "Leading Man, The (1996)                     3\n",
       "Prophecy II, The (1998)                     3\n",
       "Magic Hour, The (1998)                      3\n",
       "Mighty, The (1998)                          3\n",
       "Wag the Dog (1997)                          2\n",
       "Hurricane Streets (1998)                    2\n",
       "Duoluo tianshi (1995)                       2\n",
       "Shooting Fish (1997)                        2\n",
       "Half Baked (1998)                           2\n",
       "I Know What You Did Last Summer (1997)      1\n",
       "Truman Show, The (1998)                     1\n",
       "Deep Rising (1998)                          1\n",
       "Sliding Doors (1998)                        1\n",
       "Oscar & Lucinda (1997)                      1\n",
       "Star Kid (1997)                             1\n",
       "Name: title, dtype: int64"
      ]
     },
     "execution_count": 56,
     "metadata": {},
     "output_type": "execute_result"
    }
   ],
   "source": [
    "ratings[ratings.timestamp <= ratings.release_date].title.value_counts()"
   ]
  },
  {
   "cell_type": "markdown",
   "metadata": {
    "deletable": false,
    "editable": false,
    "nbgrader": {
     "cell_type": "markdown",
     "checksum": "e1b73fb30137cf93c02d58cd363607c0",
     "grade": false,
     "grade_id": "cell-f39cf952c60ebae5",
     "locked": true,
     "schema_version": 3,
     "solution": false,
     "task": false
    }
   },
   "source": [
    "# Q3.1. How many times was each movie rated?\n",
    "\n",
    "## Step 1. Compute the frequencies of movie ratings. Use titles instead of movie ids. (2 points)"
   ]
  },
  {
   "cell_type": "code",
   "execution_count": 57,
   "metadata": {
    "deletable": false,
    "nbgrader": {
     "cell_type": "code",
     "checksum": "aa50d6b7846e1a73a4db77eb41f225a9",
     "grade": false,
     "grade_id": "cell-a995aaec4e258171",
     "locked": false,
     "schema_version": 3,
     "solution": true,
     "task": false
    },
    "scrolled": true
   },
   "outputs": [],
   "source": [
    "def compute_movie_rated_frequencies(df):\n",
    "    return df.groupby(df.title).size()"
   ]
  },
  {
   "cell_type": "code",
   "execution_count": 58,
   "metadata": {
    "deletable": false,
    "editable": false,
    "nbgrader": {
     "cell_type": "code",
     "checksum": "90cc09cf6d892478d352aca6f5215de4",
     "grade": true,
     "grade_id": "cell-510b3727432d6e21",
     "locked": true,
     "points": 2,
     "schema_version": 3,
     "solution": false,
     "task": false
    }
   },
   "outputs": [],
   "source": [
    "title_freq = compute_movie_rated_frequencies(ratings)\n",
    "assert isinstance(title_freq, pd.Series)\n",
    "\n",
    "# use titles\n",
    "assert 'Lone Star (1996)' in title_freq.index"
   ]
  },
  {
   "cell_type": "markdown",
   "metadata": {
    "deletable": false,
    "editable": false,
    "nbgrader": {
     "cell_type": "markdown",
     "checksum": "5aecd6273df2bfe4c4ad55a80b9cc1b0",
     "grade": false,
     "grade_id": "cell-d64476a7324e37d1",
     "locked": true,
     "schema_version": 3,
     "solution": false,
     "task": false
    }
   },
   "source": [
    "## Step 2. Plot the frequencies on a histogram. (2 points)\n",
    "\n",
    "`pd.Series` has a `hist` function. It uses 10 bins by default, use more."
   ]
  },
  {
   "cell_type": "code",
   "execution_count": 59,
   "metadata": {
    "deletable": false,
    "nbgrader": {
     "cell_type": "code",
     "checksum": "795f9c03814bd28c1dc9d3e6c2d00378",
     "grade": true,
     "grade_id": "cell-e2167238aef2f4a8",
     "locked": false,
     "points": 2,
     "schema_version": 3,
     "solution": true,
     "task": false
    }
   },
   "outputs": [
    {
     "data": {
      "text/plain": [
       "<matplotlib.axes._subplots.AxesSubplot at 0x1a24fc5a10>"
      ]
     },
     "execution_count": 59,
     "metadata": {},
     "output_type": "execute_result"
    },
    {
     "data": {
      "image/png": "[encoded data removed]",
      "text/plain": [
       "<Figure size 432x288 with 1 Axes>"
      ]
     },
     "metadata": {
      "needs_background": "light"
     },
     "output_type": "display_data"
    }
   ],
   "source": [
    "compute_movie_rated_frequencies(ratings).hist(bins=50)"
   ]
  },
  {
   "cell_type": "markdown",
   "metadata": {
    "deletable": false,
    "editable": false,
    "nbgrader": {
     "cell_type": "markdown",
     "checksum": "10a475e54d92af3dc4a1b2358f3ee994",
     "grade": false,
     "grade_id": "cell-19005813aa786318",
     "locked": true,
     "schema_version": 3,
     "solution": false,
     "task": false
    }
   },
   "source": [
    "# Q3.2. How many ratings were submitted by each day of the week? What were their averages?\n",
    "\n",
    "## Step 1. groupby (3 points)\n",
    "\n",
    "Tip: look around in the `.dt` namespace."
   ]
  },
  {
   "cell_type": "code",
   "execution_count": 60,
   "metadata": {
    "deletable": false,
    "nbgrader": {
     "cell_type": "code",
     "checksum": "620bfeed1ef01ee40373aebbf487bcc6",
     "grade": false,
     "grade_id": "cell-f9058f21826f0ad6",
     "locked": false,
     "schema_version": 3,
     "solution": true,
     "task": false
    }
   },
   "outputs": [],
   "source": [
    "def groupby_day_of_week(ratings):\n",
    "    return ratings.groupby(ratings.timestamp.dt.day_name())"
   ]
  },
  {
   "cell_type": "code",
   "execution_count": 61,
   "metadata": {
    "deletable": false,
    "editable": false,
    "nbgrader": {
     "cell_type": "code",
     "checksum": "45b562641cc230c46647019ebb9d5be6",
     "grade": true,
     "grade_id": "cell-2ff8cbea026da2c6",
     "locked": true,
     "points": 3,
     "schema_version": 3,
     "solution": false,
     "task": false
    }
   },
   "outputs": [],
   "source": [
    "by_day = groupby_day_of_week(ratings)\n",
    "assert isinstance(by_day, pd.core.groupby.generic.DataFrameGroupBy)\n",
    "# there are 7 days\n",
    "assert len(by_day) == 7\n",
    "# use names of the days\n",
    "assert 'Monday' in by_day.groups"
   ]
  },
  {
   "cell_type": "markdown",
   "metadata": {
    "deletable": false,
    "editable": false,
    "nbgrader": {
     "cell_type": "markdown",
     "checksum": "905ad37632c45ec24ae85e4e841098a9",
     "grade": false,
     "grade_id": "cell-0b17be84d08cda7d",
     "locked": true,
     "schema_version": 3,
     "solution": false,
     "task": false
    }
   },
   "source": [
    "## Step 2. number of ratings per day (2 points)"
   ]
  },
  {
   "cell_type": "code",
   "execution_count": 62,
   "metadata": {
    "deletable": false,
    "nbgrader": {
     "cell_type": "code",
     "checksum": "686d19505d8c9558bf2826e8c1a63875",
     "grade": false,
     "grade_id": "cell-45c571dca72ec1b4",
     "locked": false,
     "schema_version": 3,
     "solution": true,
     "task": false
    }
   },
   "outputs": [],
   "source": [
    "#number_of_ratings_per_day = ...\n",
    "number_of_ratings_per_day = groupby_day_of_week(ratings).size()"
   ]
  },
  {
   "cell_type": "code",
   "execution_count": 63,
   "metadata": {
    "deletable": false,
    "editable": false,
    "nbgrader": {
     "cell_type": "code",
     "checksum": "517f4c328ed5516478f956d57e9e893b",
     "grade": true,
     "grade_id": "cell-58548a0c91313a7b",
     "locked": true,
     "points": 2,
     "schema_version": 3,
     "solution": false,
     "task": false
    }
   },
   "outputs": [],
   "source": [
    "assert isinstance(number_of_ratings_per_day, pd.Series)\n",
    "assert len(number_of_ratings_per_day) == 7\n",
    "assert number_of_ratings_per_day.min() > 10000"
   ]
  },
  {
   "cell_type": "markdown",
   "metadata": {
    "deletable": false,
    "editable": false,
    "nbgrader": {
     "cell_type": "markdown",
     "checksum": "17498b4feb9abb254cc29484760ae215",
     "grade": false,
     "grade_id": "cell-985fab1c5363e1fa",
     "locked": true,
     "schema_version": 3,
     "solution": false,
     "task": false
    }
   },
   "source": [
    "## Step 3. mean rating by day (2 points)"
   ]
  },
  {
   "cell_type": "code",
   "execution_count": 64,
   "metadata": {
    "deletable": false,
    "nbgrader": {
     "cell_type": "code",
     "checksum": "6be5df2b6b94caa4a5637bb8c38c222e",
     "grade": false,
     "grade_id": "cell-57cb27472dfdc4d9",
     "locked": false,
     "schema_version": 3,
     "solution": true,
     "task": false
    }
   },
   "outputs": [],
   "source": [
    "#mean_rating_by_day = ...\n",
    "mean_rating_by_day = groupby_day_of_week(ratings).mean().rating"
   ]
  },
  {
   "cell_type": "code",
   "execution_count": 65,
   "metadata": {
    "deletable": false,
    "editable": false,
    "nbgrader": {
     "cell_type": "code",
     "checksum": "461985fef6c708cb60fe840d27ac67f6",
     "grade": true,
     "grade_id": "cell-6abe70efeee2dc8c",
     "locked": true,
     "points": 2,
     "schema_version": 3,
     "solution": false,
     "task": false
    }
   },
   "outputs": [],
   "source": [
    "assert isinstance(mean_rating_by_day, pd.Series)"
   ]
  },
  {
   "cell_type": "markdown",
   "metadata": {
    "deletable": false,
    "editable": false,
    "nbgrader": {
     "cell_type": "markdown",
     "checksum": "df7682eac45de547ce68a6e312721c0d",
     "grade": false,
     "grade_id": "cell-6e56688ca100d27d",
     "locked": true,
     "schema_version": 3,
     "solution": false,
     "task": false
    }
   },
   "source": [
    "# Q3.3\\*\\* What is the mean of ratings by genre?\n",
    "\n",
    "If a movie has multiple genres, include it in every genre. \n",
    "\n",
    "## Step 1. Compute the mean scores. (5 points)\n",
    "\n",
    "There are many ways to solve this problem. Try to do it without explicit for loops."
   ]
  },
  {
   "cell_type": "code",
   "execution_count": 99,
   "metadata": {
    "deletable": false,
    "nbgrader": {
     "cell_type": "code",
     "checksum": "644e1fa7438db0cc5b6e0fd45d80639e",
     "grade": false,
     "grade_id": "cell-8292ca56814c90e6",
     "locked": false,
     "schema_version": 3,
     "solution": true,
     "task": false
    }
   },
   "outputs": [],
   "source": [
    "genres = ['unknown', 'action', 'adventure', 'animation',\n",
    "       'children', 'comedy', 'crime', 'documentary', 'drama', 'fantasy',\n",
    "       'film_noir', 'horror', 'musical', 'mystery', 'romance', 'sci_fi',\n",
    "       'thriller', 'war', 'western']\n",
    "\n",
    "def compute_mean_rating_by_genre(ratings):\n",
    "    # YOUR CODE HERE\n",
    "    raise NotImplementedError()"
   ]
  },
  {
   "cell_type": "code",
   "execution_count": 100,
   "metadata": {
    "deletable": false,
    "editable": false,
    "nbgrader": {
     "cell_type": "code",
     "checksum": "2fe0918d505c4c420af0dd222402cb9a",
     "grade": true,
     "grade_id": "cell-a8868b7db8c3a75c",
     "locked": true,
     "points": 5,
     "schema_version": 3,
     "solution": false,
     "task": false
    }
   },
   "outputs": [
    {
     "ename": "NotImplementedError",
     "evalue": "",
     "output_type": "error",
     "traceback": [
      "\u001b[0;31m---------------------------------------------------------------------------\u001b[0m",
      "\u001b[0;31mNotImplementedError\u001b[0m                       Traceback (most recent call last)",
      "\u001b[0;32m<ipython-input-100-04093eb8efc9>\u001b[0m in \u001b[0;36m<module>\u001b[0;34m\u001b[0m\n\u001b[0;32m----> 1\u001b[0;31m \u001b[0mgenre_rating\u001b[0m \u001b[0;34m=\u001b[0m \u001b[0mcompute_mean_rating_by_genre\u001b[0m\u001b[0;34m(\u001b[0m\u001b[0mratings\u001b[0m\u001b[0;34m)\u001b[0m\u001b[0;34m\u001b[0m\u001b[0;34m\u001b[0m\u001b[0m\n\u001b[0m\u001b[1;32m      2\u001b[0m \u001b[0;32massert\u001b[0m \u001b[0mlen\u001b[0m\u001b[0;34m(\u001b[0m\u001b[0mgenre_rating\u001b[0m\u001b[0;34m)\u001b[0m \u001b[0;34m==\u001b[0m \u001b[0mlen\u001b[0m\u001b[0;34m(\u001b[0m\u001b[0mgenres\u001b[0m\u001b[0;34m)\u001b[0m\u001b[0;34m\u001b[0m\u001b[0;34m\u001b[0m\u001b[0m\n\u001b[1;32m      3\u001b[0m \u001b[0;31m# all means are between 3 and 4\u001b[0m\u001b[0;34m\u001b[0m\u001b[0;34m\u001b[0m\u001b[0;34m\u001b[0m\u001b[0m\n\u001b[1;32m      4\u001b[0m \u001b[0;32massert\u001b[0m \u001b[0mgenre_rating\u001b[0m\u001b[0;34m.\u001b[0m\u001b[0mmin\u001b[0m\u001b[0;34m(\u001b[0m\u001b[0;34m)\u001b[0m \u001b[0;34m>\u001b[0m \u001b[0;36m3.0\u001b[0m\u001b[0;34m\u001b[0m\u001b[0;34m\u001b[0m\u001b[0m\n\u001b[1;32m      5\u001b[0m \u001b[0;32massert\u001b[0m \u001b[0mgenre_rating\u001b[0m\u001b[0;34m.\u001b[0m\u001b[0mmax\u001b[0m\u001b[0;34m(\u001b[0m\u001b[0;34m)\u001b[0m \u001b[0;34m<\u001b[0m \u001b[0;36m4.0\u001b[0m\u001b[0;34m\u001b[0m\u001b[0;34m\u001b[0m\u001b[0m\n",
      "\u001b[0;32m<ipython-input-99-07fd1ef9de21>\u001b[0m in \u001b[0;36mcompute_mean_rating_by_genre\u001b[0;34m(ratings)\u001b[0m\n\u001b[1;32m      6\u001b[0m \u001b[0;32mdef\u001b[0m \u001b[0mcompute_mean_rating_by_genre\u001b[0m\u001b[0;34m(\u001b[0m\u001b[0mratings\u001b[0m\u001b[0;34m)\u001b[0m\u001b[0;34m:\u001b[0m\u001b[0;34m\u001b[0m\u001b[0;34m\u001b[0m\u001b[0m\n\u001b[1;32m      7\u001b[0m     \u001b[0;31m# YOUR CODE HERE\u001b[0m\u001b[0;34m\u001b[0m\u001b[0;34m\u001b[0m\u001b[0;34m\u001b[0m\u001b[0m\n\u001b[0;32m----> 8\u001b[0;31m     \u001b[0;32mraise\u001b[0m \u001b[0mNotImplementedError\u001b[0m\u001b[0;34m(\u001b[0m\u001b[0;34m)\u001b[0m\u001b[0;34m\u001b[0m\u001b[0;34m\u001b[0m\u001b[0m\n\u001b[0m",
      "\u001b[0;31mNotImplementedError\u001b[0m: "
     ]
    }
   ],
   "source": [
    "genre_rating = compute_mean_rating_by_genre(ratings)\n",
    "assert len(genre_rating) == len(genres)\n",
    "# all means are between 3 and 4\n",
    "assert genre_rating.min() > 3.0\n",
    "assert genre_rating.max() < 4.0\n",
    "# film noir is rated highest\n",
    "assert genre_rating.idxmax() == 'film_noir'\n",
    "for g in genres:\n",
    "    assert g in genre_rating.index"
   ]
  },
  {
   "cell_type": "markdown",
   "metadata": {
    "deletable": false,
    "editable": false,
    "nbgrader": {
     "cell_type": "markdown",
     "checksum": "58f930055c4ca9dfe3de0a359e3ca0a0",
     "grade": false,
     "grade_id": "cell-37bd1a67daa851bc",
     "locked": true,
     "schema_version": 3,
     "solution": false,
     "task": false
    }
   },
   "source": [
    "## Step 2. Plot it on a bar chart in descending order by score. Set the limits of the y-axis to (2.5, 4). (3 points)"
   ]
  },
  {
   "cell_type": "code",
   "execution_count": 68,
   "metadata": {
    "deletable": false,
    "nbgrader": {
     "cell_type": "code",
     "checksum": "50254252fc418ad55ff808d35541c96d",
     "grade": true,
     "grade_id": "cell-e55184587ae7df0f",
     "locked": false,
     "points": 3,
     "schema_version": 3,
     "solution": true,
     "task": false
    }
   },
   "outputs": [
    {
     "ename": "NotImplementedError",
     "evalue": "",
     "output_type": "error",
     "traceback": [
      "\u001b[0;31m---------------------------------------------------------------------------\u001b[0m",
      "\u001b[0;31mNotImplementedError\u001b[0m                       Traceback (most recent call last)",
      "\u001b[0;32m<ipython-input-68-15b94d1fa268>\u001b[0m in \u001b[0;36m<module>\u001b[0;34m\u001b[0m\n\u001b[1;32m      1\u001b[0m \u001b[0;31m# YOUR CODE HERE\u001b[0m\u001b[0;34m\u001b[0m\u001b[0;34m\u001b[0m\u001b[0;34m\u001b[0m\u001b[0m\n\u001b[0;32m----> 2\u001b[0;31m \u001b[0;32mraise\u001b[0m \u001b[0mNotImplementedError\u001b[0m\u001b[0;34m(\u001b[0m\u001b[0;34m)\u001b[0m\u001b[0;34m\u001b[0m\u001b[0;34m\u001b[0m\u001b[0m\n\u001b[0m",
      "\u001b[0;31mNotImplementedError\u001b[0m: "
     ]
    }
   ],
   "source": [
    "# YOUR CODE HERE\n",
    "raise NotImplementedError()"
   ]
  },
  {
   "cell_type": "markdown",
   "metadata": {
    "deletable": false,
    "editable": false,
    "nbgrader": {
     "cell_type": "markdown",
     "checksum": "1ac3d9a940529ec18c0555491300420b",
     "grade": false,
     "grade_id": "cell-ff26e3dc28a9e55f",
     "locked": true,
     "schema_version": 3,
     "solution": false,
     "task": false
    }
   },
   "source": [
    "# Problem Set 4. User demographics\n",
    "\n",
    "# Q4.1 Load the users table from the file `u.user`. (3 points)\n",
    "\n",
    "`u.users` has the following columns: `user_id, age, gender, occupation, zip`. Use `user_id` as the index."
   ]
  },
  {
   "cell_type": "code",
   "execution_count": 69,
   "metadata": {
    "deletable": false,
    "nbgrader": {
     "cell_type": "code",
     "checksum": "74f00f9c2ab8eff1334aef2501d14a7c",
     "grade": false,
     "grade_id": "cell-c84f059ab0858ad6",
     "locked": false,
     "schema_version": 3,
     "solution": true,
     "task": false
    }
   },
   "outputs": [],
   "source": [
    "# users = ...\n",
    "columns = [\"user_id\", \"age\", \"gender\", \"occupation\", \"zip\"]\n",
    "users = pd.read_table(\n",
    "    os.path.join(data_dir, \"u.user\"), sep=\"|\",\n",
    "    names=columns, encoding=\"latin1\", index_col='user_id'\n",
    ")"
   ]
  },
  {
   "cell_type": "code",
   "execution_count": 70,
   "metadata": {
    "deletable": false,
    "editable": false,
    "nbgrader": {
     "cell_type": "code",
     "checksum": "97cfa04dbe951a8a654147ab180c8199",
     "grade": true,
     "grade_id": "cell-adfa8911523a6781",
     "locked": true,
     "points": 3,
     "schema_version": 3,
     "solution": false,
     "task": false
    }
   },
   "outputs": [],
   "source": [
    "assert type(users) == pd.DataFrame\n",
    "\n",
    "# users are indexed from 0\n",
    "assert 0 not in users.index\n",
    "assert users.shape == (943, 4)\n",
    "# user_id should be the index\n",
    "assert 'user_id' not in users.columns"
   ]
  },
  {
   "cell_type": "markdown",
   "metadata": {
    "deletable": false,
    "editable": false,
    "nbgrader": {
     "cell_type": "markdown",
     "checksum": "cf631ec956724cde84cfe23148467975",
     "grade": false,
     "grade_id": "cell-92504474983df579",
     "locked": true,
     "schema_version": 3,
     "solution": false,
     "task": false
    }
   },
   "source": [
    "# Q4.2 Merge the `users` table with `ratings`. Do not discard any columns. (3 points)"
   ]
  },
  {
   "cell_type": "code",
   "execution_count": 71,
   "metadata": {
    "deletable": false,
    "nbgrader": {
     "cell_type": "code",
     "checksum": "7caa48d339ca2fb22439b64eb4053cbd",
     "grade": false,
     "grade_id": "cell-031b283c08dfc692",
     "locked": false,
     "schema_version": 3,
     "solution": true,
     "task": false
    }
   },
   "outputs": [],
   "source": [
    "# ratings = ratings.merge...\n",
    "ratings = pd.merge(ratings, users, left_on='user', right_index=True)"
   ]
  },
  {
   "cell_type": "code",
   "execution_count": 72,
   "metadata": {
    "deletable": false,
    "editable": false,
    "nbgrader": {
     "cell_type": "code",
     "checksum": "0280c6fbb60de1bc09e352733e179992",
     "grade": true,
     "grade_id": "cell-c52a7864aa05df2c",
     "locked": true,
     "points": 3,
     "schema_version": 3,
     "solution": false,
     "task": false
    }
   },
   "outputs": [],
   "source": [
    "assert type(ratings) == pd.DataFrame\n",
    "# all movies have ratings (nunique return the number of unique elements)\n",
    "assert ratings.movie_id.nunique() == 1682"
   ]
  },
  {
   "cell_type": "markdown",
   "metadata": {
    "deletable": false,
    "editable": false,
    "nbgrader": {
     "cell_type": "markdown",
     "checksum": "ef6017b6d7057c1ffe0f4bb22fab319a",
     "grade": false,
     "grade_id": "cell-87fc1397de6dc1ca",
     "locked": true,
     "schema_version": 3,
     "solution": false,
     "task": false
    }
   },
   "source": [
    "# Q 4.3 How strict are people by occupation? Compute the average of ratings by occupation. Plot it on a bar chart in descending order.\n",
    "\n",
    "## Step 1. Compute the averages by occupation. (2 points)"
   ]
  },
  {
   "cell_type": "code",
   "execution_count": 73,
   "metadata": {
    "deletable": false,
    "nbgrader": {
     "cell_type": "code",
     "checksum": "85cbf1018357294f5ca79470ed36c01f",
     "grade": false,
     "grade_id": "cell-fd12d2c11bb674a3",
     "locked": false,
     "schema_version": 3,
     "solution": true,
     "task": false
    }
   },
   "outputs": [],
   "source": [
    "def compute_mean_by_occupation(ratings):\n",
    "    return ratings.rating.groupby(ratings.occupation).mean()"
   ]
  },
  {
   "cell_type": "code",
   "execution_count": 74,
   "metadata": {
    "deletable": false,
    "editable": false,
    "nbgrader": {
     "cell_type": "code",
     "checksum": "38d67f291a240bba03591c3d3bb1e438",
     "grade": true,
     "grade_id": "cell-b31d75967991f9c8",
     "locked": true,
     "points": 2,
     "schema_version": 3,
     "solution": false,
     "task": false
    }
   },
   "outputs": [],
   "source": [
    "mean_by_occupation = compute_mean_by_occupation(ratings)\n",
    "assert isinstance(mean_by_occupation, pd.Series)\n",
    "# ratings are between 1 and 5\n",
    "assert mean_by_occupation.min() > 1\n",
    "assert mean_by_occupation.max() < 5"
   ]
  },
  {
   "cell_type": "markdown",
   "metadata": {
    "deletable": false,
    "editable": false,
    "nbgrader": {
     "cell_type": "markdown",
     "checksum": "c10c4a4592fb0e67648b8eb4594e43d0",
     "grade": false,
     "grade_id": "cell-dd4859f28bdba5bb",
     "locked": true,
     "schema_version": 3,
     "solution": false,
     "task": false
    }
   },
   "source": [
    "## Step 2. Plot it on a bar chart. (2 points)\n",
    "\n",
    "Make the bar chart wider and restrict the y-axis to (2.5, 4)."
   ]
  },
  {
   "cell_type": "code",
   "execution_count": 75,
   "metadata": {
    "deletable": false,
    "nbgrader": {
     "cell_type": "code",
     "checksum": "e1ec28668de17e3b9e655e286f2002da",
     "grade": true,
     "grade_id": "cell-0823e3f094e93df6",
     "locked": false,
     "points": 2,
     "schema_version": 3,
     "solution": true,
     "task": false
    }
   },
   "outputs": [
    {
     "data": {
      "text/plain": [
       "<matplotlib.axes._subplots.AxesSubplot at 0x1a254d1c10>"
      ]
     },
     "execution_count": 75,
     "metadata": {},
     "output_type": "execute_result"
    },
    {
     "data": {
      "image/png": "[encoded data removed]",
      "text/plain": [
       "<Figure size 1296x288 with 1 Axes>"
      ]
     },
     "metadata": {
      "needs_background": "light"
     },
     "output_type": "display_data"
    }
   ],
   "source": [
    "fig = plt.figure(figsize=(18,4))\n",
    "compute_mean_by_occupation(ratings).plot(kind=\"bar\", ylim=(2.5,4))"
   ]
  },
  {
   "cell_type": "markdown",
   "metadata": {
    "deletable": false,
    "editable": false,
    "nbgrader": {
     "cell_type": "markdown",
     "checksum": "89b31ab9c214bcde9d673368be3a012f",
     "grade": false,
     "grade_id": "cell-c22c1dd1a588c2b0",
     "locked": true,
     "schema_version": 3,
     "solution": false,
     "task": false
    }
   },
   "source": [
    "# Q4.4\\* Plot the averages by occupation _and_ gender on a multiple bar plot. (4 points)\n",
    "\n",
    "Tip: there is an example of a multiple bar plot [here](https://pandas.pydata.org/pandas-docs/stable/user_guide/visualization.html)\n",
    "\n",
    "Tip 2: there are many ways to solve this problem, one is a one-liner using `DataFrame.unstack`."
   ]
  },
  {
   "cell_type": "code",
   "execution_count": 76,
   "metadata": {
    "deletable": false,
    "nbgrader": {
     "cell_type": "code",
     "checksum": "9512ec25f649d8bad7cdd01ebdd3ea5f",
     "grade": true,
     "grade_id": "cell-5021952b9f0c448a",
     "locked": false,
     "points": 4,
     "schema_version": 3,
     "solution": true,
     "task": false
    }
   },
   "outputs": [
    {
     "ename": "NotImplementedError",
     "evalue": "",
     "output_type": "error",
     "traceback": [
      "\u001b[0;31m---------------------------------------------------------------------------\u001b[0m",
      "\u001b[0;31mNotImplementedError\u001b[0m                       Traceback (most recent call last)",
      "\u001b[0;32m<ipython-input-76-15b94d1fa268>\u001b[0m in \u001b[0;36m<module>\u001b[0;34m\u001b[0m\n\u001b[1;32m      1\u001b[0m \u001b[0;31m# YOUR CODE HERE\u001b[0m\u001b[0;34m\u001b[0m\u001b[0;34m\u001b[0m\u001b[0;34m\u001b[0m\u001b[0m\n\u001b[0;32m----> 2\u001b[0;31m \u001b[0;32mraise\u001b[0m \u001b[0mNotImplementedError\u001b[0m\u001b[0;34m(\u001b[0m\u001b[0;34m)\u001b[0m\u001b[0;34m\u001b[0m\u001b[0;34m\u001b[0m\u001b[0m\n\u001b[0m",
      "\u001b[0;31mNotImplementedError\u001b[0m: "
     ]
    }
   ],
   "source": [
    "# YOUR CODE HERE\n",
    "raise NotImplementedError()"
   ]
  },
  {
   "cell_type": "markdown",
   "metadata": {
    "deletable": false,
    "editable": false,
    "nbgrader": {
     "cell_type": "markdown",
     "checksum": "1545662111d95fe14f08813d898ff369",
     "grade": false,
     "grade_id": "cell-d820b4cb52675d3c",
     "locked": true,
     "schema_version": 3,
     "solution": false,
     "task": false
    }
   },
   "source": [
    "# Q4.5 How likely are different age groups to rate movies? Compute the number of ratings by age grouped into 10-19, 20-29, etc. Plot it on a bar chart.\n",
    "\n",
    "## Step 1. Number of ratings by age group (3 points)"
   ]
  },
  {
   "cell_type": "code",
   "execution_count": 77,
   "metadata": {
    "deletable": false,
    "nbgrader": {
     "cell_type": "code",
     "checksum": "adc8eb4b9e0c0a386eddfa02ae1ed03e",
     "grade": false,
     "grade_id": "cell-a82cc48886fbc62f",
     "locked": false,
     "schema_version": 3,
     "solution": true,
     "task": false
    }
   },
   "outputs": [],
   "source": [
    "def count_ratings_by_age_group(ratings):\n",
    "    temp = ratings.rating.groupby(ratings.age).size()\n",
    "    labels = [0,10,20,30,40,50,60,70]\n",
    "    interval = pd.cut(ratings.age, bins=[0, 9, 19, 29, 39, 49, 59, 69, 79], labels=labels)\n",
    "    return ratings.rating.groupby(interval).size()"
   ]
  },
  {
   "cell_type": "code",
   "execution_count": 78,
   "metadata": {
    "deletable": false,
    "editable": false,
    "nbgrader": {
     "cell_type": "code",
     "checksum": "7a2271de7d7d192e771b67c33f8b1d02",
     "grade": true,
     "grade_id": "cell-73dee03b16d3defa",
     "locked": true,
     "points": 3,
     "schema_version": 3,
     "solution": false,
     "task": false
    }
   },
   "outputs": [],
   "source": [
    "rating_by_age_group = count_ratings_by_age_group(ratings)\n",
    "\n",
    "assert isinstance(rating_by_age_group, pd.Series)\n",
    "assert 20 in rating_by_age_group\n",
    "assert 25 not in rating_by_age_group"
   ]
  },
  {
   "cell_type": "markdown",
   "metadata": {
    "deletable": false,
    "editable": false,
    "nbgrader": {
     "cell_type": "markdown",
     "checksum": "2a8a801690421a373d680bf218e943a3",
     "grade": false,
     "grade_id": "cell-f96dcbfba5aef63f",
     "locked": true,
     "schema_version": 3,
     "solution": false,
     "task": false
    }
   },
   "source": [
    "## Step 2. Plot it on a bar chart. (2 points)"
   ]
  },
  {
   "cell_type": "code",
   "execution_count": 79,
   "metadata": {
    "deletable": false,
    "nbgrader": {
     "cell_type": "code",
     "checksum": "06da6fa11d3584f515fa542a2880497e",
     "grade": true,
     "grade_id": "cell-530304f15f352665",
     "locked": false,
     "points": 2,
     "schema_version": 3,
     "solution": true,
     "task": false
    }
   },
   "outputs": [
    {
     "data": {
      "text/plain": [
       "<matplotlib.axes._subplots.AxesSubplot at 0x1a254d1d90>"
      ]
     },
     "execution_count": 79,
     "metadata": {},
     "output_type": "execute_result"
    },
    {
     "data": {
      "image/png": "[encoded data removed]",
      "text/plain": [
       "<Figure size 432x288 with 1 Axes>"
      ]
     },
     "metadata": {
      "needs_background": "light"
     },
     "output_type": "display_data"
    }
   ],
   "source": [
    "count_ratings_by_age_group(ratings).plot(kind=\"bar\")"
   ]
  },
  {
   "cell_type": "markdown",
   "metadata": {
    "deletable": false,
    "editable": false,
    "nbgrader": {
     "cell_type": "markdown",
     "checksum": "9c959548b8d33e3c42f8eb6b00ac86ec",
     "grade": false,
     "grade_id": "cell-1de490e57ca493e9",
     "locked": true,
     "schema_version": 3,
     "solution": false,
     "task": false
    }
   },
   "source": [
    "# Q4.6 What hour of the day do different occupations rate? (3 points)\n",
    "\n",
    "## Create a function that computes the number of ratings per hour for a single occupation."
   ]
  },
  {
   "cell_type": "code",
   "execution_count": 80,
   "metadata": {
    "deletable": false,
    "nbgrader": {
     "cell_type": "code",
     "checksum": "d5acc77c1b68e5d1494a2748495e8538",
     "grade": false,
     "grade_id": "cell-f5c5b35fe828a728",
     "locked": false,
     "schema_version": 3,
     "solution": true,
     "task": false
    }
   },
   "outputs": [],
   "source": [
    "def count_rating_by_hour_occupation(ratings, occupation):\n",
    "    return ratings[ratings.occupation == occupation].rating.groupby(ratings.timestamp.dt.hour).size()"
   ]
  },
  {
   "cell_type": "code",
   "execution_count": 81,
   "metadata": {
    "deletable": false,
    "editable": false,
    "nbgrader": {
     "cell_type": "code",
     "checksum": "6f9070d1643e5c971455caf624db7a82",
     "grade": true,
     "grade_id": "cell-ff66560b26007766",
     "locked": true,
     "points": 3,
     "schema_version": 3,
     "solution": false,
     "task": false
    }
   },
   "outputs": [],
   "source": [
    "marketing = count_rating_by_hour_occupation(ratings, \"marketing\")\n",
    "assert isinstance(marketing, pd.Series)\n",
    "\n",
    "# there are only 24 hours\n",
    "assert len(marketing) < 25"
   ]
  },
  {
   "cell_type": "markdown",
   "metadata": {
    "deletable": false,
    "editable": false,
    "nbgrader": {
     "cell_type": "markdown",
     "checksum": "6fbe8ad9d9663b2b53cb2416cd2b3fe8",
     "grade": false,
     "grade_id": "cell-b5cdb2018c92be77",
     "locked": true,
     "schema_version": 3,
     "solution": false,
     "task": false
    }
   },
   "source": [
    "# Q4.7\\* Plot the rating hours of marketing employees and programmers on two pie charts. (4 points)\n",
    "\n",
    "A two-subplot figure is created. `ax` is an array of the two subplots, use `ax[0]` for marketing employees and `ax[1]` for programmers. Set the titles of the subplots accordingly."
   ]
  },
  {
   "cell_type": "code",
   "execution_count": 82,
   "metadata": {
    "deletable": false,
    "nbgrader": {
     "cell_type": "code",
     "checksum": "0918830938a145812f74d2c36946123d",
     "grade": true,
     "grade_id": "cell-a231aafe97336083",
     "locked": false,
     "points": 4,
     "schema_version": 3,
     "solution": true,
     "task": false
    }
   },
   "outputs": [
    {
     "data": {
      "text/plain": [
       "<matplotlib.axes._subplots.AxesSubplot at 0x1a268d7510>"
      ]
     },
     "execution_count": 82,
     "metadata": {},
     "output_type": "execute_result"
    },
    {
     "data": {
      "image/png": "[encoded data removed]",
      "text/plain": [
       "<Figure size 864x432 with 2 Axes>"
      ]
     },
     "metadata": {},
     "output_type": "display_data"
    }
   ],
   "source": [
    "fig, ax = plt.subplots(1, 2, figsize=(12, 6))\n",
    "count_rating_by_hour_occupation(ratings, \"marketing\").plot(kind=\"pie\", ax=ax[0], title=\"Rating hours of marketing employees\")\n",
    "count_rating_by_hour_occupation(ratings, \"programmer\").plot(kind=\"pie\", ax=ax[1], title=\"Rating hours of programmers\")"
   ]
  },
  {
   "cell_type": "markdown",
   "metadata": {},
   "source": [
    "# Q4.8\\* Do older people prefer movies with longer titles? Compute the average title length by age group (0-10, 10-20).\n",
    "\n",
    "## Step1. compute mean length (4 points)\n",
    "\n",
    "Tip: You should probably create a copy of some of the columns."
   ]
  },
  {
   "cell_type": "code",
   "execution_count": 83,
   "metadata": {
    "deletable": false,
    "nbgrader": {
     "cell_type": "code",
     "checksum": "29edc2883060b43b24aa7a202b613361",
     "grade": false,
     "grade_id": "cell-a477b0d3165cdcd8",
     "locked": false,
     "schema_version": 3,
     "solution": true,
     "task": false
    }
   },
   "outputs": [],
   "source": [
    "def get_mean_length_by_age_group(ratings):\n",
    "    labels = [0,10,20,30,40,50,60,70]\n",
    "    interval = pd.cut(ratings.age, bins=[0, 9, 19, 29, 39, 49, 59, 69, 79], labels=labels)\n",
    "    return ratings.title.apply(lambda t: len(t)).groupby(interval).mean()"
   ]
  },
  {
   "cell_type": "code",
   "execution_count": 84,
   "metadata": {
    "deletable": false,
    "editable": false,
    "nbgrader": {
     "cell_type": "code",
     "checksum": "2a24e18f92841bc548cd761bd7e33abf",
     "grade": true,
     "grade_id": "cell-3d5dc90bf06f6b36",
     "locked": true,
     "points": 4,
     "schema_version": 3,
     "solution": false,
     "task": false
    }
   },
   "outputs": [],
   "source": [
    "title_len_by_age = get_mean_length_by_age_group(ratings)\n",
    "assert isinstance(title_len_by_age, pd.Series)\n",
    "assert len(title_len_by_age) == 8\n",
    "# titles are long\n",
    "assert title_len_by_age.min() >= 20\n",
    "\n",
    "# index should contain the lower bound of the age group\n",
    "assert 0 in title_len_by_age.index\n",
    "assert 20 in title_len_by_age.index\n",
    "# the maximum age in the dataset is 73, there should be no 80-90 age group\n",
    "assert 80 not in title_len_by_age.index"
   ]
  },
  {
   "cell_type": "markdown",
   "metadata": {
    "deletable": false,
    "editable": false,
    "nbgrader": {
     "cell_type": "markdown",
     "checksum": "feaea6f44245f19fd3f4a6df840587ce",
     "grade": false,
     "grade_id": "cell-58823f30294de150",
     "locked": true,
     "schema_version": 3,
     "solution": false,
     "task": false
    }
   },
   "source": [
    "## Step 2. Plot it on a bar chart. Choose a reasonable range for the y-axis. (2 points)"
   ]
  },
  {
   "cell_type": "code",
   "execution_count": 85,
   "metadata": {
    "deletable": false,
    "nbgrader": {
     "cell_type": "code",
     "checksum": "7b2b8037e7f9475855afe2dc0af7ee0f",
     "grade": true,
     "grade_id": "cell-ad06e211e16b0289",
     "locked": false,
     "points": 2,
     "schema_version": 3,
     "solution": true,
     "task": false
    }
   },
   "outputs": [
    {
     "data": {
      "text/plain": [
       "<matplotlib.axes._subplots.AxesSubplot at 0x1a26936750>"
      ]
     },
     "execution_count": 85,
     "metadata": {},
     "output_type": "execute_result"
    },
    {
     "data": {
      "image/png": "[encoded data removed]",
      "text/plain": [
       "<Figure size 432x288 with 1 Axes>"
      ]
     },
     "metadata": {
      "needs_background": "light"
     },
     "output_type": "display_data"
    }
   ],
   "source": [
    "get_mean_length_by_age_group(ratings).plot(kind=\"bar\", ylim=(20,25))"
   ]
  },
  {
   "cell_type": "markdown",
   "metadata": {
    "deletable": false,
    "editable": false,
    "nbgrader": {
     "cell_type": "markdown",
     "checksum": "913e51d42eefc11763ccd06f56fe3b48",
     "grade": false,
     "grade_id": "cell-557a5e7027ae75c0",
     "locked": true,
     "schema_version": 3,
     "solution": false,
     "task": false
    }
   },
   "source": [
    "# Problem Set 5. A simple recommendation system\n",
    "\n",
    "Let's build a simple recommendation system that finds similar movies based on genre.\n",
    "\n",
    "# Q5.1. Extract genre information as a matrix. (2 points)\n",
    "\n",
    "The `.values` attribute represents the underlying values as a Numpy ndarray."
   ]
  },
  {
   "cell_type": "code",
   "execution_count": 86,
   "metadata": {
    "deletable": false,
    "nbgrader": {
     "cell_type": "code",
     "checksum": "8a56fb56e4f58e3e28759ad035f62fab",
     "grade": false,
     "grade_id": "cell-e61406058a172d75",
     "locked": false,
     "schema_version": 3,
     "solution": true,
     "task": false
    }
   },
   "outputs": [],
   "source": [
    "#X = ...\n",
    "X = df[genres].values"
   ]
  },
  {
   "cell_type": "code",
   "execution_count": 87,
   "metadata": {
    "deletable": false,
    "editable": false,
    "nbgrader": {
     "cell_type": "code",
     "checksum": "c3006d825731bd5d31dcf003f4bf56ee",
     "grade": true,
     "grade_id": "cell-812510a5d2711504",
     "locked": true,
     "points": 2,
     "schema_version": 3,
     "solution": false,
     "task": false
    }
   },
   "outputs": [],
   "source": [
    "assert isinstance(X, np.ndarray)\n",
    "# shape should be movies X genres\n",
    "assert X.shape == (1682, 19)\n",
    "assert list(np.unique(X)) == [0, 1]"
   ]
  },
  {
   "cell_type": "markdown",
   "metadata": {
    "deletable": false,
    "editable": false,
    "nbgrader": {
     "cell_type": "markdown",
     "checksum": "6505dfc7cdd8738fd641a17726015b50",
     "grade": false,
     "grade_id": "cell-2fd24af8dd58f467",
     "locked": true,
     "schema_version": 3,
     "solution": false,
     "task": false
    }
   },
   "source": [
    "# Q5.2 Run the k-nearest neighbor algorithm on X. (3 points)\n",
    "\n",
    "Find a usage example in the [documentation](https://scikit-learn.org/stable/modules/neighbors.html) of `NearestNeighbors`.\n",
    "\n",
    "Store the indices in a variable names `indices`.\n",
    "\n",
    "`K` is the number of nearest neighbors. It should be a parameter of your function."
   ]
  },
  {
   "cell_type": "code",
   "execution_count": 88,
   "metadata": {
    "deletable": false,
    "nbgrader": {
     "cell_type": "code",
     "checksum": "ea37fbe8006e4bb5a0347a7529be8aed",
     "grade": false,
     "grade_id": "cell-0c7b2b4e80f585ce",
     "locked": false,
     "schema_version": 3,
     "solution": true,
     "task": false
    }
   },
   "outputs": [],
   "source": [
    "from sklearn.neighbors import NearestNeighbors\n",
    "def run_knn(X, K):\n",
    "    nbrs = NearestNeighbors(n_neighbors=K, algorithm='ball_tree').fit(X)\n",
    "    distances, indices = nbrs.kneighbors(X)\n",
    "    return indices"
   ]
  },
  {
   "cell_type": "code",
   "execution_count": 89,
   "metadata": {
    "deletable": false,
    "editable": false,
    "nbgrader": {
     "cell_type": "code",
     "checksum": "019195f177240f712ffd427a9be43a62",
     "grade": true,
     "grade_id": "cell-3c0cee4015b781b6",
     "locked": true,
     "points": 3,
     "schema_version": 3,
     "solution": false,
     "task": false
    }
   },
   "outputs": [],
   "source": [
    "assert run_knn(X, 2).shape == (1682, 2)\n",
    "K = 4\n",
    "indices = run_knn(X, K)\n",
    "assert isinstance(indices, np.ndarray)\n",
    "assert indices.shape[1] == K"
   ]
  },
  {
   "cell_type": "markdown",
   "metadata": {
    "deletable": false,
    "editable": false,
    "nbgrader": {
     "cell_type": "markdown",
     "checksum": "8d37bc1ce2773a8a7aca0ff697dcc582",
     "grade": false,
     "grade_id": "cell-9341003465e7e549",
     "locked": true,
     "schema_version": 3,
     "solution": false,
     "task": false
    }
   },
   "source": [
    "`indices` is more convenient as a DataFrame"
   ]
  },
  {
   "cell_type": "code",
   "execution_count": 90,
   "metadata": {},
   "outputs": [],
   "source": [
    "ind = pd.DataFrame(indices)"
   ]
  },
  {
   "cell_type": "markdown",
   "metadata": {
    "deletable": false,
    "editable": false,
    "nbgrader": {
     "cell_type": "markdown",
     "checksum": "3f8912355f5ebf62c28f5dcc07f102fb",
     "grade": false,
     "grade_id": "cell-f4d615b7ee75a38b",
     "locked": true,
     "schema_version": 3,
     "solution": false,
     "task": false
    }
   },
   "source": [
    "# Q5.3 Increment by one (3 points)\n",
    "\n",
    "The index of this DataFrame refers to a particular movie and the rest of the rows are the indices of similar movies. The problem is that this matrix is zero-indexed, while the dataset (`movies` table) is indexed from 1.\n",
    "\n",
    "Both the index and all values should be increased by one."
   ]
  },
  {
   "cell_type": "code",
   "execution_count": 91,
   "metadata": {
    "deletable": false,
    "nbgrader": {
     "cell_type": "code",
     "checksum": "0fd4fa33d2a519e8b00f7bcff436bde7",
     "grade": false,
     "grade_id": "cell-f803a1ab03a91bfe",
     "locked": false,
     "schema_version": 3,
     "solution": true,
     "task": false
    }
   },
   "outputs": [],
   "source": [
    "def increment_table(df):\n",
    "    temp = pd.DataFrame(df.values + 1)\n",
    "    temp.index = range(1,len(temp)+1)\n",
    "    return temp"
   ]
  },
  {
   "cell_type": "code",
   "execution_count": 92,
   "metadata": {
    "deletable": false,
    "editable": false,
    "nbgrader": {
     "cell_type": "code",
     "checksum": "53835d3103c46bf38cd55a334a9b4284",
     "grade": true,
     "grade_id": "cell-cbaa4664c55cace3",
     "locked": true,
     "points": 3,
     "schema_version": 3,
     "solution": false,
     "task": false
    }
   },
   "outputs": [],
   "source": [
    "indices = increment_table(ind)\n",
    "assert indices.shape[1] == 4\n",
    "assert indices.index[0] == 1\n",
    "assert indices.index[-1] == len(indices)"
   ]
  },
  {
   "cell_type": "code",
   "execution_count": 93,
   "metadata": {},
   "outputs": [
    {
     "data": {
      "text/html": [
       "<div>\n",
       "<style scoped>\n",
       "    .dataframe tbody tr th:only-of-type {\n",
       "        vertical-align: middle;\n",
       "    }\n",
       "\n",
       "    .dataframe tbody tr th {\n",
       "        vertical-align: top;\n",
       "    }\n",
       "\n",
       "    .dataframe thead th {\n",
       "        text-align: right;\n",
       "    }\n",
       "</style>\n",
       "<table border=\"1\" class=\"dataframe\">\n",
       "  <thead>\n",
       "    <tr style=\"text-align: right;\">\n",
       "      <th></th>\n",
       "      <th>0</th>\n",
       "      <th>1</th>\n",
       "      <th>2</th>\n",
       "      <th>3</th>\n",
       "    </tr>\n",
       "  </thead>\n",
       "  <tbody>\n",
       "    <tr>\n",
       "      <th>1</th>\n",
       "      <td>1</td>\n",
       "      <td>422</td>\n",
       "      <td>138</td>\n",
       "      <td>63</td>\n",
       "    </tr>\n",
       "    <tr>\n",
       "      <th>2</th>\n",
       "      <td>566</td>\n",
       "      <td>117</td>\n",
       "      <td>118</td>\n",
       "      <td>2</td>\n",
       "    </tr>\n",
       "    <tr>\n",
       "      <th>3</th>\n",
       "      <td>3</td>\n",
       "      <td>198</td>\n",
       "      <td>218</td>\n",
       "      <td>359</td>\n",
       "    </tr>\n",
       "    <tr>\n",
       "      <th>4</th>\n",
       "      <td>74</td>\n",
       "      <td>4</td>\n",
       "      <td>34</td>\n",
       "      <td>47</td>\n",
       "    </tr>\n",
       "    <tr>\n",
       "      <th>5</th>\n",
       "      <td>5</td>\n",
       "      <td>100</td>\n",
       "      <td>329</td>\n",
       "      <td>332</td>\n",
       "    </tr>\n",
       "  </tbody>\n",
       "</table>\n",
       "</div>"
      ],
      "text/plain": [
       "     0    1    2    3\n",
       "1    1  422  138   63\n",
       "2  566  117  118    2\n",
       "3    3  198  218  359\n",
       "4   74    4   34   47\n",
       "5    5  100  329  332"
      ]
     },
     "execution_count": 93,
     "metadata": {},
     "output_type": "execute_result"
    }
   ],
   "source": [
    "indices.head()"
   ]
  },
  {
   "cell_type": "markdown",
   "metadata": {
    "deletable": false,
    "editable": false,
    "nbgrader": {
     "cell_type": "markdown",
     "checksum": "9c13504fb1323c9980bf19e0b0ffe995",
     "grade": false,
     "grade_id": "cell-6dc777a7e1135ed8",
     "locked": true,
     "schema_version": 3,
     "solution": false,
     "task": false
    }
   },
   "source": [
    "# Q5.4\\* Find the movies corresponding to these indices (5 points)\n",
    "\n",
    "You'll need multiple merge operations.\n",
    "\n",
    "Tip: the names of the columns in `indices` are not strings but integers, you can rename the columns of a dataframe:\n",
    "\n",
    "~~~\n",
    "df = df.rename(columns={'old': 'new', 'other old': 'other new'})\n",
    "~~~\n",
    "\n",
    "You can discard all other columns."
   ]
  },
  {
   "cell_type": "code",
   "execution_count": 94,
   "metadata": {
    "deletable": false,
    "nbgrader": {
     "cell_type": "code",
     "checksum": "f5b899df0e8cd4e94c8a65e383cf9485",
     "grade": false,
     "grade_id": "cell-9ecfefb874db3bb3",
     "locked": false,
     "schema_version": 3,
     "solution": true,
     "task": false
    },
    "scrolled": false
   },
   "outputs": [],
   "source": [
    "def find_neighbor_titles(movies, indices):\n",
    "    indices[0] = indices[0].apply(lambda t: movies.loc[t].title)\n",
    "    indices[1] = indices[1].apply(lambda t: movies.loc[t].title)\n",
    "    indices[2] = indices[2].apply(lambda t: movies.loc[t].title)\n",
    "    indices[3] = indices[3].apply(lambda t: movies.loc[t].title)\n",
    "    indices = indices.rename(columns={0: \"First\", 1: \"Second\", 2: \"Third\", 3: \"Fourth\"})\n",
    "    return indices"
   ]
  },
  {
   "cell_type": "code",
   "execution_count": 95,
   "metadata": {
    "deletable": false,
    "editable": false,
    "nbgrader": {
     "cell_type": "code",
     "checksum": "0952723f1cf4de41e7409c4ec5852f18",
     "grade": true,
     "grade_id": "cell-3d78e3d934ed0e1e",
     "locked": true,
     "points": 5,
     "schema_version": 3,
     "solution": false,
     "task": false
    }
   },
   "outputs": [],
   "source": [
    "neighbors = find_neighbor_titles(movies, indices)\n",
    "assert isinstance(neighbors, pd.DataFrame)\n",
    "assert neighbors.shape[1] == K"
   ]
  },
  {
   "cell_type": "code",
   "execution_count": 96,
   "metadata": {},
   "outputs": [
    {
     "data": {
      "text/html": [
       "<div>\n",
       "<style scoped>\n",
       "    .dataframe tbody tr th:only-of-type {\n",
       "        vertical-align: middle;\n",
       "    }\n",
       "\n",
       "    .dataframe tbody tr th {\n",
       "        vertical-align: top;\n",
       "    }\n",
       "\n",
       "    .dataframe thead th {\n",
       "        text-align: right;\n",
       "    }\n",
       "</style>\n",
       "<table border=\"1\" class=\"dataframe\">\n",
       "  <thead>\n",
       "    <tr style=\"text-align: right;\">\n",
       "      <th></th>\n",
       "      <th>First</th>\n",
       "      <th>Second</th>\n",
       "      <th>Third</th>\n",
       "      <th>Fourth</th>\n",
       "    </tr>\n",
       "  </thead>\n",
       "  <tbody>\n",
       "    <tr>\n",
       "      <th>1</th>\n",
       "      <td>Toy Story (1995)</td>\n",
       "      <td>Aladdin and the King of Thieves (1996)</td>\n",
       "      <td>D3: The Mighty Ducks (1996)</td>\n",
       "      <td>Santa Clause, The (1994)</td>\n",
       "    </tr>\n",
       "    <tr>\n",
       "      <th>2</th>\n",
       "      <td>Clear and Present Danger (1994)</td>\n",
       "      <td>Rock, The (1996)</td>\n",
       "      <td>Twister (1996)</td>\n",
       "      <td>GoldenEye (1995)</td>\n",
       "    </tr>\n",
       "    <tr>\n",
       "      <th>3</th>\n",
       "      <td>Four Rooms (1995)</td>\n",
       "      <td>Nikita (La Femme Nikita) (1990)</td>\n",
       "      <td>Cape Fear (1991)</td>\n",
       "      <td>Assignment, The (1997)</td>\n",
       "    </tr>\n",
       "    <tr>\n",
       "      <th>4</th>\n",
       "      <td>Faster Pussycat! Kill! Kill! (1965)</td>\n",
       "      <td>Get Shorty (1995)</td>\n",
       "      <td>Doom Generation, The (1995)</td>\n",
       "      <td>Ed Wood (1994)</td>\n",
       "    </tr>\n",
       "    <tr>\n",
       "      <th>5</th>\n",
       "      <td>Copycat (1995)</td>\n",
       "      <td>Fargo (1996)</td>\n",
       "      <td>Desperate Measures (1998)</td>\n",
       "      <td>Kiss the Girls (1997)</td>\n",
       "    </tr>\n",
       "  </tbody>\n",
       "</table>\n",
       "</div>"
      ],
      "text/plain": [
       "                                 First  \\\n",
       "1                     Toy Story (1995)   \n",
       "2      Clear and Present Danger (1994)   \n",
       "3                    Four Rooms (1995)   \n",
       "4  Faster Pussycat! Kill! Kill! (1965)   \n",
       "5                       Copycat (1995)   \n",
       "\n",
       "                                   Second                        Third  \\\n",
       "1  Aladdin and the King of Thieves (1996)  D3: The Mighty Ducks (1996)   \n",
       "2                        Rock, The (1996)               Twister (1996)   \n",
       "3         Nikita (La Femme Nikita) (1990)             Cape Fear (1991)   \n",
       "4                       Get Shorty (1995)  Doom Generation, The (1995)   \n",
       "5                            Fargo (1996)    Desperate Measures (1998)   \n",
       "\n",
       "                     Fourth  \n",
       "1  Santa Clause, The (1994)  \n",
       "2          GoldenEye (1995)  \n",
       "3    Assignment, The (1997)  \n",
       "4            Ed Wood (1994)  \n",
       "5     Kiss the Girls (1997)  "
      ]
     },
     "execution_count": 96,
     "metadata": {},
     "output_type": "execute_result"
    }
   ],
   "source": [
    "neighbors.head()"
   ]
  },
  {
   "cell_type": "markdown",
   "metadata": {
    "deletable": false,
    "editable": false,
    "nbgrader": {
     "cell_type": "markdown",
     "checksum": "e2a1592ffe91c7ddd7530db69db6c1d0",
     "grade": false,
     "grade_id": "cell-8a157df0a25f71b6",
     "locked": true,
     "schema_version": 3,
     "solution": false,
     "task": false
    }
   },
   "source": [
    "# Q5.5\\* Replace the index of the movie by its title. (2 points)"
   ]
  },
  {
   "cell_type": "code",
   "execution_count": 97,
   "metadata": {
    "deletable": false,
    "nbgrader": {
     "cell_type": "code",
     "checksum": "b369ca9ebf8e84bad52fb08b074af3e2",
     "grade": false,
     "grade_id": "cell-56307e9b1c8bb1a2",
     "locked": false,
     "schema_version": 3,
     "solution": true,
     "task": false
    }
   },
   "outputs": [],
   "source": [
    "def recover_titles(movies, neighbors):\n",
    "    return pd.merge(movies.title, indices, left_on='movie_id', right_index=True).set_index(\"title\")"
   ]
  },
  {
   "cell_type": "code",
   "execution_count": 98,
   "metadata": {
    "deletable": false,
    "editable": false,
    "nbgrader": {
     "cell_type": "code",
     "checksum": "b6e2b2d4d3c8cbb5ee9939ee86c41561",
     "grade": true,
     "grade_id": "cell-01a6c7f120064a82",
     "locked": true,
     "points": 2,
     "schema_version": 3,
     "solution": false,
     "task": false
    }
   },
   "outputs": [],
   "source": [
    "most_similar = recover_titles(movies, neighbors)\n",
    "\n",
    "assert type(most_similar) == pd.DataFrame\n",
    "assert \"Toy Story (1995)\" in most_similar.index"
   ]
  },
  {
   "cell_type": "markdown",
   "metadata": {
    "deletable": false,
    "editable": false,
    "nbgrader": {
     "cell_type": "markdown",
     "checksum": "cc853f270aec6af48552480bce3fc1f0",
     "grade": false,
     "grade_id": "cell-2f5d00d5fc09d5ae",
     "locked": true,
     "schema_version": 3,
     "solution": false,
     "task": false
    }
   },
   "source": [
    "# Q5.6\\*\\* Improve your recommedation system by adding other columns. (5 points)\n",
    "\n",
    "Tips: you can add the average rating of a movie by occupation/age group/gender\n",
    "\n",
    "Please fit your solution in one cell."
   ]
  },
  {
   "cell_type": "code",
   "execution_count": null,
   "metadata": {
    "deletable": false,
    "nbgrader": {
     "cell_type": "code",
     "checksum": "047605426e92347270d51e580bf076d3",
     "grade": true,
     "grade_id": "cell-26e8eb09f7215675",
     "locked": false,
     "points": 5,
     "schema_version": 3,
     "solution": true,
     "task": false
    }
   },
   "outputs": [],
   "source": [
    "# YOUR CODE HERE\n",
    "raise NotImplementedError()"
   ]
  },
  {
   "cell_type": "markdown",
   "metadata": {
    "deletable": false,
    "editable": false,
    "nbgrader": {
     "cell_type": "markdown",
     "checksum": "c59c08c02cf0ef581164aa5ccb191f36",
     "grade": false,
     "grade_id": "cell-c92d973c87e77e9e",
     "locked": true,
     "schema_version": 3,
     "solution": false,
     "task": false
    }
   },
   "source": [
    "# Q6\\* Extra (3 points)\n",
    "\n",
    "Add any extra observations that you find interesting. Did you find any interesting patterns in the dataset? Are certain genres more appealing to particular demographic groups?\n",
    "\n",
    "You can add multiple observations for extra points.\n",
    "\n",
    "Please explain your answer in this field (double click on YOUR CODE GOES HERE):"
   ]
  },
  {
   "cell_type": "markdown",
   "metadata": {
    "deletable": false,
    "nbgrader": {
     "cell_type": "markdown",
     "checksum": "8d224231877794e1cccf2f5100b9a7ec",
     "grade": true,
     "grade_id": "cell-dc51d3f6a1b6a2b0",
     "locked": false,
     "points": 0,
     "schema_version": 3,
     "solution": true,
     "task": false
    }
   },
   "source": [
    "YOUR ANSWER HERE"
   ]
  },
  {
   "cell_type": "markdown",
   "metadata": {
    "deletable": false,
    "editable": false,
    "nbgrader": {
     "cell_type": "markdown",
     "checksum": "2ac48ba87bda39030465eb914b86d364",
     "grade": false,
     "grade_id": "cell-478d23d54e71086c",
     "locked": true,
     "schema_version": 3,
     "solution": false,
     "task": false
    }
   },
   "source": [
    "And the code here:"
   ]
  },
  {
   "cell_type": "code",
   "execution_count": null,
   "metadata": {
    "deletable": false,
    "nbgrader": {
     "cell_type": "code",
     "checksum": "6f2cac040b2e90fe7a9ba7d778ae34c5",
     "grade": true,
     "grade_id": "cell-90a76309e3f16564",
     "locked": false,
     "points": 0,
     "schema_version": 3,
     "solution": true,
     "task": false
    }
   },
   "outputs": [],
   "source": [
    "# YOUR CODE HERE\n",
    "raise NotImplementedError()"
   ]
  },
  {
   "cell_type": "markdown",
   "metadata": {
    "deletable": false,
    "editable": false,
    "nbgrader": {
     "cell_type": "markdown",
     "checksum": "801fab6772d2834b3446440e1c64c564",
     "grade": false,
     "grade_id": "cell-c9859f4a10e95188",
     "locked": true,
     "schema_version": 3,
     "solution": false,
     "task": false
    }
   },
   "source": [
    "# Submission\n",
    "\n",
    "You only need to submit this notebook (no separate report).\n",
    "Make sure that you save the last version of your notebook.\n",
    "Please rename the notebook to your neptun code (`ABC123.ipynb`), package it in an archive (`.zip`) and upload it to the class website.\n",
    "You are free to continue working on this problem set after class but make sure that you upload it by the end of the week (Sunday).\n",
    "\n",
    "**VERY IMPORTANT** Run Kernel->Restart & Run All and make sure that it finishes without errors.\n",
    "If you skip exercises, you need to manually run the remaining cells.\n",
    "You can run a single cell and step to the next cell by pressing Shift+Enter.\n",
    "Skipping exercises won't affect the autograder."
   ]
  },
  {
   "cell_type": "markdown",
   "metadata": {
    "deletable": false,
    "editable": false,
    "nbgrader": {
     "cell_type": "markdown",
     "checksum": "52f19428e33430a47cb193dc740bce6f",
     "grade": false,
     "grade_id": "cell-a80ac510ba4fc2a3",
     "locked": true,
     "schema_version": 3,
     "solution": false,
     "task": false
    }
   },
   "source": [
    "Please fill out this [short survey](https://forms.gle/i717e8Mzijjy3Pfk9) after you completed the problems."
   ]
  }
 ],
 "metadata": {
  "kernelspec": {
   "display_name": "Python 3",
   "language": "python",
   "name": "python3"
  },
  "language_info": {
   "codemirror_mode": {
    "name": "ipython",
    "version": 3
   },
   "file_extension": ".py",
   "mimetype": "text/x-python",
   "name": "python",
   "nbconvert_exporter": "python",
   "pygments_lexer": "ipython3",
   "version": "3.7.6"
  },
  "toc": {
   "colors": {
    "hover_highlight": "#DAA520",
    "navigate_num": "#000000",
    "navigate_text": "#333333",
    "running_highlight": "#FF0000",
    "selected_highlight": "#FFD700",
    "sidebar_border": "#EEEEEE",
    "wrapper_background": "#FFFFFF"
   },
   "moveMenuLeft": true,
   "nav_menu": {
    "height": "512px",
    "width": "252px"
   },
   "navigate_menu": true,
   "number_sections": false,
   "sideBar": true,
   "threshold": 4,
   "toc_cell": true,
   "toc_position": {
    "height": "820.433px",
    "left": "0px",
    "right": "1536px",
    "top": "120.567px",
    "width": "302.467px"
   },
   "toc_section_display": "block",
   "toc_window_display": true,
   "widenNotebook": false
  }
 },
 "nbformat": 4,
 "nbformat_minor": 4
}
